{
 "cells": [
  {
   "cell_type": "code",
   "execution_count": 18,
   "metadata": {
    "collapsed": true,
    "ExecuteTime": {
     "end_time": "2023-06-16T12:39:27.072621300Z",
     "start_time": "2023-06-16T12:39:27.028199800Z"
    }
   },
   "outputs": [],
   "source": [
    "import pandas as pd\n",
    "import numpy as np\n",
    "import glob\n",
    "from sklearn.preprocessing import LabelEncoder"
   ]
  },
  {
   "cell_type": "code",
   "execution_count": 19,
   "outputs": [],
   "source": [
    "testa_goods = pd.concat([\n",
    "    pd.read_csv('./测试集a/predict_goods_id/part-00000', header=None, names=['goods_id']),\n",
    "    pd.read_csv('./测试集a/predict_goods_id/part-00001', header=None, names=['goods_id']),\n",
    "], axis=0)\n",
    "\n",
    "testa_user = pd.read_excel('./测试集a/a榜需要预测的uid_5000.xlsx')"
   ],
   "metadata": {
    "collapsed": false,
    "ExecuteTime": {
     "end_time": "2023-06-16T12:39:28.587348Z",
     "start_time": "2023-06-16T12:39:27.050543300Z"
    }
   }
  },
  {
   "cell_type": "code",
   "execution_count": 20,
   "outputs": [
    {
     "data": {
      "text/plain": "                               user_id                          goods_id  \\\n0     db55512e13c666a67dbfeae200bbb77e  d54d39381d7a42a9c07485575b163680   \n1     c37822c30576714979c146f01c7c5863  fb8cb1a06aa0b7abde9d49fb8f5c11af   \n2     9436613aa2b890ee2583d8a198c1760d  acad1299efef91a1d694e548fd91c50f   \n3     9436613aa2b890ee2583d8a198c1760d  883326e4d4929e5f4de59105ef26b713   \n4     9436613aa2b890ee2583d8a198c1760d  0875f9c969e94ddad963697beec2fc2a   \n...                                ...                               ...   \n2293  773d6d45c6dddbfb07675e5e2308dad4  7b96fc04701231fe9f53bb41bbe9fe86   \n2294  773d6d45c6dddbfb07675e5e2308dad4  a957204efd5175bbb05f7a373bf0f846   \n2295  1aaea0961cac2a6b9f9a80dc6e54ff88  9a71e4cf00e71764ce5e0b4866181233   \n2296  1aaea0961cac2a6b9f9a80dc6e54ff88  8dd44fdb33ff5a542e4def14fcaf5305   \n2297  1aaea0961cac2a6b9f9a80dc6e54ff88  10c76d66ac02dc51f4a02f419749e763   \n\n      is_clk  is_like  is_addcart  is_order    expose_start_time        dt  \n0          1        0           1         0  2023-03-03 14:29:16  20230303  \n1          2        0           2         0  2023-03-03 07:30:47  20230303  \n2          1        0           1         0  2023-03-03 17:00:30  20230303  \n3          1        0           1         0  2023-03-03 17:00:45  20230303  \n4          1        0           1         0  2023-03-03 17:12:04  20230303  \n...      ...      ...         ...       ...                  ...       ...  \n2293       1        0           1         0  2023-03-03 06:32:28  20230303  \n2294       1        0           1         0  2023-03-03 06:32:28  20230303  \n2295       1        0           1         0  2023-03-03 16:26:47  20230303  \n2296       1        0           1         0  2023-03-03 16:32:33  20230303  \n2297       1        0           1         0  2023-03-03 16:27:43  20230303  \n\n[2298 rows x 8 columns]",
      "text/html": "<div>\n<style scoped>\n    .dataframe tbody tr th:only-of-type {\n        vertical-align: middle;\n    }\n\n    .dataframe tbody tr th {\n        vertical-align: top;\n    }\n\n    .dataframe thead th {\n        text-align: right;\n    }\n</style>\n<table border=\"1\" class=\"dataframe\">\n  <thead>\n    <tr style=\"text-align: right;\">\n      <th></th>\n      <th>user_id</th>\n      <th>goods_id</th>\n      <th>is_clk</th>\n      <th>is_like</th>\n      <th>is_addcart</th>\n      <th>is_order</th>\n      <th>expose_start_time</th>\n      <th>dt</th>\n    </tr>\n  </thead>\n  <tbody>\n    <tr>\n      <th>0</th>\n      <td>db55512e13c666a67dbfeae200bbb77e</td>\n      <td>d54d39381d7a42a9c07485575b163680</td>\n      <td>1</td>\n      <td>0</td>\n      <td>1</td>\n      <td>0</td>\n      <td>2023-03-03 14:29:16</td>\n      <td>20230303</td>\n    </tr>\n    <tr>\n      <th>1</th>\n      <td>c37822c30576714979c146f01c7c5863</td>\n      <td>fb8cb1a06aa0b7abde9d49fb8f5c11af</td>\n      <td>2</td>\n      <td>0</td>\n      <td>2</td>\n      <td>0</td>\n      <td>2023-03-03 07:30:47</td>\n      <td>20230303</td>\n    </tr>\n    <tr>\n      <th>2</th>\n      <td>9436613aa2b890ee2583d8a198c1760d</td>\n      <td>acad1299efef91a1d694e548fd91c50f</td>\n      <td>1</td>\n      <td>0</td>\n      <td>1</td>\n      <td>0</td>\n      <td>2023-03-03 17:00:30</td>\n      <td>20230303</td>\n    </tr>\n    <tr>\n      <th>3</th>\n      <td>9436613aa2b890ee2583d8a198c1760d</td>\n      <td>883326e4d4929e5f4de59105ef26b713</td>\n      <td>1</td>\n      <td>0</td>\n      <td>1</td>\n      <td>0</td>\n      <td>2023-03-03 17:00:45</td>\n      <td>20230303</td>\n    </tr>\n    <tr>\n      <th>4</th>\n      <td>9436613aa2b890ee2583d8a198c1760d</td>\n      <td>0875f9c969e94ddad963697beec2fc2a</td>\n      <td>1</td>\n      <td>0</td>\n      <td>1</td>\n      <td>0</td>\n      <td>2023-03-03 17:12:04</td>\n      <td>20230303</td>\n    </tr>\n    <tr>\n      <th>...</th>\n      <td>...</td>\n      <td>...</td>\n      <td>...</td>\n      <td>...</td>\n      <td>...</td>\n      <td>...</td>\n      <td>...</td>\n      <td>...</td>\n    </tr>\n    <tr>\n      <th>2293</th>\n      <td>773d6d45c6dddbfb07675e5e2308dad4</td>\n      <td>7b96fc04701231fe9f53bb41bbe9fe86</td>\n      <td>1</td>\n      <td>0</td>\n      <td>1</td>\n      <td>0</td>\n      <td>2023-03-03 06:32:28</td>\n      <td>20230303</td>\n    </tr>\n    <tr>\n      <th>2294</th>\n      <td>773d6d45c6dddbfb07675e5e2308dad4</td>\n      <td>a957204efd5175bbb05f7a373bf0f846</td>\n      <td>1</td>\n      <td>0</td>\n      <td>1</td>\n      <td>0</td>\n      <td>2023-03-03 06:32:28</td>\n      <td>20230303</td>\n    </tr>\n    <tr>\n      <th>2295</th>\n      <td>1aaea0961cac2a6b9f9a80dc6e54ff88</td>\n      <td>9a71e4cf00e71764ce5e0b4866181233</td>\n      <td>1</td>\n      <td>0</td>\n      <td>1</td>\n      <td>0</td>\n      <td>2023-03-03 16:26:47</td>\n      <td>20230303</td>\n    </tr>\n    <tr>\n      <th>2296</th>\n      <td>1aaea0961cac2a6b9f9a80dc6e54ff88</td>\n      <td>8dd44fdb33ff5a542e4def14fcaf5305</td>\n      <td>1</td>\n      <td>0</td>\n      <td>1</td>\n      <td>0</td>\n      <td>2023-03-03 16:32:33</td>\n      <td>20230303</td>\n    </tr>\n    <tr>\n      <th>2297</th>\n      <td>1aaea0961cac2a6b9f9a80dc6e54ff88</td>\n      <td>10c76d66ac02dc51f4a02f419749e763</td>\n      <td>1</td>\n      <td>0</td>\n      <td>1</td>\n      <td>0</td>\n      <td>2023-03-03 16:27:43</td>\n      <td>20230303</td>\n    </tr>\n  </tbody>\n</table>\n<p>2298 rows × 8 columns</p>\n</div>"
     },
     "execution_count": 20,
     "metadata": {},
     "output_type": "execute_result"
    }
   ],
   "source": [
    "train_goods = pd.concat([\n",
    "    pd.read_csv('./训练集/traindata_goodsid/part-00000', header=None, names=['goods_id', 'cat_id', 'brandsn']),\n",
    "    pd.read_csv('./训练集/traindata_goodsid/part-00001', header=None, names=['goods_id', 'cat_id', 'brandsn']),\n",
    "    pd.read_csv('./训练集/traindata_goodsid/part-00002', header=None, names=['goods_id', 'cat_id', 'brandsn'])\n",
    "], axis=0)\n",
    "\n",
    "train_user = pd.concat([\n",
    "    pd.read_csv(x, header=None, names=['user_id', 'goods_id', 'is_clk', 'is_like', 'is_addcart', 'is_order', 'expose_start_time', 'dt'], nrows=None)\n",
    "    for x in glob.glob('./训练集/traindata_user/part*')\n",
    "], axis=0)\n",
    "train_user.sort_values(by='dt', ascending=False, inplace=True)\n",
    "filtered_data = train_user[(train_user['dt'] == 20230303) & (train_user['is_addcart'] != 0) ]\n",
    "merged_data = pd.merge(testa_user, filtered_data, on='user_id', how='inner')\n",
    "merged_data"
   ],
   "metadata": {
    "collapsed": false,
    "ExecuteTime": {
     "end_time": "2023-06-16T12:39:47.564513700Z",
     "start_time": "2023-06-16T12:39:28.592092700Z"
    }
   }
  },
  {
   "cell_type": "code",
   "execution_count": 21,
   "outputs": [
    {
     "name": "stdout",
     "output_type": "stream",
     "text": [
      "列已成功添加到第一行！\n"
     ]
    }
   ],
   "source": [
    "merged_data[['user_id', 'goods_id']].to_csv('u2i.csv', index=None, header=None)\n",
    "import csv\n",
    "\n",
    "# 定义要添加的列名\n",
    "new_columns = [\"user_id\", \"goods_id\"]\n",
    "\n",
    "# 打开原始CSV文件并读取数据\n",
    "with open(\"u2i.csv\", \"r\") as file:\n",
    "    reader = csv.reader(file)\n",
    "    data = list(reader)\n",
    "\n",
    "# 在第一行插入新的列名\n",
    "data[0] = new_columns\n",
    "\n",
    "# 将更新后的数据写入新的CSV文件\n",
    "with open(\"u2i_updated.csv\", \"w\", newline=\"\") as file:\n",
    "    writer = csv.writer(file)\n",
    "    writer.writerows(data)\n",
    "\n",
    "print(\"列已成功添加到第一行！\")"
   ],
   "metadata": {
    "collapsed": false,
    "ExecuteTime": {
     "end_time": "2023-06-16T12:39:47.651338600Z",
     "start_time": "2023-06-16T12:39:47.569006700Z"
    }
   }
  }
 ],
 "metadata": {
  "kernelspec": {
   "display_name": "Python 3",
   "language": "python",
   "name": "python3"
  },
  "language_info": {
   "codemirror_mode": {
    "name": "ipython",
    "version": 2
   },
   "file_extension": ".py",
   "mimetype": "text/x-python",
   "name": "python",
   "nbconvert_exporter": "python",
   "pygments_lexer": "ipython2",
   "version": "2.7.6"
  }
 },
 "nbformat": 4,
 "nbformat_minor": 0
}

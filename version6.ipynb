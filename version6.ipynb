{
 "cells": [
  {
   "cell_type": "markdown",
   "source": [
    "加载数据集"
   ],
   "metadata": {
    "collapsed": false
   }
  },
  {
   "cell_type": "code",
   "execution_count": 2,
   "metadata": {
    "collapsed": true,
    "ExecuteTime": {
     "end_time": "2023-05-31T15:14:55.639139100Z",
     "start_time": "2023-05-31T15:14:53.460784800Z"
    }
   },
   "outputs": [],
   "source": [
    "import pandas as pd\n",
    "import numpy as np\n",
    "import glob\n",
    "from sklearn.preprocessing import LabelEncoder"
   ]
  },
  {
   "cell_type": "code",
   "execution_count": 3,
   "outputs": [],
   "source": [
    "train_goods = pd.concat([\n",
    "    pd.read_csv('./训练集/traindata_goodsid/part-00000', header=None, names=['goods_id', 'cat_id', 'brandsn']),\n",
    "    pd.read_csv('./训练集/traindata_goodsid/part-00001', header=None, names=['goods_id', 'cat_id', 'brandsn']),\n",
    "    pd.read_csv('./训练集/traindata_goodsid/part-00002', header=None, names=['goods_id', 'cat_id', 'brandsn'])\n",
    "], axis=0)\n",
    "\n",
    "train_user = pd.concat([\n",
    "    pd.read_csv(x, header=None, names=['user_id', 'goods_id', 'is_clk', 'is_like', 'is_addcart', 'is_order', 'expose_start_time', 'dt'], nrows=None)\n",
    "    for x in glob.glob('./训练集/traindata_user/part*')\n",
    "], axis=0)"
   ],
   "metadata": {
    "collapsed": false,
    "ExecuteTime": {
     "end_time": "2023-05-31T15:15:09.708465900Z",
     "start_time": "2023-05-31T15:14:55.643147200Z"
    }
   }
  },
  {
   "cell_type": "code",
   "execution_count": 4,
   "outputs": [],
   "source": [
    "testa_goods = pd.concat([\n",
    "    pd.read_csv('./测试集a/predict_goods_id/part-00000', header=None, names=['goods_id', 'cat_id', 'brandsn']),\n",
    "    pd.read_csv('./测试集a/predict_goods_id/part-00001', header=None, names=['goods_id', 'cat_id', 'brandsn']),\n",
    "], axis=0)\n",
    "\n",
    "testa_user = pd.read_excel('./测试集a/a榜需要预测的uid_5000.xlsx')"
   ],
   "metadata": {
    "collapsed": false,
    "ExecuteTime": {
     "end_time": "2023-05-31T15:15:11.111769700Z",
     "start_time": "2023-05-31T15:15:09.711458300Z"
    }
   }
  },
  {
   "cell_type": "code",
   "execution_count": 5,
   "outputs": [
    {
     "data": {
      "text/plain": "LabelEncoder()",
      "text/html": "<style>#sk-container-id-1 {color: black;background-color: white;}#sk-container-id-1 pre{padding: 0;}#sk-container-id-1 div.sk-toggleable {background-color: white;}#sk-container-id-1 label.sk-toggleable__label {cursor: pointer;display: block;width: 100%;margin-bottom: 0;padding: 0.3em;box-sizing: border-box;text-align: center;}#sk-container-id-1 label.sk-toggleable__label-arrow:before {content: \"▸\";float: left;margin-right: 0.25em;color: #696969;}#sk-container-id-1 label.sk-toggleable__label-arrow:hover:before {color: black;}#sk-container-id-1 div.sk-estimator:hover label.sk-toggleable__label-arrow:before {color: black;}#sk-container-id-1 div.sk-toggleable__content {max-height: 0;max-width: 0;overflow: hidden;text-align: left;background-color: #f0f8ff;}#sk-container-id-1 div.sk-toggleable__content pre {margin: 0.2em;color: black;border-radius: 0.25em;background-color: #f0f8ff;}#sk-container-id-1 input.sk-toggleable__control:checked~div.sk-toggleable__content {max-height: 200px;max-width: 100%;overflow: auto;}#sk-container-id-1 input.sk-toggleable__control:checked~label.sk-toggleable__label-arrow:before {content: \"▾\";}#sk-container-id-1 div.sk-estimator input.sk-toggleable__control:checked~label.sk-toggleable__label {background-color: #d4ebff;}#sk-container-id-1 div.sk-label input.sk-toggleable__control:checked~label.sk-toggleable__label {background-color: #d4ebff;}#sk-container-id-1 input.sk-hidden--visually {border: 0;clip: rect(1px 1px 1px 1px);clip: rect(1px, 1px, 1px, 1px);height: 1px;margin: -1px;overflow: hidden;padding: 0;position: absolute;width: 1px;}#sk-container-id-1 div.sk-estimator {font-family: monospace;background-color: #f0f8ff;border: 1px dotted black;border-radius: 0.25em;box-sizing: border-box;margin-bottom: 0.5em;}#sk-container-id-1 div.sk-estimator:hover {background-color: #d4ebff;}#sk-container-id-1 div.sk-parallel-item::after {content: \"\";width: 100%;border-bottom: 1px solid gray;flex-grow: 1;}#sk-container-id-1 div.sk-label:hover label.sk-toggleable__label {background-color: #d4ebff;}#sk-container-id-1 div.sk-serial::before {content: \"\";position: absolute;border-left: 1px solid gray;box-sizing: border-box;top: 0;bottom: 0;left: 50%;z-index: 0;}#sk-container-id-1 div.sk-serial {display: flex;flex-direction: column;align-items: center;background-color: white;padding-right: 0.2em;padding-left: 0.2em;position: relative;}#sk-container-id-1 div.sk-item {position: relative;z-index: 1;}#sk-container-id-1 div.sk-parallel {display: flex;align-items: stretch;justify-content: center;background-color: white;position: relative;}#sk-container-id-1 div.sk-item::before, #sk-container-id-1 div.sk-parallel-item::before {content: \"\";position: absolute;border-left: 1px solid gray;box-sizing: border-box;top: 0;bottom: 0;left: 50%;z-index: -1;}#sk-container-id-1 div.sk-parallel-item {display: flex;flex-direction: column;z-index: 1;position: relative;background-color: white;}#sk-container-id-1 div.sk-parallel-item:first-child::after {align-self: flex-end;width: 50%;}#sk-container-id-1 div.sk-parallel-item:last-child::after {align-self: flex-start;width: 50%;}#sk-container-id-1 div.sk-parallel-item:only-child::after {width: 0;}#sk-container-id-1 div.sk-dashed-wrapped {border: 1px dashed gray;margin: 0 0.4em 0.5em 0.4em;box-sizing: border-box;padding-bottom: 0.4em;background-color: white;}#sk-container-id-1 div.sk-label label {font-family: monospace;font-weight: bold;display: inline-block;line-height: 1.2em;}#sk-container-id-1 div.sk-label-container {text-align: center;}#sk-container-id-1 div.sk-container {/* jupyter's `normalize.less` sets `[hidden] { display: none; }` but bootstrap.min.css set `[hidden] { display: none !important; }` so we also need the `!important` here to be able to override the default hidden behavior on the sphinx rendered scikit-learn.org. See: https://github.com/scikit-learn/scikit-learn/issues/21755 */display: inline-block !important;position: relative;}#sk-container-id-1 div.sk-text-repr-fallback {display: none;}</style><div id=\"sk-container-id-1\" class=\"sk-top-container\"><div class=\"sk-text-repr-fallback\"><pre>LabelEncoder()</pre><b>In a Jupyter environment, please rerun this cell to show the HTML representation or trust the notebook. <br />On GitHub, the HTML representation is unable to render, please try loading this page with nbviewer.org.</b></div><div class=\"sk-container\" hidden><div class=\"sk-item\"><div class=\"sk-estimator sk-toggleable\"><input class=\"sk-toggleable__control sk-hidden--visually\" id=\"sk-estimator-id-1\" type=\"checkbox\" checked><label for=\"sk-estimator-id-1\" class=\"sk-toggleable__label sk-toggleable__label-arrow\">LabelEncoder</label><div class=\"sk-toggleable__content\"><pre>LabelEncoder()</pre></div></div></div></div></div>"
     },
     "execution_count": 5,
     "metadata": {},
     "output_type": "execute_result"
    }
   ],
   "source": [
    "user_encode = LabelEncoder()\n",
    "user_encode.fit(list(train_user['user_id']) + list(train_user['user_id']))\n",
    "\n",
    "goods_encode = LabelEncoder()\n",
    "goods_encode.fit(list(train_user['goods_id']) + list(train_goods['goods_id']) + list(train_goods['goods_id']))"
   ],
   "metadata": {
    "collapsed": false,
    "ExecuteTime": {
     "end_time": "2023-05-31T15:15:33.236017800Z",
     "start_time": "2023-05-31T15:15:11.115766600Z"
    }
   }
  },
  {
   "cell_type": "code",
   "execution_count": 6,
   "outputs": [
    {
     "data": {
      "text/plain": "(1.0, 0.9999751455447659)"
     },
     "execution_count": 6,
     "metadata": {},
     "output_type": "execute_result"
    }
   ],
   "source": [
    "np.mean(testa_user['user_id'].isin(train_user['user_id'])), np.mean(testa_goods['goods_id'].isin(train_goods['goods_id']))"
   ],
   "metadata": {
    "collapsed": false,
    "ExecuteTime": {
     "end_time": "2023-05-31T15:15:35.423564Z",
     "start_time": "2023-05-31T15:15:33.237015900Z"
    }
   }
  },
  {
   "cell_type": "markdown",
   "source": [
    "数据分析"
   ],
   "metadata": {
    "collapsed": false
   }
  },
  {
   "cell_type": "code",
   "execution_count": 7,
   "outputs": [
    {
     "data": {
      "text/plain": "(51602, 1531577)"
     },
     "execution_count": 7,
     "metadata": {},
     "output_type": "execute_result"
    }
   ],
   "source": [
    "train_user['user_id'].nunique(), train_user['goods_id'].nunique()"
   ],
   "metadata": {
    "collapsed": false,
    "ExecuteTime": {
     "end_time": "2023-05-31T15:15:38.496696800Z",
     "start_time": "2023-05-31T15:15:35.426556900Z"
    }
   }
  },
  {
   "cell_type": "code",
   "execution_count": 8,
   "outputs": [
    {
     "data": {
      "text/plain": "           is_clk     is_like  is_addcart    is_order           dt\ncount  7791816.00  7791816.00  7791816.00  7791816.00   7791816.00\nmean         1.06        0.02        0.06        0.01  20230222.85\nstd          0.28        0.13        0.27        0.09        26.21\nmin          1.00        0.00        0.00        0.00  20230203.00\n25%          1.00        0.00        0.00        0.00  20230209.00\n50%          1.00        0.00        0.00        0.00  20230216.00\n75%          1.00        0.00        0.00        0.00  20230224.00\nmax        121.00       22.00       28.00       15.00  20230303.00",
      "text/html": "<div>\n<style scoped>\n    .dataframe tbody tr th:only-of-type {\n        vertical-align: middle;\n    }\n\n    .dataframe tbody tr th {\n        vertical-align: top;\n    }\n\n    .dataframe thead th {\n        text-align: right;\n    }\n</style>\n<table border=\"1\" class=\"dataframe\">\n  <thead>\n    <tr style=\"text-align: right;\">\n      <th></th>\n      <th>is_clk</th>\n      <th>is_like</th>\n      <th>is_addcart</th>\n      <th>is_order</th>\n      <th>dt</th>\n    </tr>\n  </thead>\n  <tbody>\n    <tr>\n      <th>count</th>\n      <td>7791816.00</td>\n      <td>7791816.00</td>\n      <td>7791816.00</td>\n      <td>7791816.00</td>\n      <td>7791816.00</td>\n    </tr>\n    <tr>\n      <th>mean</th>\n      <td>1.06</td>\n      <td>0.02</td>\n      <td>0.06</td>\n      <td>0.01</td>\n      <td>20230222.85</td>\n    </tr>\n    <tr>\n      <th>std</th>\n      <td>0.28</td>\n      <td>0.13</td>\n      <td>0.27</td>\n      <td>0.09</td>\n      <td>26.21</td>\n    </tr>\n    <tr>\n      <th>min</th>\n      <td>1.00</td>\n      <td>0.00</td>\n      <td>0.00</td>\n      <td>0.00</td>\n      <td>20230203.00</td>\n    </tr>\n    <tr>\n      <th>25%</th>\n      <td>1.00</td>\n      <td>0.00</td>\n      <td>0.00</td>\n      <td>0.00</td>\n      <td>20230209.00</td>\n    </tr>\n    <tr>\n      <th>50%</th>\n      <td>1.00</td>\n      <td>0.00</td>\n      <td>0.00</td>\n      <td>0.00</td>\n      <td>20230216.00</td>\n    </tr>\n    <tr>\n      <th>75%</th>\n      <td>1.00</td>\n      <td>0.00</td>\n      <td>0.00</td>\n      <td>0.00</td>\n      <td>20230224.00</td>\n    </tr>\n    <tr>\n      <th>max</th>\n      <td>121.00</td>\n      <td>22.00</td>\n      <td>28.00</td>\n      <td>15.00</td>\n      <td>20230303.00</td>\n    </tr>\n  </tbody>\n</table>\n</div>"
     },
     "execution_count": 8,
     "metadata": {},
     "output_type": "execute_result"
    }
   ],
   "source": [
    "train_user.describe().round(2)"
   ],
   "metadata": {
    "collapsed": false,
    "ExecuteTime": {
     "end_time": "2023-05-31T15:15:39.173580Z",
     "start_time": "2023-05-31T15:15:38.498691600Z"
    }
   }
  },
  {
   "cell_type": "code",
   "execution_count": 9,
   "outputs": [
    {
     "data": {
      "text/plain": "94f8b77847a017324845b26592fdd964    15112\nb83033e19eabcdd63ecc5d1cab156916     7913\nff9aa8c43066095cc67a5568ba5fb1c5     6453\n485fbc41750e44e308f30683e4c8bbff     5582\nc86e5bc3780bdb839b676d7505d15a49     5311\n                                    ...  \nf59919d2080053a4dfc516f200e4acce        1\nc69ef88929430b67468a02abf73c8df3        1\nbdf8350900cc5c08ce6753753213c00c        1\n3127fb685010c92499d3a98455db440b        1\ne305e481199cc9881f05ae7399c76463        1\nName: user_id, Length: 51602, dtype: int64"
     },
     "execution_count": 9,
     "metadata": {},
     "output_type": "execute_result"
    }
   ],
   "source": [
    "train_user['user_id'].value_counts()"
   ],
   "metadata": {
    "collapsed": false,
    "ExecuteTime": {
     "end_time": "2023-05-31T15:15:40.227489200Z",
     "start_time": "2023-05-31T15:15:39.176570300Z"
    }
   }
  },
  {
   "cell_type": "code",
   "execution_count": 10,
   "outputs": [
    {
     "data": {
      "text/plain": "                                user_id                          goods_id  \\\n26     71e1a59e90bc7174cf6349761217c627  47382b8a57e5b73bdba51de5c230fded   \n20236  71e1a59e90bc7174cf6349761217c627  47382b8a57e5b73bdba51de5c230fded   \n\n       is_clk  is_like  is_addcart  is_order    expose_start_time        dt  \n26          5        0           2         1  2023-02-19 06:58:28  20230219  \n20236       1        0           0         0  2023-02-22 09:28:02  20230222  ",
      "text/html": "<div>\n<style scoped>\n    .dataframe tbody tr th:only-of-type {\n        vertical-align: middle;\n    }\n\n    .dataframe tbody tr th {\n        vertical-align: top;\n    }\n\n    .dataframe thead th {\n        text-align: right;\n    }\n</style>\n<table border=\"1\" class=\"dataframe\">\n  <thead>\n    <tr style=\"text-align: right;\">\n      <th></th>\n      <th>user_id</th>\n      <th>goods_id</th>\n      <th>is_clk</th>\n      <th>is_like</th>\n      <th>is_addcart</th>\n      <th>is_order</th>\n      <th>expose_start_time</th>\n      <th>dt</th>\n    </tr>\n  </thead>\n  <tbody>\n    <tr>\n      <th>26</th>\n      <td>71e1a59e90bc7174cf6349761217c627</td>\n      <td>47382b8a57e5b73bdba51de5c230fded</td>\n      <td>5</td>\n      <td>0</td>\n      <td>2</td>\n      <td>1</td>\n      <td>2023-02-19 06:58:28</td>\n      <td>20230219</td>\n    </tr>\n    <tr>\n      <th>20236</th>\n      <td>71e1a59e90bc7174cf6349761217c627</td>\n      <td>47382b8a57e5b73bdba51de5c230fded</td>\n      <td>1</td>\n      <td>0</td>\n      <td>0</td>\n      <td>0</td>\n      <td>2023-02-22 09:28:02</td>\n      <td>20230222</td>\n    </tr>\n  </tbody>\n</table>\n</div>"
     },
     "execution_count": 10,
     "metadata": {},
     "output_type": "execute_result"
    }
   ],
   "source": [
    "train_user.loc[(train_user['user_id'] == '71e1a59e90bc7174cf6349761217c627') & (train_user['goods_id'] == '47382b8a57e5b73bdba51de5c230fded')]"
   ],
   "metadata": {
    "collapsed": false,
    "ExecuteTime": {
     "end_time": "2023-05-31T15:15:41.663836100Z",
     "start_time": "2023-05-31T15:15:40.229485100Z"
    }
   }
  },
  {
   "cell_type": "code",
   "execution_count": 11,
   "outputs": [],
   "source": [
    "train_data = pd.merge(train_user.iloc[:], train_goods.iloc[:], on='goods_id')"
   ],
   "metadata": {
    "collapsed": false,
    "ExecuteTime": {
     "end_time": "2023-05-31T15:15:52.694272100Z",
     "start_time": "2023-05-31T15:15:41.667892600Z"
    }
   }
  },
  {
   "cell_type": "code",
   "execution_count": 12,
   "outputs": [
    {
     "data": {
      "text/plain": "(1616, 4711)"
     },
     "execution_count": 12,
     "metadata": {},
     "output_type": "execute_result"
    }
   ],
   "source": [
    "train_data['cat_id'].nunique(), train_data['brandsn'].nunique()"
   ],
   "metadata": {
    "collapsed": false,
    "ExecuteTime": {
     "end_time": "2023-05-31T15:15:53.909490400Z",
     "start_time": "2023-05-31T15:15:52.696266300Z"
    }
   }
  },
  {
   "cell_type": "markdown",
   "source": [
    "模型搭建"
   ],
   "metadata": {
    "collapsed": false
   }
  },
  {
   "cell_type": "code",
   "execution_count": 13,
   "outputs": [],
   "source": [
    "train_agg_feat = train_data.iloc[:].groupby(['user_id', 'goods_id']).agg({\n",
    "    'is_clk': ['sum', 'max'],\n",
    "    'is_like': ['sum', 'max'],\n",
    "    'is_addcart': ['sum', 'max'],\n",
    "    'is_order': ['sum', 'max'],\n",
    "})"
   ],
   "metadata": {
    "collapsed": false,
    "ExecuteTime": {
     "end_time": "2023-05-31T15:16:06.796279900Z",
     "start_time": "2023-05-31T15:15:53.911486700Z"
    }
   }
  },
  {
   "cell_type": "code",
   "execution_count": 14,
   "outputs": [],
   "source": [
    "train_agg_feat = train_agg_feat.reset_index()\n",
    "train_agg_feat.columns = [\n",
    "    'user_id',\n",
    "    'goods_id',\n",
    "    'is_clk_sum',\n",
    "    'is_clk_max',\n",
    "    'is_like_sum',\n",
    "    'is_like_max',\n",
    "    'is_addcart_sum',\n",
    "    'is_addcart_max',\n",
    "    'is_order_sum',\n",
    "    'is_order_max'\n",
    " ]"
   ],
   "metadata": {
    "collapsed": false,
    "ExecuteTime": {
     "end_time": "2023-05-31T15:16:08.404887500Z",
     "start_time": "2023-05-31T15:16:06.800283500Z"
    }
   }
  },
  {
   "cell_type": "code",
   "execution_count": 15,
   "outputs": [],
   "source": [
    "test_goods_id_agg = train_agg_feat.groupby('goods_id').agg({\n",
    "    'is_clk_sum': 'sum',\n",
    "    'is_order_sum': 'sum'\n",
    "})\n",
    "test_goods_id_agg = test_goods_id_agg[test_goods_id_agg['is_clk_sum'] > 100]\n",
    "test_goods_id_agg = test_goods_id_agg[test_goods_id_agg['is_order_sum'] > 0]\n",
    "test_valid_goods = test_goods_id_agg.index"
   ],
   "metadata": {
    "collapsed": false,
    "ExecuteTime": {
     "end_time": "2023-05-31T15:16:14.444137200Z",
     "start_time": "2023-05-31T15:16:08.407879200Z"
    }
   }
  },
  {
   "cell_type": "code",
   "execution_count": 16,
   "outputs": [],
   "source": [
    "train_feat_downsmaple = pd.concat([\n",
    "    train_agg_feat[train_agg_feat['is_order_max'] !=0],\n",
    "    train_agg_feat[train_agg_feat['is_order_max'] ==0].sample(int(0.03 * len(train_agg_feat)))\n",
    "], axis=0)"
   ],
   "metadata": {
    "collapsed": false,
    "ExecuteTime": {
     "end_time": "2023-05-31T15:16:15.800464300Z",
     "start_time": "2023-05-31T15:16:14.448122600Z"
    }
   }
  },
  {
   "cell_type": "code",
   "execution_count": 17,
   "outputs": [
    {
     "data": {
      "text/plain": "                              user_id                          goods_id  \\\n390  000c81287b218ec3e2245a33464992fe  8b5a5db81fc5d86c0e4c9de7b8a96f72   \n394  000c81287b218ec3e2245a33464992fe  90224d8c0354a3b6383dcf400b45034f   \n670  0015421d3e9341bf4f1674f7dd4aa583  0632f9823ec79a93b4ddb9412fc9dcac   \n688  0015421d3e9341bf4f1674f7dd4aa583  1b41d6e717ee097750a14ae2b9b0b306   \n697  0015421d3e9341bf4f1674f7dd4aa583  21ddf62d1f2ec037a76f84599e16c1eb   \n\n     is_clk_sum  is_clk_max  is_like_sum  is_like_max  is_addcart_sum  \\\n390           1           1            0            0               1   \n394           1           1            0            0               1   \n670           2           1            0            0               1   \n688           2           2            0            0               1   \n697           3           3            1            1               0   \n\n     is_addcart_max  is_order_sum  is_order_max  \n390               1             1             1  \n394               1             1             1  \n670               1             1             1  \n688               1             1             1  \n697               0             1             1  ",
      "text/html": "<div>\n<style scoped>\n    .dataframe tbody tr th:only-of-type {\n        vertical-align: middle;\n    }\n\n    .dataframe tbody tr th {\n        vertical-align: top;\n    }\n\n    .dataframe thead th {\n        text-align: right;\n    }\n</style>\n<table border=\"1\" class=\"dataframe\">\n  <thead>\n    <tr style=\"text-align: right;\">\n      <th></th>\n      <th>user_id</th>\n      <th>goods_id</th>\n      <th>is_clk_sum</th>\n      <th>is_clk_max</th>\n      <th>is_like_sum</th>\n      <th>is_like_max</th>\n      <th>is_addcart_sum</th>\n      <th>is_addcart_max</th>\n      <th>is_order_sum</th>\n      <th>is_order_max</th>\n    </tr>\n  </thead>\n  <tbody>\n    <tr>\n      <th>390</th>\n      <td>000c81287b218ec3e2245a33464992fe</td>\n      <td>8b5a5db81fc5d86c0e4c9de7b8a96f72</td>\n      <td>1</td>\n      <td>1</td>\n      <td>0</td>\n      <td>0</td>\n      <td>1</td>\n      <td>1</td>\n      <td>1</td>\n      <td>1</td>\n    </tr>\n    <tr>\n      <th>394</th>\n      <td>000c81287b218ec3e2245a33464992fe</td>\n      <td>90224d8c0354a3b6383dcf400b45034f</td>\n      <td>1</td>\n      <td>1</td>\n      <td>0</td>\n      <td>0</td>\n      <td>1</td>\n      <td>1</td>\n      <td>1</td>\n      <td>1</td>\n    </tr>\n    <tr>\n      <th>670</th>\n      <td>0015421d3e9341bf4f1674f7dd4aa583</td>\n      <td>0632f9823ec79a93b4ddb9412fc9dcac</td>\n      <td>2</td>\n      <td>1</td>\n      <td>0</td>\n      <td>0</td>\n      <td>1</td>\n      <td>1</td>\n      <td>1</td>\n      <td>1</td>\n    </tr>\n    <tr>\n      <th>688</th>\n      <td>0015421d3e9341bf4f1674f7dd4aa583</td>\n      <td>1b41d6e717ee097750a14ae2b9b0b306</td>\n      <td>2</td>\n      <td>2</td>\n      <td>0</td>\n      <td>0</td>\n      <td>1</td>\n      <td>1</td>\n      <td>1</td>\n      <td>1</td>\n    </tr>\n    <tr>\n      <th>697</th>\n      <td>0015421d3e9341bf4f1674f7dd4aa583</td>\n      <td>21ddf62d1f2ec037a76f84599e16c1eb</td>\n      <td>3</td>\n      <td>3</td>\n      <td>1</td>\n      <td>1</td>\n      <td>0</td>\n      <td>0</td>\n      <td>1</td>\n      <td>1</td>\n    </tr>\n  </tbody>\n</table>\n</div>"
     },
     "execution_count": 17,
     "metadata": {},
     "output_type": "execute_result"
    }
   ],
   "source": [
    "train_feat_downsmaple.head()"
   ],
   "metadata": {
    "collapsed": false,
    "ExecuteTime": {
     "end_time": "2023-05-31T15:16:15.815953Z",
     "start_time": "2023-05-31T15:16:15.802460500Z"
    }
   }
  },
  {
   "cell_type": "code",
   "execution_count": 18,
   "outputs": [
    {
     "data": {
      "text/plain": "0.7579848165819923"
     },
     "execution_count": 18,
     "metadata": {},
     "output_type": "execute_result"
    }
   ],
   "source": [
    "1 - train_feat_downsmaple['is_order_max'].mean()\n",
    "1 - train_feat_downsmaple['is_addcart_max'].mean()"
   ],
   "metadata": {
    "collapsed": false,
    "ExecuteTime": {
     "end_time": "2023-05-31T15:16:15.845474400Z",
     "start_time": "2023-05-31T15:16:15.816952700Z"
    }
   }
  },
  {
   "cell_type": "code",
   "execution_count": 19,
   "outputs": [
    {
     "data": {
      "text/plain": "(258835, 10)"
     },
     "execution_count": 19,
     "metadata": {},
     "output_type": "execute_result"
    }
   ],
   "source": [
    "train_feat_downsmaple.shape"
   ],
   "metadata": {
    "collapsed": false,
    "ExecuteTime": {
     "end_time": "2023-05-31T15:16:15.893345900Z",
     "start_time": "2023-05-31T15:16:15.833508100Z"
    }
   }
  },
  {
   "cell_type": "code",
   "execution_count": 20,
   "outputs": [],
   "source": [
    "train_feat_downsmaple['user_id'] = user_encode.transform(train_feat_downsmaple['user_id'])\n",
    "train_feat_downsmaple['goods_id'] = goods_encode.transform(train_feat_downsmaple['goods_id'])"
   ],
   "metadata": {
    "collapsed": false,
    "ExecuteTime": {
     "end_time": "2023-05-31T15:16:20.502826200Z",
     "start_time": "2023-05-31T15:16:15.846471800Z"
    }
   }
  },
  {
   "cell_type": "code",
   "execution_count": 21,
   "outputs": [],
   "source": [
    "import paddle\n",
    "import paddle.nn as nn\n",
    "from paddle.io import Dataset\n",
    "\n",
    "class SelfDefinedDataset(Dataset):\n",
    "    def __init__(self, df, mode = 'train'):\n",
    "        super(SelfDefinedDataset, self).__init__()\n",
    "        self.df = df\n",
    "        self.mode = mode\n",
    "\n",
    "    def __getitem__(self, idx):\n",
    "        if self.mode == 'predict':\n",
    "            return (\n",
    "                self.df['user_id'].iloc[idx],\n",
    "                self.df['goods_id'].iloc[idx],\n",
    "                self.df['is_clk_max'].iloc[idx],\n",
    "                self.df['is_like_max'].iloc[idx],\n",
    "                self.df['is_addcart_max'].iloc[idx],\n",
    "            )\n",
    "        else:\n",
    "            return (\n",
    "                self.df['user_id'].iloc[idx],\n",
    "                self.df['goods_id'].iloc[idx],\n",
    "                self.df['is_clk_max'].iloc[idx],\n",
    "                self.df['is_like_max'].iloc[idx],\n",
    "                self.df['is_addcart_max'].iloc[idx],\n",
    "                self.df['is_order_max'].iloc[idx]\n",
    "            )\n",
    "\n",
    "    def __len__(self):\n",
    "        return len(self.df)"
   ],
   "metadata": {
    "collapsed": false,
    "ExecuteTime": {
     "end_time": "2023-05-31T15:16:22.633976500Z",
     "start_time": "2023-05-31T15:16:20.507811100Z"
    }
   }
  },
  {
   "cell_type": "code",
   "execution_count": 81,
   "outputs": [],
   "source": [
    "EMBEDDING_SIZE = 256\n",
    "\n",
    "# 定义深度学习模型\n",
    "class RecommenderNet(nn.Layer):\n",
    "    def __init__(self, num_users, num_goods, embedding_size, numeric_size):\n",
    "        super(RecommenderNet, self).__init__()\n",
    "        self.num_users = num_users\n",
    "        self.num_goods = num_goods\n",
    "        self.embedding_size = embedding_size\n",
    "        self.dropout = nn.Dropout(p=0.52)  # 设置丢弃的概率为 0.5\n",
    "\n",
    "        weight_attr_user = paddle.ParamAttr(\n",
    "            regularizer = paddle.regularizer.L2Decay(1e-6),\n",
    "            initializer = nn.initializer.KaimingNormal()\n",
    "            )\n",
    "        self.user_embedding = nn.Embedding(\n",
    "            num_users,\n",
    "            embedding_size,\n",
    "            weight_attr=weight_attr_user\n",
    "        )\n",
    "\n",
    "        weight_attr_goods = paddle.ParamAttr(\n",
    "            regularizer=paddle.regularizer.L2Decay(1e-6),\n",
    "            initializer=nn.initializer.KaimingNormal()\n",
    "        )\n",
    "        self.goods_embedding = nn.Embedding(\n",
    "            num_goods,\n",
    "            embedding_size,\n",
    "            weight_attr=weight_attr_goods\n",
    "        )\n",
    "\n",
    "        self.linear = nn.Linear(2 * embedding_size, 1)\n",
    "\n",
    "    def forward(self, data):\n",
    "        # user, goods, feat = data[0], data[1], [data[idx] for idx in [2, 3,4]]\n",
    "        user, goods, feat = data[0], data[1], [data[idx] for idx in range(2, len(data))]\n",
    "        feat = paddle.stack(feat, 1).astype(paddle.float32)\n",
    "\n",
    "        user_vector = self.user_embedding(user)\n",
    "        goods_vector = self.goods_embedding(goods)\n",
    "\n",
    "        x = paddle.concat([user_vector, goods_vector], axis=1)\n",
    "        x = self.dropout(x)  # 添加 Dropout 层\n",
    "        x = paddle.nn.functional.relu(x)  # 添加ReLU激活函数\n",
    "\n",
    "        return self.linear(x)"
   ],
   "metadata": {
    "collapsed": false,
    "ExecuteTime": {
     "end_time": "2023-05-31T15:32:13.121854400Z",
     "start_time": "2023-05-31T15:32:13.112877700Z"
    }
   }
  },
  {
   "cell_type": "code",
   "execution_count": 82,
   "outputs": [],
   "source": [
    "# 定义模型损失函数、优化器和评价指标\n",
    "model = RecommenderNet(len(user_encode.classes_), len(goods_encode.classes_), 128, 3)\n",
    "optimizer = paddle.optimizer.Adam(parameters=model.parameters(), learning_rate=0.0006)\n",
    "# optimizer = paddle.optimizer.SGD(parameters=model.parameters(), learning_rate=0.01)\n",
    "loss_fn = nn.BCEWithLogitsLoss()"
   ],
   "metadata": {
    "collapsed": false,
    "ExecuteTime": {
     "end_time": "2023-05-31T15:32:14.279701400Z",
     "start_time": "2023-05-31T15:32:14.254769300Z"
    }
   }
  },
  {
   "cell_type": "markdown",
   "source": [
    "模型训练与预测"
   ],
   "metadata": {
    "collapsed": false
   }
  },
  {
   "cell_type": "code",
   "execution_count": 83,
   "outputs": [
    {
     "name": "stdout",
     "output_type": "stream",
     "text": [
      "0 0.25498387003303263\n",
      "1 0.25504665134158827\n",
      "2 0.2549404060501864\n",
      "Early stopping triggered.\n"
     ]
    }
   ],
   "source": [
    "# 模型训练\n",
    "Train_Loss = []\n",
    "best_val_loss = float('inf')\n",
    "patience = 3\n",
    "counter = 0\n",
    "\n",
    "for epoch in range(5):\n",
    "    train_feat_downsmaple = train_feat_downsmaple.sample(frac=1.0)\n",
    "\n",
    "    traindataset = SelfDefinedDataset(train_feat_downsmaple.iloc[:-int(-0.2*len(train_feat_downsmaple))])\n",
    "    train_loader = paddle.io.DataLoader(traindataset, batch_size = 128, shuffle = True)\n",
    "\n",
    "    validdataset = SelfDefinedDataset(train_feat_downsmaple.iloc[-int(-0.2*len(train_feat_downsmaple)):])\n",
    "    valid_loader = paddle.io.DataLoader(validdataset, batch_size = 128, shuffle = True)\n",
    "\n",
    "    model.train()\n",
    "\n",
    "    for i, data in enumerate(train_loader):\n",
    "        pred = model(data)\n",
    "        loss = loss_fn(data[-1].astype(paddle.float32), pred.flatten())\n",
    "        Train_Loss.append(loss.item())\n",
    "        loss.backward()\n",
    "        optimizer.step()\n",
    "        optimizer.clear_grad()\n",
    "\n",
    "    # 模型验证\n",
    "    Val_acc = []\n",
    "    model.eval()\n",
    "    with paddle.no_grad():\n",
    "        valid_loss = 0\n",
    "        for i, data in enumerate(valid_loader):\n",
    "            pred = model(data)\n",
    "            Val_acc.append(((pred.flatten() > 0).astype(paddle.int64) == data[-1]).sum().item())\n",
    "            valid_loss += loss_fn(data[-1].astype(paddle.float32), pred.flatten()).item()\n",
    "        valid_loss /= len(valid_loader)\n",
    "        # Early Stopping\n",
    "        if valid_loss < best_val_loss:\n",
    "            best_val_loss = valid_loss\n",
    "            counter = 0\n",
    "        else:\n",
    "            counter += 1\n",
    "            if counter >= patience:\n",
    "                print(\"Early stopping triggered.\")\n",
    "                break\n",
    "    print(epoch, np.sum(Val_acc) / len(valid_loader.dataset))"
   ],
   "metadata": {
    "collapsed": false,
    "ExecuteTime": {
     "end_time": "2023-05-31T15:33:39.373171200Z",
     "start_time": "2023-05-31T15:32:15.803337300Z"
    }
   }
  },
  {
   "cell_type": "code",
   "execution_count": 84,
   "outputs": [],
   "source": [
    "test_valid_goods = test_valid_goods[test_valid_goods.isin(test_valid_goods)]\n",
    "\n",
    "test_feat_agg = []\n",
    "for user in testa_user['user_id'].values:\n",
    "    for goods in test_valid_goods:\n",
    "        test_feat_agg.append([user, goods])"
   ],
   "metadata": {
    "collapsed": false,
    "ExecuteTime": {
     "end_time": "2023-05-31T15:33:58.993428Z",
     "start_time": "2023-05-31T15:33:56.149233700Z"
    }
   }
  },
  {
   "cell_type": "code",
   "execution_count": 85,
   "outputs": [],
   "source": [
    "test_feat_agg = pd.DataFrame(test_feat_agg)\n",
    "test_feat_agg.columns = ['user_id', 'goods_id']"
   ],
   "metadata": {
    "collapsed": false,
    "ExecuteTime": {
     "end_time": "2023-05-31T15:34:00.866953300Z",
     "start_time": "2023-05-31T15:34:00.136916200Z"
    }
   }
  },
  {
   "cell_type": "code",
   "execution_count": 86,
   "outputs": [],
   "source": [
    "test_feat_agg = pd.merge(test_feat_agg, train_agg_feat, on=['user_id', 'goods_id'])"
   ],
   "metadata": {
    "collapsed": false,
    "ExecuteTime": {
     "end_time": "2023-05-31T15:34:05.861562100Z",
     "start_time": "2023-05-31T15:34:01.669575900Z"
    }
   }
  },
  {
   "cell_type": "code",
   "execution_count": 87,
   "outputs": [],
   "source": [
    "test_feat_agg['user_id'] = user_encode.transform(test_feat_agg['user_id'])\n",
    "test_feat_agg['goods_id'] = goods_encode.transform(test_feat_agg['goods_id'])"
   ],
   "metadata": {
    "collapsed": false,
    "ExecuteTime": {
     "end_time": "2023-05-31T15:34:11.525519400Z",
     "start_time": "2023-05-31T15:34:07.031399800Z"
    }
   }
  },
  {
   "cell_type": "code",
   "execution_count": 88,
   "outputs": [],
   "source": [
    "testdataset = SelfDefinedDataset(test_feat_agg)\n",
    "test_loader = paddle.io.DataLoader(testdataset, batch_size = 128, shuffle = False)"
   ],
   "metadata": {
    "collapsed": false,
    "ExecuteTime": {
     "end_time": "2023-05-31T15:34:13.107809400Z",
     "start_time": "2023-05-31T15:34:13.095246500Z"
    }
   }
  },
  {
   "cell_type": "code",
   "execution_count": 89,
   "outputs": [],
   "source": [
    "model.eval()\n",
    "\n",
    "test_pred = []\n",
    "with paddle.no_grad():\n",
    "    for i, data in enumerate(test_loader):\n",
    "        pred = model(data)\n",
    "        test_pred += list((paddle.nn.functional.sigmoid(pred) > 0.5).numpy().reshape(-1))"
   ],
   "metadata": {
    "collapsed": false,
    "ExecuteTime": {
     "end_time": "2023-05-31T15:34:15.574810500Z",
     "start_time": "2023-05-31T15:34:14.151558Z"
    }
   }
  },
  {
   "cell_type": "code",
   "execution_count": 90,
   "outputs": [],
   "source": [
    "test_feat_agg['pred'] = test_pred"
   ],
   "metadata": {
    "collapsed": false,
    "ExecuteTime": {
     "end_time": "2023-05-31T15:34:16.506848300Z",
     "start_time": "2023-05-31T15:34:16.484907800Z"
    }
   }
  },
  {
   "cell_type": "code",
   "execution_count": 91,
   "outputs": [],
   "source": [
    "test_feat_agg = test_feat_agg[test_feat_agg['pred']]"
   ],
   "metadata": {
    "collapsed": false,
    "ExecuteTime": {
     "end_time": "2023-05-31T15:34:17.304572700Z",
     "start_time": "2023-05-31T15:34:17.282631Z"
    }
   }
  },
  {
   "cell_type": "code",
   "execution_count": 92,
   "outputs": [
    {
     "name": "stderr",
     "output_type": "stream",
     "text": [
      "C:\\Users\\10731\\AppData\\Local\\Temp\\ipykernel_22716\\2375548286.py:1: SettingWithCopyWarning: \n",
      "A value is trying to be set on a copy of a slice from a DataFrame.\n",
      "Try using .loc[row_indexer,col_indexer] = value instead\n",
      "\n",
      "See the caveats in the documentation: https://pandas.pydata.org/pandas-docs/stable/user_guide/indexing.html#returning-a-view-versus-a-copy\n",
      "  test_feat_agg['user_id'] = user_encode.inverse_transform(test_feat_agg['user_id'])\n",
      "C:\\Users\\10731\\AppData\\Local\\Temp\\ipykernel_22716\\2375548286.py:2: SettingWithCopyWarning: \n",
      "A value is trying to be set on a copy of a slice from a DataFrame.\n",
      "Try using .loc[row_indexer,col_indexer] = value instead\n",
      "\n",
      "See the caveats in the documentation: https://pandas.pydata.org/pandas-docs/stable/user_guide/indexing.html#returning-a-view-versus-a-copy\n",
      "  test_feat_agg['goods_id'] = goods_encode.inverse_transform(test_feat_agg['goods_id'])\n"
     ]
    }
   ],
   "source": [
    "test_feat_agg['user_id'] = user_encode.inverse_transform(test_feat_agg['user_id'])\n",
    "test_feat_agg['goods_id'] = goods_encode.inverse_transform(test_feat_agg['goods_id'])"
   ],
   "metadata": {
    "collapsed": false,
    "ExecuteTime": {
     "end_time": "2023-05-31T15:34:31.278658400Z",
     "start_time": "2023-05-31T15:34:31.205357800Z"
    }
   }
  },
  {
   "cell_type": "code",
   "execution_count": 93,
   "outputs": [],
   "source": [
    "test_feat_agg[['user_id', 'goods_id']].to_csv('u2i.csv', index=None, header=None)"
   ],
   "metadata": {
    "collapsed": false,
    "ExecuteTime": {
     "end_time": "2023-05-31T15:34:32.620871700Z",
     "start_time": "2023-05-31T15:34:32.572958600Z"
    }
   }
  },
  {
   "cell_type": "code",
   "execution_count": 94,
   "outputs": [
    {
     "name": "stdout",
     "output_type": "stream",
     "text": [
      "列已成功添加到第一行！\n"
     ]
    }
   ],
   "source": [
    "import csv\n",
    "\n",
    "# 定义要添加的列名\n",
    "new_columns = [\"user_id\", \"goods_id\"]\n",
    "\n",
    "# 打开原始CSV文件并读取数据\n",
    "with open(\"u2i.csv\", \"r\") as file:\n",
    "    reader = csv.reader(file)\n",
    "    data = list(reader)\n",
    "\n",
    "# 在第一行插入新的列名\n",
    "data[0] = new_columns\n",
    "\n",
    "# 将更新后的数据写入新的CSV文件\n",
    "with open(\"u2i_updated.csv\", \"w\", newline=\"\") as file:\n",
    "    writer = csv.writer(file)\n",
    "    writer.writerows(data)\n",
    "\n",
    "print(\"列已成功添加到第一行！\")"
   ],
   "metadata": {
    "collapsed": false,
    "ExecuteTime": {
     "end_time": "2023-05-31T15:34:33.654853300Z",
     "start_time": "2023-05-31T15:34:33.589193600Z"
    }
   }
  },
  {
   "cell_type": "code",
   "execution_count": 35,
   "outputs": [],
   "source": [],
   "metadata": {
    "collapsed": false,
    "ExecuteTime": {
     "end_time": "2023-05-31T15:18:23.472119100Z",
     "start_time": "2023-05-31T15:18:23.456615700Z"
    }
   }
  }
 ],
 "metadata": {
  "kernelspec": {
   "display_name": "Python 3",
   "language": "python",
   "name": "python3"
  },
  "language_info": {
   "codemirror_mode": {
    "name": "ipython",
    "version": 2
   },
   "file_extension": ".py",
   "mimetype": "text/x-python",
   "name": "python",
   "nbconvert_exporter": "python",
   "pygments_lexer": "ipython2",
   "version": "2.7.6"
  }
 },
 "nbformat": 4,
 "nbformat_minor": 0
}

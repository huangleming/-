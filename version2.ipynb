{
 "cells": [
  {
   "cell_type": "code",
   "execution_count": 2,
   "metadata": {
    "collapsed": true,
    "ExecuteTime": {
     "end_time": "2023-05-31T01:20:07.847003800Z",
     "start_time": "2023-05-31T01:20:05.827944300Z"
    }
   },
   "outputs": [],
   "source": [
    "import pandas as pd\n",
    "import numpy as np\n",
    "import glob\n",
    "from sklearn.preprocessing import LabelEncoder"
   ]
  },
  {
   "cell_type": "code",
   "execution_count": 3,
   "outputs": [],
   "source": [
    "train_goods = pd.concat([\n",
    "    pd.read_csv('./训练集/traindata_goodsid/part-00000', header=None, names=['goods_id', 'cat_id', 'brandsn']),\n",
    "    pd.read_csv('./训练集/traindata_goodsid/part-00001', header=None, names=['goods_id', 'cat_id', 'brandsn']),\n",
    "    pd.read_csv('./训练集/traindata_goodsid/part-00002', header=None, names=['goods_id', 'cat_id', 'brandsn'])\n",
    "], axis=0)\n",
    "\n",
    "train_user = pd.concat([\n",
    "    pd.read_csv(x, header=None, names=['user_id', 'goods_id', 'is_clk', 'is_like', 'is_addcart', 'is_order', 'expose_start_time', 'dt'], nrows=500000)\n",
    "    for x in glob.glob('./训练集/traindata_user/part*')\n",
    "], axis=0)"
   ],
   "metadata": {
    "collapsed": false,
    "ExecuteTime": {
     "end_time": "2023-05-31T01:20:23.817163900Z",
     "start_time": "2023-05-31T01:20:07.850992700Z"
    }
   }
  },
  {
   "cell_type": "code",
   "execution_count": 4,
   "outputs": [],
   "source": [
    "testa_goods = pd.concat([\n",
    "    pd.read_csv('./测试集a/predict_goods_id/part-00000', header=None, names=['goods_id', 'cat_id', 'brandsn']),\n",
    "    pd.read_csv('./测试集a/predict_goods_id/part-00001', header=None, names=['goods_id', 'cat_id', 'brandsn']),\n",
    "], axis=0)\n",
    "\n",
    "testa_user = pd.read_excel('./测试集a/a榜需要预测的uid_5000.xlsx')"
   ],
   "metadata": {
    "collapsed": false,
    "ExecuteTime": {
     "end_time": "2023-05-31T01:20:25.242371Z",
     "start_time": "2023-05-31T01:20:23.819159600Z"
    }
   }
  },
  {
   "cell_type": "code",
   "execution_count": 5,
   "outputs": [
    {
     "data": {
      "text/plain": "LabelEncoder()",
      "text/html": "<style>#sk-container-id-1 {color: black;background-color: white;}#sk-container-id-1 pre{padding: 0;}#sk-container-id-1 div.sk-toggleable {background-color: white;}#sk-container-id-1 label.sk-toggleable__label {cursor: pointer;display: block;width: 100%;margin-bottom: 0;padding: 0.3em;box-sizing: border-box;text-align: center;}#sk-container-id-1 label.sk-toggleable__label-arrow:before {content: \"▸\";float: left;margin-right: 0.25em;color: #696969;}#sk-container-id-1 label.sk-toggleable__label-arrow:hover:before {color: black;}#sk-container-id-1 div.sk-estimator:hover label.sk-toggleable__label-arrow:before {color: black;}#sk-container-id-1 div.sk-toggleable__content {max-height: 0;max-width: 0;overflow: hidden;text-align: left;background-color: #f0f8ff;}#sk-container-id-1 div.sk-toggleable__content pre {margin: 0.2em;color: black;border-radius: 0.25em;background-color: #f0f8ff;}#sk-container-id-1 input.sk-toggleable__control:checked~div.sk-toggleable__content {max-height: 200px;max-width: 100%;overflow: auto;}#sk-container-id-1 input.sk-toggleable__control:checked~label.sk-toggleable__label-arrow:before {content: \"▾\";}#sk-container-id-1 div.sk-estimator input.sk-toggleable__control:checked~label.sk-toggleable__label {background-color: #d4ebff;}#sk-container-id-1 div.sk-label input.sk-toggleable__control:checked~label.sk-toggleable__label {background-color: #d4ebff;}#sk-container-id-1 input.sk-hidden--visually {border: 0;clip: rect(1px 1px 1px 1px);clip: rect(1px, 1px, 1px, 1px);height: 1px;margin: -1px;overflow: hidden;padding: 0;position: absolute;width: 1px;}#sk-container-id-1 div.sk-estimator {font-family: monospace;background-color: #f0f8ff;border: 1px dotted black;border-radius: 0.25em;box-sizing: border-box;margin-bottom: 0.5em;}#sk-container-id-1 div.sk-estimator:hover {background-color: #d4ebff;}#sk-container-id-1 div.sk-parallel-item::after {content: \"\";width: 100%;border-bottom: 1px solid gray;flex-grow: 1;}#sk-container-id-1 div.sk-label:hover label.sk-toggleable__label {background-color: #d4ebff;}#sk-container-id-1 div.sk-serial::before {content: \"\";position: absolute;border-left: 1px solid gray;box-sizing: border-box;top: 0;bottom: 0;left: 50%;z-index: 0;}#sk-container-id-1 div.sk-serial {display: flex;flex-direction: column;align-items: center;background-color: white;padding-right: 0.2em;padding-left: 0.2em;position: relative;}#sk-container-id-1 div.sk-item {position: relative;z-index: 1;}#sk-container-id-1 div.sk-parallel {display: flex;align-items: stretch;justify-content: center;background-color: white;position: relative;}#sk-container-id-1 div.sk-item::before, #sk-container-id-1 div.sk-parallel-item::before {content: \"\";position: absolute;border-left: 1px solid gray;box-sizing: border-box;top: 0;bottom: 0;left: 50%;z-index: -1;}#sk-container-id-1 div.sk-parallel-item {display: flex;flex-direction: column;z-index: 1;position: relative;background-color: white;}#sk-container-id-1 div.sk-parallel-item:first-child::after {align-self: flex-end;width: 50%;}#sk-container-id-1 div.sk-parallel-item:last-child::after {align-self: flex-start;width: 50%;}#sk-container-id-1 div.sk-parallel-item:only-child::after {width: 0;}#sk-container-id-1 div.sk-dashed-wrapped {border: 1px dashed gray;margin: 0 0.4em 0.5em 0.4em;box-sizing: border-box;padding-bottom: 0.4em;background-color: white;}#sk-container-id-1 div.sk-label label {font-family: monospace;font-weight: bold;display: inline-block;line-height: 1.2em;}#sk-container-id-1 div.sk-label-container {text-align: center;}#sk-container-id-1 div.sk-container {/* jupyter's `normalize.less` sets `[hidden] { display: none; }` but bootstrap.min.css set `[hidden] { display: none !important; }` so we also need the `!important` here to be able to override the default hidden behavior on the sphinx rendered scikit-learn.org. See: https://github.com/scikit-learn/scikit-learn/issues/21755 */display: inline-block !important;position: relative;}#sk-container-id-1 div.sk-text-repr-fallback {display: none;}</style><div id=\"sk-container-id-1\" class=\"sk-top-container\"><div class=\"sk-text-repr-fallback\"><pre>LabelEncoder()</pre><b>In a Jupyter environment, please rerun this cell to show the HTML representation or trust the notebook. <br />On GitHub, the HTML representation is unable to render, please try loading this page with nbviewer.org.</b></div><div class=\"sk-container\" hidden><div class=\"sk-item\"><div class=\"sk-estimator sk-toggleable\"><input class=\"sk-toggleable__control sk-hidden--visually\" id=\"sk-estimator-id-1\" type=\"checkbox\" checked><label for=\"sk-estimator-id-1\" class=\"sk-toggleable__label sk-toggleable__label-arrow\">LabelEncoder</label><div class=\"sk-toggleable__content\"><pre>LabelEncoder()</pre></div></div></div></div></div>"
     },
     "execution_count": 5,
     "metadata": {},
     "output_type": "execute_result"
    }
   ],
   "source": [
    "#对训练集中的用户ID和商品ID进行标签编码\n",
    "user_encode = LabelEncoder()\n",
    "user_encode.fit(list(train_user['user_id']) + list(train_user['user_id']))\n",
    "\n",
    "goods_encode = LabelEncoder()\n",
    "goods_encode.fit(list(train_user['goods_id']) + list(train_goods['goods_id']) + list(train_goods['goods_id']))"
   ],
   "metadata": {
    "collapsed": false,
    "ExecuteTime": {
     "end_time": "2023-05-31T01:20:46.727702300Z",
     "start_time": "2023-05-31T01:20:25.246361400Z"
    }
   }
  },
  {
   "cell_type": "code",
   "execution_count": 6,
   "outputs": [
    {
     "data": {
      "text/plain": "(1.0, 0.9999751455447659)"
     },
     "execution_count": 6,
     "metadata": {},
     "output_type": "execute_result"
    }
   ],
   "source": [
    "#计算测试集用户数据中的用户ID和商品ID在训练集用户数据中出现的比例\n",
    "np.mean(testa_user['user_id'].isin(train_user['user_id'])), np.mean(testa_goods['goods_id'].isin(train_goods['goods_id']))"
   ],
   "metadata": {
    "collapsed": false,
    "ExecuteTime": {
     "end_time": "2023-05-31T01:20:48.800583700Z",
     "start_time": "2023-05-31T01:20:46.730695200Z"
    }
   }
  },
  {
   "cell_type": "code",
   "execution_count": 7,
   "outputs": [
    {
     "data": {
      "text/plain": "(51602, 1531577)"
     },
     "execution_count": 7,
     "metadata": {},
     "output_type": "execute_result"
    }
   ],
   "source": [
    "#去重\n",
    "train_user['user_id'].nunique(), train_user['goods_id'].nunique()"
   ],
   "metadata": {
    "collapsed": false,
    "ExecuteTime": {
     "end_time": "2023-05-31T01:20:51.802409100Z",
     "start_time": "2023-05-31T01:20:48.803207600Z"
    }
   }
  },
  {
   "cell_type": "code",
   "execution_count": 8,
   "outputs": [
    {
     "data": {
      "text/plain": "           is_clk     is_like  is_addcart    is_order           dt\ncount  7791816.00  7791816.00  7791816.00  7791816.00   7791816.00\nmean         1.06        0.02        0.06        0.01  20230222.85\nstd          0.28        0.13        0.27        0.09        26.21\nmin          1.00        0.00        0.00        0.00  20230203.00\n25%          1.00        0.00        0.00        0.00  20230209.00\n50%          1.00        0.00        0.00        0.00  20230216.00\n75%          1.00        0.00        0.00        0.00  20230224.00\nmax        121.00       22.00       28.00       15.00  20230303.00",
      "text/html": "<div>\n<style scoped>\n    .dataframe tbody tr th:only-of-type {\n        vertical-align: middle;\n    }\n\n    .dataframe tbody tr th {\n        vertical-align: top;\n    }\n\n    .dataframe thead th {\n        text-align: right;\n    }\n</style>\n<table border=\"1\" class=\"dataframe\">\n  <thead>\n    <tr style=\"text-align: right;\">\n      <th></th>\n      <th>is_clk</th>\n      <th>is_like</th>\n      <th>is_addcart</th>\n      <th>is_order</th>\n      <th>dt</th>\n    </tr>\n  </thead>\n  <tbody>\n    <tr>\n      <th>count</th>\n      <td>7791816.00</td>\n      <td>7791816.00</td>\n      <td>7791816.00</td>\n      <td>7791816.00</td>\n      <td>7791816.00</td>\n    </tr>\n    <tr>\n      <th>mean</th>\n      <td>1.06</td>\n      <td>0.02</td>\n      <td>0.06</td>\n      <td>0.01</td>\n      <td>20230222.85</td>\n    </tr>\n    <tr>\n      <th>std</th>\n      <td>0.28</td>\n      <td>0.13</td>\n      <td>0.27</td>\n      <td>0.09</td>\n      <td>26.21</td>\n    </tr>\n    <tr>\n      <th>min</th>\n      <td>1.00</td>\n      <td>0.00</td>\n      <td>0.00</td>\n      <td>0.00</td>\n      <td>20230203.00</td>\n    </tr>\n    <tr>\n      <th>25%</th>\n      <td>1.00</td>\n      <td>0.00</td>\n      <td>0.00</td>\n      <td>0.00</td>\n      <td>20230209.00</td>\n    </tr>\n    <tr>\n      <th>50%</th>\n      <td>1.00</td>\n      <td>0.00</td>\n      <td>0.00</td>\n      <td>0.00</td>\n      <td>20230216.00</td>\n    </tr>\n    <tr>\n      <th>75%</th>\n      <td>1.00</td>\n      <td>0.00</td>\n      <td>0.00</td>\n      <td>0.00</td>\n      <td>20230224.00</td>\n    </tr>\n    <tr>\n      <th>max</th>\n      <td>121.00</td>\n      <td>22.00</td>\n      <td>28.00</td>\n      <td>15.00</td>\n      <td>20230303.00</td>\n    </tr>\n  </tbody>\n</table>\n</div>"
     },
     "execution_count": 8,
     "metadata": {},
     "output_type": "execute_result"
    }
   ],
   "source": [
    "#计算训练集用户数据的描述统计信息，并将结果保留两位小数\n",
    "train_user.describe().round(2)"
   ],
   "metadata": {
    "collapsed": false,
    "ExecuteTime": {
     "end_time": "2023-05-31T01:20:52.496815200Z",
     "start_time": "2023-05-31T01:20:51.804404400Z"
    }
   }
  },
  {
   "cell_type": "code",
   "execution_count": 9,
   "outputs": [],
   "source": [
    "#将训练集中的用户数据和商品数据根据商品ID进行合并\n",
    "train_data = pd.merge(train_user.iloc[:], train_goods.iloc[:], on='goods_id')"
   ],
   "metadata": {
    "collapsed": false,
    "ExecuteTime": {
     "end_time": "2023-05-31T01:21:03.331255200Z",
     "start_time": "2023-05-31T01:20:52.499807200Z"
    }
   }
  },
  {
   "cell_type": "code",
   "execution_count": 10,
   "outputs": [
    {
     "name": "stdout",
     "output_type": "stream",
     "text": [
      "                                  user_id                          goods_id  \\\n",
      "0        8da2ec07d8bf9bfe1e849cb7e7f25e5c  f6e4f43d18157cbdcdc653c6e35f01fb   \n",
      "1        62a800cd3e6884078ac86af31926ca6e  f6e4f43d18157cbdcdc653c6e35f01fb   \n",
      "2        dfea38a0a8c81429316857cbcede23c6  f6e4f43d18157cbdcdc653c6e35f01fb   \n",
      "3        dfea38a0a8c81429316857cbcede23c6  f6e4f43d18157cbdcdc653c6e35f01fb   \n",
      "4        328395043a7cf38a36590a8df12b3b03  f6e4f43d18157cbdcdc653c6e35f01fb   \n",
      "...                                   ...                               ...   \n",
      "7791759  9b9c0493e6ee675c32b6c2add2b57cd9  49cb5e43cc1dc19cb5f5241cf06816a5   \n",
      "7791760  2591ff4a1af75a2dc9e020cdafc5ab05  7fb4a90d3aa54ce13355c8ad9043e2e1   \n",
      "7791761  18917649fd13d3a5fc37443c248d572e  a7e398eff0f997168bf341235ea4817d   \n",
      "7791762  a4b0bc37d9cceed3bedc794e8d632d38  d6f2d674b397f89a55ecf34f127d0ad3   \n",
      "7791763  333cb2e2e4c37293ca79f985a66d72f4  2acf9dbcd66278505f54da19d636825c   \n",
      "\n",
      "         is_clk  is_like  is_addcart  is_order    expose_start_time        dt  \\\n",
      "0             1        0           0         0  2023-02-03 17:11:07  20230203   \n",
      "1             1        0           0         0  2023-02-09 23:10:10  20230209   \n",
      "2             1        0           0         0  2023-02-10 22:41:34  20230210   \n",
      "3             1        0           0         0  2023-02-12 11:11:07  20230212   \n",
      "4             1        0           0         0  2023-02-26 09:40:05  20230226   \n",
      "...         ...      ...         ...       ...                  ...       ...   \n",
      "7791759       1        0           0         0  2023-02-08 15:09:39  20230208   \n",
      "7791760       1        0           0         0  2023-02-08 11:32:41  20230208   \n",
      "7791761       1        0           0         0  2023-02-08 04:19:36  20230208   \n",
      "7791762       1        0           0         0  2023-02-08 22:53:20  20230208   \n",
      "7791763       1        0           0         0  2023-02-08 12:06:10  20230208   \n",
      "\n",
      "                                   cat_id                           brandsn  \n",
      "0        9e3294f565e66afab1c24c4cc8bb5ef6  279382da50f83dbdb5bf1f8bcaa0410c  \n",
      "1        9e3294f565e66afab1c24c4cc8bb5ef6  279382da50f83dbdb5bf1f8bcaa0410c  \n",
      "2        9e3294f565e66afab1c24c4cc8bb5ef6  279382da50f83dbdb5bf1f8bcaa0410c  \n",
      "3        9e3294f565e66afab1c24c4cc8bb5ef6  279382da50f83dbdb5bf1f8bcaa0410c  \n",
      "4        9e3294f565e66afab1c24c4cc8bb5ef6  279382da50f83dbdb5bf1f8bcaa0410c  \n",
      "...                                   ...                               ...  \n",
      "7791759  cf083a183d69637c3d38971dde1fb882  ee57ca3be9539854a055acf8ba349e82  \n",
      "7791760  c1d84d351e2c9685fb2e8c3aca0ece3a  86097b37011d0cd8abff56e37807428b  \n",
      "7791761  40008b9a5380fcacce3976bf7c08af5b  f12d44fd7e91bc7181de6b339a06ad76  \n",
      "7791762  e7f5714fe344159d767d8461112e86a4  02fad706eb9e9bfdf8ffb56496c66e17  \n",
      "7791763  03c5bdd64fbcfe531c0f164e4946d364  cccbb57f6fd0c07c9b35f987f1a650c7  \n",
      "\n",
      "[7791764 rows x 10 columns]\n"
     ]
    }
   ],
   "source": [
    "#获取合并后的数据集中商品类别和品牌的数量\n",
    "train_data['cat_id'].nunique(), train_data['brandsn'].nunique()\n",
    "print(train_data)"
   ],
   "metadata": {
    "collapsed": false,
    "ExecuteTime": {
     "end_time": "2023-05-31T01:21:04.547530100Z",
     "start_time": "2023-05-31T01:21:03.333241400Z"
    }
   }
  },
  {
   "cell_type": "code",
   "execution_count": 11,
   "outputs": [
    {
     "name": "stdout",
     "output_type": "stream",
     "text": [
      "                                  user_id                          goods_id  \\\n",
      "19       af640ab2869a652c05b0957d9a811704  81de1226af20e196944862b78d27b0b5   \n",
      "76       11925e60aab947c3b00eee2190fa2ede  ff76680bd6e705fd37df578957faacba   \n",
      "191      c626a0405a9d85abdf05ccfd3d00e863  2d7e28b4f79bcd9de2b3df0bc91310a3   \n",
      "192      0189f417324cc706b727ae1944967c54  3eba0ec94cedb216bca77a07c6525d2d   \n",
      "202      91aaaea6427f68f1338c6d3273304af2  a92320167ca0b39bea822c690e08c9d7   \n",
      "...                                   ...                               ...   \n",
      "7791652  a9ffeecb593fc6d7500ae1f565fda0f0  e1d97c03deb45d7cada039a08de92291   \n",
      "7791670  353d9d983c3cd90068c59825622b5204  b3d3b112d865b3e99580b2ad49aca38d   \n",
      "7791734  d2e569e2d1d8f7ad8d86d03ce8b534a0  5c366d4c5045ac3ff303191ddebaf95b   \n",
      "7791744  fb2d2559a9e77372ffef7c9edebf87c5  c1b254a486172c86297e7a0af07981db   \n",
      "7791754  4d152f383e239d57783e88f742d0688f  40d24c92a11a6ba7eae7583641869b07   \n",
      "\n",
      "         is_clk  is_like  is_addcart  is_order    expose_start_time        dt  \\\n",
      "19            3        0           1         0  2023-02-03 23:48:34  20230203   \n",
      "76            1        0           1         0  2023-02-22 08:24:42  20230222   \n",
      "191           1        0           1         0  2023-02-03 07:02:12  20230203   \n",
      "192           4        0           1         0  2023-02-03 12:35:27  20230203   \n",
      "202           1        0           1         0  2023-02-03 13:37:47  20230203   \n",
      "...         ...      ...         ...       ...                  ...       ...   \n",
      "7791652       1        0           1         0  2023-02-08 11:01:49  20230208   \n",
      "7791670       1        0           1         0  2023-02-08 10:52:54  20230208   \n",
      "7791734       1        0           1         0  2023-02-08 14:03:22  20230208   \n",
      "7791744       1        0           1         0  2023-02-08 04:34:24  20230208   \n",
      "7791754       1        0           1         0  2023-02-08 23:43:49  20230208   \n",
      "\n",
      "                                   cat_id                           brandsn  \n",
      "19       e9b77eef7828123c52f170cd21a4e0e9  6894e025508ddd0602dcce10b8d99e17  \n",
      "76       452dc2e2d5d1799556b16898f89554f5  2bea5ddfa445d4953a32f3f432fb0984  \n",
      "191      d39c88037a737f5b1114705f81fd0808  7fd2c470714ecaa763904849a9521efe  \n",
      "192      a666587afda6e89aec274a3657558a27  275be9229c56a0ab6e16e92da04e1ebf  \n",
      "202      a666587afda6e89aec274a3657558a27  275be9229c56a0ab6e16e92da04e1ebf  \n",
      "...                                   ...                               ...  \n",
      "7791652  60215396e94dd346285f0fa22f40d080  423c276587aafb8658c472d195120305  \n",
      "7791670  2120969f75be078a4f26a46a90c855cb  16341249b771854696972e6f000f349b  \n",
      "7791734  10d33ec63e33c0493df315e2fb5ab98d  1d0acd857ff246ad98be9e0d08fc9dc3  \n",
      "7791744  45ebbc719538681e53935321fa9db809  3bd4c96002139bd1db486679694a9921  \n",
      "7791754  60ef3c9d030867722c65ef06ea768daa  02afdd82753dcd22bf7dd79a3cdfa522  \n",
      "\n",
      "[405672 rows x 10 columns]\n"
     ]
    }
   ],
   "source": [
    "#筛选出合并后的训练数据中满足以下条件的样本：未下单（is_order为0）且加购物车行为不为0（is_addcart不等于0）\n",
    "train_agg_feat = train_data.loc[\n",
    "    (train_data['is_order'] == 0) & (train_data['is_addcart'] != 0)\n",
    "]\n",
    "print(train_agg_feat)"
   ],
   "metadata": {
    "collapsed": false,
    "ExecuteTime": {
     "end_time": "2023-05-31T01:21:06.146305800Z",
     "start_time": "2023-05-31T01:21:04.551517900Z"
    }
   }
  },
  {
   "cell_type": "code",
   "execution_count": 12,
   "outputs": [
    {
     "name": "stdout",
     "output_type": "stream",
     "text": [
      "                                  user_id                          goods_id  \\\n",
      "191      c626a0405a9d85abdf05ccfd3d00e863  2d7e28b4f79bcd9de2b3df0bc91310a3   \n",
      "705      060d0248975dfbe7dee433f32da5e266  ad182c11850f012948b84867362802be   \n",
      "760      d01cfb26613e7ebfd53e8f50cfc2156a  5a6a5fb283c206e7d01effea87f68c8e   \n",
      "800      9afec9408d028b77ab396251cbaac609  446430ddcdcf9a0cd80706a25ac7a45b   \n",
      "819      96d46f4a620441197739c4d334364311  446430ddcdcf9a0cd80706a25ac7a45b   \n",
      "...                                   ...                               ...   \n",
      "7791220  9366b08f49ba3960eb6c58d41609cbd4  d805d53902739d835e6acac868f3ddbe   \n",
      "7791271  884cfa576e9bd5e7c79307fdebd12ee4  73edfb067d6b0870214b7e51bfc630f5   \n",
      "7791327  820b7afbd1f4e81a0fcbeee6d3123525  8805c368d93a74e0bdabe7832e8a9dee   \n",
      "7791339  c37822c30576714979c146f01c7c5863  e82685998023f680ddb24cad402164f7   \n",
      "7791754  4d152f383e239d57783e88f742d0688f  40d24c92a11a6ba7eae7583641869b07   \n",
      "\n",
      "         is_clk  is_like  is_addcart  is_order    expose_start_time        dt  \\\n",
      "191           1        0           1         0  2023-02-03 07:02:12  20230203   \n",
      "705           1        0           1         0  2023-02-25 21:17:37  20230225   \n",
      "760           1        0           1         0  2023-02-06 13:53:07  20230206   \n",
      "800           1        0           1         0  2023-02-03 06:32:43  20230203   \n",
      "819           1        0           1         0  2023-02-15 19:28:54  20230215   \n",
      "...         ...      ...         ...       ...                  ...       ...   \n",
      "7791220       1        0           1         0  2023-02-19 09:04:26  20230219   \n",
      "7791271       1        0           1         0  2023-02-12 12:44:15  20230212   \n",
      "7791327       1        0           1         0  2023-02-12 22:50:36  20230212   \n",
      "7791339       2        0           2         0  2023-02-12 15:34:30  20230212   \n",
      "7791754       1        0           1         0  2023-02-08 23:43:49  20230208   \n",
      "\n",
      "                                   cat_id                           brandsn  \n",
      "191      d39c88037a737f5b1114705f81fd0808  7fd2c470714ecaa763904849a9521efe  \n",
      "705      51d4658087da422d04101a9a0a285704  270eb2cdd82dc2cb55d6c92b7569aec9  \n",
      "760      63acb20f1b206dbe562ff957e9ea4ac7  a2839c186aefd84d0ef4ad202eea3606  \n",
      "800      758874998f5bd0c393da094e1967a72b  a2839c186aefd84d0ef4ad202eea3606  \n",
      "819      758874998f5bd0c393da094e1967a72b  a2839c186aefd84d0ef4ad202eea3606  \n",
      "...                                   ...                               ...  \n",
      "7791220  758874998f5bd0c393da094e1967a72b  b22456509c17e4546e0374ae4233ec6f  \n",
      "7791271  7be23cea6b4fded3352fd5904693a745  0c8afe95c9526dfbc38dd0cf1e147c3a  \n",
      "7791327  8b45de8de3ef3b4dcebee588deb27abe  8a36abdc4042e5363715806b27662e36  \n",
      "7791339  d1ae0db356f0caeabff956b4607171f8  fbc376eebfd2b1c171ad1b6e2fdc23c9  \n",
      "7791754  60ef3c9d030867722c65ef06ea768daa  02afdd82753dcd22bf7dd79a3cdfa522  \n",
      "\n",
      "[66809 rows x 10 columns]\n"
     ]
    }
   ],
   "source": [
    "#筛选出train_agg_feat数据集中用户ID存在于测试集用户ID中的样本\n",
    "train_agg_feat = train_agg_feat[train_agg_feat['user_id'].isin(testa_user['user_id'])]\n",
    "print(train_agg_feat)"
   ],
   "metadata": {
    "collapsed": false,
    "ExecuteTime": {
     "end_time": "2023-05-31T01:21:06.242050100Z",
     "start_time": "2023-05-31T01:21:06.147304400Z"
    }
   }
  },
  {
   "cell_type": "code",
   "execution_count": 13,
   "outputs": [
    {
     "name": "stdout",
     "output_type": "stream",
     "text": [
      "                                  user_id                          goods_id  \\\n",
      "705      060d0248975dfbe7dee433f32da5e266  ad182c11850f012948b84867362802be   \n",
      "760      d01cfb26613e7ebfd53e8f50cfc2156a  5a6a5fb283c206e7d01effea87f68c8e   \n",
      "800      9afec9408d028b77ab396251cbaac609  446430ddcdcf9a0cd80706a25ac7a45b   \n",
      "819      96d46f4a620441197739c4d334364311  446430ddcdcf9a0cd80706a25ac7a45b   \n",
      "1164     de4997efdcdfa69819e1b0794815bb41  c46542bcd3fb900fa42d57d03cafb727   \n",
      "...                                   ...                               ...   \n",
      "7790636  672be194ab66116720214a875208541f  72a4e269893e6471c9d35f4ee0587251   \n",
      "7791125  4bee2cd0eb5568b44929635e27ed98ea  0c8b7c2a8bca48ba289cc589aad748e0   \n",
      "7791212  4019534b6bad8cdada154605bae3738f  009126a6f164ab270cb6c106b6a58028   \n",
      "7791339  c37822c30576714979c146f01c7c5863  e82685998023f680ddb24cad402164f7   \n",
      "7791754  4d152f383e239d57783e88f742d0688f  40d24c92a11a6ba7eae7583641869b07   \n",
      "\n",
      "         is_clk  is_like  is_addcart  is_order    expose_start_time        dt  \\\n",
      "705           1        0           1         0  2023-02-25 21:17:37  20230225   \n",
      "760           1        0           1         0  2023-02-06 13:53:07  20230206   \n",
      "800           1        0           1         0  2023-02-03 06:32:43  20230203   \n",
      "819           1        0           1         0  2023-02-15 19:28:54  20230215   \n",
      "1164          3        0           1         0  2023-02-11 12:01:51  20230211   \n",
      "...         ...      ...         ...       ...                  ...       ...   \n",
      "7790636       2        0           1         0  2023-02-23 23:07:32  20230223   \n",
      "7791125       1        0           1         0  2023-02-19 10:35:55  20230219   \n",
      "7791212       1        1           1         0  2023-02-19 14:56:52  20230219   \n",
      "7791339       2        0           2         0  2023-02-12 15:34:30  20230212   \n",
      "7791754       1        0           1         0  2023-02-08 23:43:49  20230208   \n",
      "\n",
      "                                   cat_id                           brandsn  \n",
      "705      51d4658087da422d04101a9a0a285704  270eb2cdd82dc2cb55d6c92b7569aec9  \n",
      "760      63acb20f1b206dbe562ff957e9ea4ac7  a2839c186aefd84d0ef4ad202eea3606  \n",
      "800      758874998f5bd0c393da094e1967a72b  a2839c186aefd84d0ef4ad202eea3606  \n",
      "819      758874998f5bd0c393da094e1967a72b  a2839c186aefd84d0ef4ad202eea3606  \n",
      "1164     5b322bb55cb8d9d00b8ca12a69349067  43a833379520e02a9cd949a157f80b32  \n",
      "...                                   ...                               ...  \n",
      "7790636  7adf9e7e32fbd06c997cb6f80fd308dc  f5c395f1f0acea60b70f71fab612cabc  \n",
      "7791125  1c4aacf677578cfe11cfb1960f5f1af2  2c8c49f8db803ab6bdcea87a6edc3069  \n",
      "7791212  4712efbfe871d8cc194cb9839439264f  59f89ffb7911e22135f9679291a0e82e  \n",
      "7791339  d1ae0db356f0caeabff956b4607171f8  fbc376eebfd2b1c171ad1b6e2fdc23c9  \n",
      "7791754  60ef3c9d030867722c65ef06ea768daa  02afdd82753dcd22bf7dd79a3cdfa522  \n",
      "\n",
      "[52134 rows x 10 columns]\n"
     ]
    }
   ],
   "source": [
    "#将train_agg_feat数据集中用户ID存在于测试集用户ID中的样本筛选出来\n",
    "train_agg_feat = train_agg_feat[train_agg_feat['goods_id'].isin(testa_goods['goods_id'])]\n",
    "print(train_agg_feat)\n",
    "train_agg_feat[['user_id', 'goods_id']].to_csv('u2i.csv', index=None)"
   ],
   "metadata": {
    "collapsed": false,
    "ExecuteTime": {
     "end_time": "2023-05-31T01:21:06.618177500Z",
     "start_time": "2023-05-31T01:21:06.245042Z"
    }
   }
  },
  {
   "cell_type": "code",
   "execution_count": 14,
   "outputs": [],
   "source": [
    "train_agg_feat = train_data.iloc[:].groupby(['user_id', 'goods_id']).agg({\n",
    "    'is_clk': ['sum', 'max'],\n",
    "    'is_like': ['sum', 'max'],\n",
    "    'is_addcart': ['sum', 'max'],\n",
    "    'is_order': ['sum', 'max'],\n",
    "})\n",
    "train_agg_feat = train_agg_feat.reset_index()\n",
    "train_agg_feat.columns = [\n",
    "    'user_id',\n",
    "    'goods_id',\n",
    "    'is_clk_sum',\n",
    "    'is_clk_max',\n",
    "    'is_like_sum',\n",
    "    'is_like_max',\n",
    "    'is_addcart_sum',\n",
    "    'is_addcart_max',\n",
    "    'is_order_sum',\n",
    "    'is_order_max'\n",
    " ]"
   ],
   "metadata": {
    "collapsed": false,
    "ExecuteTime": {
     "end_time": "2023-05-31T01:21:21.230666500Z",
     "start_time": "2023-05-31T01:21:06.621169400Z"
    }
   }
  },
  {
   "cell_type": "code",
   "execution_count": 15,
   "outputs": [],
   "source": [
    "test_goods_id_agg = train_agg_feat.groupby('goods_id').agg({\n",
    "    'is_clk_sum': 'sum',\n",
    "    'is_order_max': 'sum'\n",
    "})\n",
    "test_goods_id_agg = test_goods_id_agg[test_goods_id_agg['is_clk_sum'] > 100]\n",
    "test_valid_goods = test_goods_id_agg.index"
   ],
   "metadata": {
    "collapsed": false,
    "ExecuteTime": {
     "end_time": "2023-05-31T01:21:27.156843Z",
     "start_time": "2023-05-31T01:21:21.232661500Z"
    }
   }
  },
  {
   "cell_type": "code",
   "execution_count": 16,
   "outputs": [],
   "source": [
    "train_feat_downsmaple = pd.concat([\n",
    "    train_agg_feat[train_agg_feat['is_order_max'] !=0],\n",
    "    train_agg_feat[train_agg_feat['is_order_max'] ==0].sample(int(0.03 * len(train_agg_feat)))\n",
    "], axis=0)"
   ],
   "metadata": {
    "collapsed": false,
    "ExecuteTime": {
     "end_time": "2023-05-31T01:21:28.551393400Z",
     "start_time": "2023-05-31T01:21:27.159835600Z"
    }
   }
  },
  {
   "cell_type": "code",
   "execution_count": 17,
   "outputs": [
    {
     "data": {
      "text/plain": "0.7795159078177217"
     },
     "execution_count": 17,
     "metadata": {},
     "output_type": "execute_result"
    }
   ],
   "source": [
    "1 - train_feat_downsmaple['is_order_max'].mean()"
   ],
   "metadata": {
    "collapsed": false,
    "ExecuteTime": {
     "end_time": "2023-05-31T01:21:28.567351800Z",
     "start_time": "2023-05-31T01:21:28.554385400Z"
    }
   }
  },
  {
   "cell_type": "code",
   "execution_count": 18,
   "outputs": [],
   "source": [
    "train_feat_downsmaple['user_id'] = user_encode.transform(train_feat_downsmaple['user_id'])\n",
    "train_feat_downsmaple['goods_id'] = goods_encode.transform(train_feat_downsmaple['goods_id'])"
   ],
   "metadata": {
    "collapsed": false,
    "ExecuteTime": {
     "end_time": "2023-05-31T01:21:32.859791200Z",
     "start_time": "2023-05-31T01:21:28.568347300Z"
    }
   }
  },
  {
   "cell_type": "code",
   "execution_count": 19,
   "outputs": [],
   "source": [
    "import paddle\n",
    "import paddle.nn as nn\n",
    "from paddle.io import Dataset\n",
    "\n",
    "class SelfDefinedDataset(Dataset):\n",
    "    def __init__(self, df, mode = 'train'):\n",
    "        super(SelfDefinedDataset, self).__init__()\n",
    "        self.df = df\n",
    "        self.mode = mode\n",
    "\n",
    "    def __getitem__(self, idx):\n",
    "        if self.mode == 'predict':\n",
    "            return (\n",
    "                self.df['user_id'].iloc[idx],\n",
    "                self.df['goods_id'].iloc[idx],\n",
    "                self.df['is_clk_max'].iloc[idx], self.df['is_like_max'].iloc[idx],\n",
    "                self.df['is_addcart_max'].iloc[idx],\n",
    "            )\n",
    "        else:\n",
    "            return (\n",
    "                self.df['user_id'].iloc[idx],\n",
    "                self.df['goods_id'].iloc[idx],\n",
    "                self.df['is_clk_max'].iloc[idx],\n",
    "                (self.df['is_like_max'].iloc[idx]!= 0).astype('int64'),\n",
    "                (self.df['is_addcart_max'].iloc[idx] != 0).astype('int64'),\n",
    "                (self.df['is_order_max'].iloc[idx] != 0).astype('int64')\n",
    "            )\n",
    "\n",
    "    def __len__(self):\n",
    "        return len(self.df)"
   ],
   "metadata": {
    "collapsed": false,
    "ExecuteTime": {
     "end_time": "2023-05-31T01:21:35.196589800Z",
     "start_time": "2023-05-31T01:21:32.864776500Z"
    }
   }
  },
  {
   "cell_type": "code",
   "execution_count": 20,
   "outputs": [
    {
     "data": {
      "text/plain": "15"
     },
     "execution_count": 20,
     "metadata": {},
     "output_type": "execute_result"
    }
   ],
   "source": [
    "train_feat_downsmaple['is_order_max'].max()"
   ],
   "metadata": {
    "collapsed": false,
    "ExecuteTime": {
     "end_time": "2023-05-31T01:21:35.212595400Z",
     "start_time": "2023-05-31T01:21:35.199581800Z"
    }
   }
  },
  {
   "cell_type": "code",
   "execution_count": 21,
   "outputs": [],
   "source": [
    "train_feat_downsmaple = train_feat_downsmaple.sample(frac=1.0)\n",
    "\n",
    "traindataset = SelfDefinedDataset(train_feat_downsmaple.iloc[:-int(-0.2*len(train_feat_downsmaple))])\n",
    "train_loader = paddle.io.DataLoader(traindataset, batch_size = 128, shuffle = True)\n",
    "\n",
    "validdataset = SelfDefinedDataset(train_feat_downsmaple.iloc[-int(-0.2*len(train_feat_downsmaple)):])\n",
    "valid_loader = paddle.io.DataLoader(validdataset, batch_size = 128, shuffle = True)"
   ],
   "metadata": {
    "collapsed": false,
    "ExecuteTime": {
     "end_time": "2023-05-31T01:21:35.243514100Z",
     "start_time": "2023-05-31T01:21:35.213592700Z"
    }
   }
  },
  {
   "cell_type": "code",
   "execution_count": 22,
   "outputs": [],
   "source": [
    "EMBEDDING_SIZE = 256\n",
    "\n",
    "# 定义深度学习模型\n",
    "class RecommenderNet(nn.Layer):\n",
    "    def __init__(self, num_users, num_goods, embedding_size, numeric_size):\n",
    "        super(RecommenderNet, self).__init__()\n",
    "        self.num_users = num_users\n",
    "        self.num_goods = num_goods\n",
    "        self.embedding_size = embedding_size\n",
    "\n",
    "        weight_attr_user = paddle.ParamAttr(\n",
    "            regularizer = paddle.regularizer.L2Decay(1e-6),\n",
    "            initializer = nn.initializer.KaimingNormal()\n",
    "            )\n",
    "        self.user_embedding = nn.Embedding(\n",
    "            num_users,\n",
    "            embedding_size,\n",
    "            # weight_attr=weight_attr_user\n",
    "        )\n",
    "\n",
    "        weight_attr_movie = paddle.ParamAttr(\n",
    "            regularizer = paddle.regularizer.L2Decay(1e-6),\n",
    "            initializer = nn.initializer.KaimingNormal()\n",
    "            )\n",
    "        self.goods_embedding = nn.Embedding(\n",
    "            num_goods,\n",
    "            embedding_size,\n",
    "            # weight_attr=weight_attr_movie\n",
    "        )\n",
    "\n",
    "        self.linear = nn.Linear(\n",
    "            2 * embedding_size, 1\n",
    "        )\n",
    "\n",
    "    def forward(self, data):\n",
    "        user, goods, feat = data[0], data[1], [data[idx] for idx in [2, 3,4]]\n",
    "        feat = paddle.stack(feat, 1).astype(paddle.float32)\n",
    "\n",
    "        user_vector = self.user_embedding(user)\n",
    "        goods_vector = self.goods_embedding(goods)\n",
    "        x = paddle.concat([user_vector, goods_vector], 1)\n",
    "        return self.linear(x)"
   ],
   "metadata": {
    "collapsed": false,
    "ExecuteTime": {
     "end_time": "2023-05-31T01:21:35.258515500Z",
     "start_time": "2023-05-31T01:21:35.244510600Z"
    }
   }
  },
  {
   "cell_type": "code",
   "execution_count": 23,
   "outputs": [
    {
     "data": {
      "text/plain": "RecommenderNet(\n  (user_embedding): Embedding(51602, 128, sparse=False)\n  (goods_embedding): Embedding(3465659, 128, sparse=False)\n  (linear): Linear(in_features=256, out_features=1, dtype=float32)\n)"
     },
     "execution_count": 23,
     "metadata": {},
     "output_type": "execute_result"
    }
   ],
   "source": [
    "# 定义模型损失函数、优化器和评价指标\n",
    "model = RecommenderNet(len(user_encode.classes_), len(goods_encode.classes_), 128, 3)\n",
    "model"
   ],
   "metadata": {
    "collapsed": false,
    "ExecuteTime": {
     "end_time": "2023-05-31T01:21:38.717416300Z",
     "start_time": "2023-05-31T01:21:35.260510Z"
    }
   }
  },
  {
   "cell_type": "code",
   "execution_count": 24,
   "outputs": [],
   "source": [
    "optimizer = paddle.optimizer.SGD(parameters=model.parameters(), learning_rate=0.01)\n",
    "loss_fn = nn.BCEWithLogitsLoss()"
   ],
   "metadata": {
    "collapsed": false,
    "ExecuteTime": {
     "end_time": "2023-05-31T01:21:38.733442Z",
     "start_time": "2023-05-31T01:21:38.719410100Z"
    }
   }
  },
  {
   "cell_type": "code",
   "execution_count": 25,
   "outputs": [
    {
     "name": "stdout",
     "output_type": "stream",
     "text": [
      "0 0.5040652151516192\n"
     ]
    }
   ],
   "source": [
    "# 模型训练\n",
    "Train_Loss = []\n",
    "\n",
    "for epoch in range(1):\n",
    "    #将数据集的样本顺序进行洗牌\n",
    "    train_feat_downsmaple = train_feat_downsmaple.sample(frac=1.0)\n",
    "    #训练集为数据集的前90% 每个批次中的样本数量为128 在每个迭代中对数据进行随机洗牌\n",
    "    traindataset = SelfDefinedDataset(train_feat_downsmaple.iloc[:-int(-0.1*len(train_feat_downsmaple))])\n",
    "    train_loader = paddle.io.DataLoader(traindataset, batch_size = 128, shuffle = True)\n",
    "    #验证集为数据集的后10% 每个批次中的样本数量为128 在每个迭代中对数据进行随机洗牌\n",
    "    validdataset = SelfDefinedDataset(train_feat_downsmaple.iloc[-int(-0.1*len(train_feat_downsmaple)):])\n",
    "    valid_loader = paddle.io.DataLoader(validdataset, batch_size = 128, shuffle = True)\n",
    "    model.train()\n",
    "    for i, data in enumerate(train_loader):\n",
    "        pred = model(data)\n",
    "        #计算损失值\n",
    "        loss = loss_fn(data[-1].astype(paddle.float32), pred.flatten(), )\n",
    "        #将损失值添加到训练损失列表中\n",
    "        Train_Loss.append(loss.item())\n",
    "        #根据损失值计算梯度\n",
    "        loss.backward()\n",
    "        #根据梯度更新模型参数\n",
    "        optimizer.step()\n",
    "        #清除梯度信息，为下一次迭代准备\n",
    "        optimizer.clear_grad()\n",
    "\n",
    "    # 模型验证\n",
    "    Val_acc = []\n",
    "    model.eval()\n",
    "    with paddle.no_grad():\n",
    "        for i, data in enumerate(valid_loader):\n",
    "            pred = model(data)\n",
    "            Val_acc.append(((pred.flatten() > 0).astype(paddle.int64) == data[-1]).sum().item())\n",
    "    print(epoch, np.sum(Val_acc) / len(valid_loader.dataset))"
   ],
   "metadata": {
    "collapsed": false,
    "ExecuteTime": {
     "end_time": "2023-05-31T01:22:02.227643700Z",
     "start_time": "2023-05-31T01:21:38.739425700Z"
    }
   }
  },
  {
   "cell_type": "code",
   "execution_count": null,
   "outputs": [],
   "source": [
    "test_valid_goods = test_valid_goods[test_valid_goods.isin(test_valid_goods)]\n",
    "test_feat_agg = []\n",
    "for user in testa_user['user_id'].values:\n",
    "    for goods in test_valid_goods:\n",
    "        test_feat_agg.append([user, goods])\n",
    "test_feat_agg = pd.DataFrame(test_feat_agg)\n",
    "test_feat_agg.columns = ['user_id', 'goods_id']\n",
    "test_feat_agg = pd.merge(test_feat_agg, train_agg_feat, on=['user_id', 'goods_id'])\n",
    "test_feat_agg['user_id'] = user_encode.transform(test_feat_agg['user_id'])\n",
    "test_feat_agg['goods_id'] = goods_encode.transform(test_feat_agg['goods_id'])\n",
    "testdataset = SelfDefinedDataset(test_feat_agg)\n",
    "test_loader = paddle.io.DataLoader(testdataset, batch_size = 128, shuffle = False)\n",
    "model.eval()\n",
    "\n",
    "test_pred = []\n",
    "with paddle.no_grad():\n",
    "    for i, data in enumerate(test_loader):\n",
    "        pred = model(data)\n",
    "        test_pred += list((paddle.nn.functional.sigmoid(pred) > 0.5).numpy().reshape(-1))\n",
    "test_feat_agg['pred'] = test_pred"
   ],
   "metadata": {
    "collapsed": false
   }
  }
 ],
 "metadata": {
  "kernelspec": {
   "display_name": "Python 3",
   "language": "python",
   "name": "python3"
  },
  "language_info": {
   "codemirror_mode": {
    "name": "ipython",
    "version": 2
   },
   "file_extension": ".py",
   "mimetype": "text/x-python",
   "name": "python",
   "nbconvert_exporter": "python",
   "pygments_lexer": "ipython2",
   "version": "2.7.6"
  }
 },
 "nbformat": 4,
 "nbformat_minor": 0
}

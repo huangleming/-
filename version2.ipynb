{
 "cells": [
  {
   "cell_type": "code",
   "execution_count": 29,
   "metadata": {
    "collapsed": true,
    "ExecuteTime": {
     "end_time": "2023-05-30T08:54:18.330945900Z",
     "start_time": "2023-05-30T08:54:18.291050900Z"
    }
   },
   "outputs": [],
   "source": [
    "import pandas as pd\n",
    "import numpy as np\n",
    "import glob\n",
    "from sklearn.preprocessing import LabelEncoder"
   ]
  },
  {
   "cell_type": "code",
   "execution_count": 30,
   "outputs": [],
   "source": [
    "train_goods = pd.concat([\n",
    "    pd.read_csv('./训练集/traindata_goodsid/part-00000', header=None, names=['goods_id', 'cat_id', 'brandsn']),\n",
    "    pd.read_csv('./训练集/traindata_goodsid/part-00001', header=None, names=['goods_id', 'cat_id', 'brandsn']),\n",
    "    pd.read_csv('./训练集/traindata_goodsid/part-00002', header=None, names=['goods_id', 'cat_id', 'brandsn'])\n",
    "], axis=0)\n",
    "\n",
    "train_user = pd.concat([\n",
    "    pd.read_csv(x, header=None, names=['user_id', 'goods_id', 'is_clk', 'is_like', 'is_addcart', 'is_order', 'expose_start_time', 'dt'], nrows=500000)\n",
    "    for x in glob.glob('./训练集/traindata_user/part*')\n",
    "], axis=0)"
   ],
   "metadata": {
    "collapsed": false,
    "ExecuteTime": {
     "end_time": "2023-05-30T08:54:38.436644600Z",
     "start_time": "2023-05-30T08:54:18.315984400Z"
    }
   }
  },
  {
   "cell_type": "code",
   "execution_count": 31,
   "outputs": [],
   "source": [
    "testa_goods = pd.concat([\n",
    "    pd.read_csv('./测试集a/predict_goods_id/part-00000', header=None, names=['goods_id', 'cat_id', 'brandsn']),\n",
    "    pd.read_csv('./测试集a/predict_goods_id/part-00001', header=None, names=['goods_id', 'cat_id', 'brandsn']),\n",
    "], axis=0)\n",
    "\n",
    "testa_user = pd.read_excel('./测试集a/a榜需要预测的uid_5000.xlsx')"
   ],
   "metadata": {
    "collapsed": false,
    "ExecuteTime": {
     "end_time": "2023-05-30T08:54:40.520811800Z",
     "start_time": "2023-05-30T08:54:38.439636700Z"
    }
   }
  },
  {
   "cell_type": "code",
   "execution_count": 32,
   "outputs": [
    {
     "data": {
      "text/plain": "(1.0, 0.9999751455447659)"
     },
     "execution_count": 32,
     "metadata": {},
     "output_type": "execute_result"
    }
   ],
   "source": [
    "#计算测试集用户数据中的用户ID和商品ID在训练集用户数据中出现的比例\n",
    "np.mean(testa_user['user_id'].isin(train_user['user_id'])), np.mean(testa_goods['goods_id'].isin(train_goods['goods_id']))"
   ],
   "metadata": {
    "collapsed": false,
    "ExecuteTime": {
     "end_time": "2023-05-30T08:54:42.707862300Z",
     "start_time": "2023-05-30T08:54:40.526793400Z"
    }
   }
  },
  {
   "cell_type": "code",
   "execution_count": 33,
   "outputs": [
    {
     "data": {
      "text/plain": "(51602, 1531577)"
     },
     "execution_count": 33,
     "metadata": {},
     "output_type": "execute_result"
    }
   ],
   "source": [
    "#去重\n",
    "train_user['user_id'].nunique(), train_user['goods_id'].nunique()"
   ],
   "metadata": {
    "collapsed": false,
    "ExecuteTime": {
     "end_time": "2023-05-30T08:54:45.854626900Z",
     "start_time": "2023-05-30T08:54:42.711851400Z"
    }
   }
  },
  {
   "cell_type": "code",
   "execution_count": 34,
   "outputs": [
    {
     "data": {
      "text/plain": "           is_clk     is_like  is_addcart    is_order           dt\ncount  7791816.00  7791816.00  7791816.00  7791816.00   7791816.00\nmean         1.06        0.02        0.06        0.01  20230222.85\nstd          0.28        0.13        0.27        0.09        26.21\nmin          1.00        0.00        0.00        0.00  20230203.00\n25%          1.00        0.00        0.00        0.00  20230209.00\n50%          1.00        0.00        0.00        0.00  20230216.00\n75%          1.00        0.00        0.00        0.00  20230224.00\nmax        121.00       22.00       28.00       15.00  20230303.00",
      "text/html": "<div>\n<style scoped>\n    .dataframe tbody tr th:only-of-type {\n        vertical-align: middle;\n    }\n\n    .dataframe tbody tr th {\n        vertical-align: top;\n    }\n\n    .dataframe thead th {\n        text-align: right;\n    }\n</style>\n<table border=\"1\" class=\"dataframe\">\n  <thead>\n    <tr style=\"text-align: right;\">\n      <th></th>\n      <th>is_clk</th>\n      <th>is_like</th>\n      <th>is_addcart</th>\n      <th>is_order</th>\n      <th>dt</th>\n    </tr>\n  </thead>\n  <tbody>\n    <tr>\n      <th>count</th>\n      <td>7791816.00</td>\n      <td>7791816.00</td>\n      <td>7791816.00</td>\n      <td>7791816.00</td>\n      <td>7791816.00</td>\n    </tr>\n    <tr>\n      <th>mean</th>\n      <td>1.06</td>\n      <td>0.02</td>\n      <td>0.06</td>\n      <td>0.01</td>\n      <td>20230222.85</td>\n    </tr>\n    <tr>\n      <th>std</th>\n      <td>0.28</td>\n      <td>0.13</td>\n      <td>0.27</td>\n      <td>0.09</td>\n      <td>26.21</td>\n    </tr>\n    <tr>\n      <th>min</th>\n      <td>1.00</td>\n      <td>0.00</td>\n      <td>0.00</td>\n      <td>0.00</td>\n      <td>20230203.00</td>\n    </tr>\n    <tr>\n      <th>25%</th>\n      <td>1.00</td>\n      <td>0.00</td>\n      <td>0.00</td>\n      <td>0.00</td>\n      <td>20230209.00</td>\n    </tr>\n    <tr>\n      <th>50%</th>\n      <td>1.00</td>\n      <td>0.00</td>\n      <td>0.00</td>\n      <td>0.00</td>\n      <td>20230216.00</td>\n    </tr>\n    <tr>\n      <th>75%</th>\n      <td>1.00</td>\n      <td>0.00</td>\n      <td>0.00</td>\n      <td>0.00</td>\n      <td>20230224.00</td>\n    </tr>\n    <tr>\n      <th>max</th>\n      <td>121.00</td>\n      <td>22.00</td>\n      <td>28.00</td>\n      <td>15.00</td>\n      <td>20230303.00</td>\n    </tr>\n  </tbody>\n</table>\n</div>"
     },
     "execution_count": 34,
     "metadata": {},
     "output_type": "execute_result"
    }
   ],
   "source": [
    "#计算训练集用户数据的描述统计信息，并将结果保留两位小数\n",
    "train_user.describe().round(2)"
   ],
   "metadata": {
    "collapsed": false,
    "ExecuteTime": {
     "end_time": "2023-05-30T08:54:48.180773700Z",
     "start_time": "2023-05-30T08:54:45.855624900Z"
    }
   }
  },
  {
   "cell_type": "code",
   "execution_count": 35,
   "outputs": [],
   "source": [
    "#将训练集中的用户数据和商品数据根据商品ID进行合并\n",
    "train_data = pd.merge(train_user.iloc[:], train_goods.iloc[:], on='goods_id')"
   ],
   "metadata": {
    "collapsed": false,
    "ExecuteTime": {
     "end_time": "2023-05-30T08:55:02.044943500Z",
     "start_time": "2023-05-30T08:54:48.185760500Z"
    }
   }
  },
  {
   "cell_type": "code",
   "execution_count": 36,
   "outputs": [
    {
     "name": "stdout",
     "output_type": "stream",
     "text": [
      "                                  user_id                          goods_id  \\\n",
      "0        8da2ec07d8bf9bfe1e849cb7e7f25e5c  f6e4f43d18157cbdcdc653c6e35f01fb   \n",
      "1        62a800cd3e6884078ac86af31926ca6e  f6e4f43d18157cbdcdc653c6e35f01fb   \n",
      "2        dfea38a0a8c81429316857cbcede23c6  f6e4f43d18157cbdcdc653c6e35f01fb   \n",
      "3        dfea38a0a8c81429316857cbcede23c6  f6e4f43d18157cbdcdc653c6e35f01fb   \n",
      "4        328395043a7cf38a36590a8df12b3b03  f6e4f43d18157cbdcdc653c6e35f01fb   \n",
      "...                                   ...                               ...   \n",
      "7791759  9b9c0493e6ee675c32b6c2add2b57cd9  49cb5e43cc1dc19cb5f5241cf06816a5   \n",
      "7791760  2591ff4a1af75a2dc9e020cdafc5ab05  7fb4a90d3aa54ce13355c8ad9043e2e1   \n",
      "7791761  18917649fd13d3a5fc37443c248d572e  a7e398eff0f997168bf341235ea4817d   \n",
      "7791762  a4b0bc37d9cceed3bedc794e8d632d38  d6f2d674b397f89a55ecf34f127d0ad3   \n",
      "7791763  333cb2e2e4c37293ca79f985a66d72f4  2acf9dbcd66278505f54da19d636825c   \n",
      "\n",
      "         is_clk  is_like  is_addcart  is_order    expose_start_time        dt  \\\n",
      "0             1        0           0         0  2023-02-03 17:11:07  20230203   \n",
      "1             1        0           0         0  2023-02-09 23:10:10  20230209   \n",
      "2             1        0           0         0  2023-02-10 22:41:34  20230210   \n",
      "3             1        0           0         0  2023-02-12 11:11:07  20230212   \n",
      "4             1        0           0         0  2023-02-26 09:40:05  20230226   \n",
      "...         ...      ...         ...       ...                  ...       ...   \n",
      "7791759       1        0           0         0  2023-02-08 15:09:39  20230208   \n",
      "7791760       1        0           0         0  2023-02-08 11:32:41  20230208   \n",
      "7791761       1        0           0         0  2023-02-08 04:19:36  20230208   \n",
      "7791762       1        0           0         0  2023-02-08 22:53:20  20230208   \n",
      "7791763       1        0           0         0  2023-02-08 12:06:10  20230208   \n",
      "\n",
      "                                   cat_id                           brandsn  \n",
      "0        9e3294f565e66afab1c24c4cc8bb5ef6  279382da50f83dbdb5bf1f8bcaa0410c  \n",
      "1        9e3294f565e66afab1c24c4cc8bb5ef6  279382da50f83dbdb5bf1f8bcaa0410c  \n",
      "2        9e3294f565e66afab1c24c4cc8bb5ef6  279382da50f83dbdb5bf1f8bcaa0410c  \n",
      "3        9e3294f565e66afab1c24c4cc8bb5ef6  279382da50f83dbdb5bf1f8bcaa0410c  \n",
      "4        9e3294f565e66afab1c24c4cc8bb5ef6  279382da50f83dbdb5bf1f8bcaa0410c  \n",
      "...                                   ...                               ...  \n",
      "7791759  cf083a183d69637c3d38971dde1fb882  ee57ca3be9539854a055acf8ba349e82  \n",
      "7791760  c1d84d351e2c9685fb2e8c3aca0ece3a  86097b37011d0cd8abff56e37807428b  \n",
      "7791761  40008b9a5380fcacce3976bf7c08af5b  f12d44fd7e91bc7181de6b339a06ad76  \n",
      "7791762  e7f5714fe344159d767d8461112e86a4  02fad706eb9e9bfdf8ffb56496c66e17  \n",
      "7791763  03c5bdd64fbcfe531c0f164e4946d364  cccbb57f6fd0c07c9b35f987f1a650c7  \n",
      "\n",
      "[7791764 rows x 10 columns]\n"
     ]
    }
   ],
   "source": [
    "#获取合并后的数据集中商品类别和品牌的数量\n",
    "train_data['cat_id'].nunique(), train_data['brandsn'].nunique()\n",
    "print(train_data)"
   ],
   "metadata": {
    "collapsed": false,
    "ExecuteTime": {
     "end_time": "2023-05-30T08:55:03.281305400Z",
     "start_time": "2023-05-30T08:55:02.048932700Z"
    }
   }
  },
  {
   "cell_type": "code",
   "execution_count": 37,
   "outputs": [
    {
     "name": "stdout",
     "output_type": "stream",
     "text": [
      "                                  user_id                          goods_id  \\\n",
      "19       af640ab2869a652c05b0957d9a811704  81de1226af20e196944862b78d27b0b5   \n",
      "76       11925e60aab947c3b00eee2190fa2ede  ff76680bd6e705fd37df578957faacba   \n",
      "191      c626a0405a9d85abdf05ccfd3d00e863  2d7e28b4f79bcd9de2b3df0bc91310a3   \n",
      "192      0189f417324cc706b727ae1944967c54  3eba0ec94cedb216bca77a07c6525d2d   \n",
      "202      91aaaea6427f68f1338c6d3273304af2  a92320167ca0b39bea822c690e08c9d7   \n",
      "...                                   ...                               ...   \n",
      "7791652  a9ffeecb593fc6d7500ae1f565fda0f0  e1d97c03deb45d7cada039a08de92291   \n",
      "7791670  353d9d983c3cd90068c59825622b5204  b3d3b112d865b3e99580b2ad49aca38d   \n",
      "7791734  d2e569e2d1d8f7ad8d86d03ce8b534a0  5c366d4c5045ac3ff303191ddebaf95b   \n",
      "7791744  fb2d2559a9e77372ffef7c9edebf87c5  c1b254a486172c86297e7a0af07981db   \n",
      "7791754  4d152f383e239d57783e88f742d0688f  40d24c92a11a6ba7eae7583641869b07   \n",
      "\n",
      "         is_clk  is_like  is_addcart  is_order    expose_start_time        dt  \\\n",
      "19            3        0           1         0  2023-02-03 23:48:34  20230203   \n",
      "76            1        0           1         0  2023-02-22 08:24:42  20230222   \n",
      "191           1        0           1         0  2023-02-03 07:02:12  20230203   \n",
      "192           4        0           1         0  2023-02-03 12:35:27  20230203   \n",
      "202           1        0           1         0  2023-02-03 13:37:47  20230203   \n",
      "...         ...      ...         ...       ...                  ...       ...   \n",
      "7791652       1        0           1         0  2023-02-08 11:01:49  20230208   \n",
      "7791670       1        0           1         0  2023-02-08 10:52:54  20230208   \n",
      "7791734       1        0           1         0  2023-02-08 14:03:22  20230208   \n",
      "7791744       1        0           1         0  2023-02-08 04:34:24  20230208   \n",
      "7791754       1        0           1         0  2023-02-08 23:43:49  20230208   \n",
      "\n",
      "                                   cat_id                           brandsn  \n",
      "19       e9b77eef7828123c52f170cd21a4e0e9  6894e025508ddd0602dcce10b8d99e17  \n",
      "76       452dc2e2d5d1799556b16898f89554f5  2bea5ddfa445d4953a32f3f432fb0984  \n",
      "191      d39c88037a737f5b1114705f81fd0808  7fd2c470714ecaa763904849a9521efe  \n",
      "192      a666587afda6e89aec274a3657558a27  275be9229c56a0ab6e16e92da04e1ebf  \n",
      "202      a666587afda6e89aec274a3657558a27  275be9229c56a0ab6e16e92da04e1ebf  \n",
      "...                                   ...                               ...  \n",
      "7791652  60215396e94dd346285f0fa22f40d080  423c276587aafb8658c472d195120305  \n",
      "7791670  2120969f75be078a4f26a46a90c855cb  16341249b771854696972e6f000f349b  \n",
      "7791734  10d33ec63e33c0493df315e2fb5ab98d  1d0acd857ff246ad98be9e0d08fc9dc3  \n",
      "7791744  45ebbc719538681e53935321fa9db809  3bd4c96002139bd1db486679694a9921  \n",
      "7791754  60ef3c9d030867722c65ef06ea768daa  02afdd82753dcd22bf7dd79a3cdfa522  \n",
      "\n",
      "[405672 rows x 10 columns]\n"
     ]
    }
   ],
   "source": [
    "#筛选出合并后的训练数据中满足以下条件的样本：未下单（is_order为0）且加购物车行为不为0（is_addcart不等于0）\n",
    "train_agg_feat = train_data.loc[\n",
    "    (train_data['is_order'] == 0) & (train_data['is_addcart'] != 0)\n",
    "]\n",
    "print(train_agg_feat)"
   ],
   "metadata": {
    "collapsed": false,
    "ExecuteTime": {
     "end_time": "2023-05-30T08:55:05.346267700Z",
     "start_time": "2023-05-30T08:55:03.286292400Z"
    }
   }
  },
  {
   "cell_type": "code",
   "execution_count": 38,
   "outputs": [
    {
     "name": "stdout",
     "output_type": "stream",
     "text": [
      "                                  user_id                          goods_id  \\\n",
      "191      c626a0405a9d85abdf05ccfd3d00e863  2d7e28b4f79bcd9de2b3df0bc91310a3   \n",
      "705      060d0248975dfbe7dee433f32da5e266  ad182c11850f012948b84867362802be   \n",
      "760      d01cfb26613e7ebfd53e8f50cfc2156a  5a6a5fb283c206e7d01effea87f68c8e   \n",
      "800      9afec9408d028b77ab396251cbaac609  446430ddcdcf9a0cd80706a25ac7a45b   \n",
      "819      96d46f4a620441197739c4d334364311  446430ddcdcf9a0cd80706a25ac7a45b   \n",
      "...                                   ...                               ...   \n",
      "7791220  9366b08f49ba3960eb6c58d41609cbd4  d805d53902739d835e6acac868f3ddbe   \n",
      "7791271  884cfa576e9bd5e7c79307fdebd12ee4  73edfb067d6b0870214b7e51bfc630f5   \n",
      "7791327  820b7afbd1f4e81a0fcbeee6d3123525  8805c368d93a74e0bdabe7832e8a9dee   \n",
      "7791339  c37822c30576714979c146f01c7c5863  e82685998023f680ddb24cad402164f7   \n",
      "7791754  4d152f383e239d57783e88f742d0688f  40d24c92a11a6ba7eae7583641869b07   \n",
      "\n",
      "         is_clk  is_like  is_addcart  is_order    expose_start_time        dt  \\\n",
      "191           1        0           1         0  2023-02-03 07:02:12  20230203   \n",
      "705           1        0           1         0  2023-02-25 21:17:37  20230225   \n",
      "760           1        0           1         0  2023-02-06 13:53:07  20230206   \n",
      "800           1        0           1         0  2023-02-03 06:32:43  20230203   \n",
      "819           1        0           1         0  2023-02-15 19:28:54  20230215   \n",
      "...         ...      ...         ...       ...                  ...       ...   \n",
      "7791220       1        0           1         0  2023-02-19 09:04:26  20230219   \n",
      "7791271       1        0           1         0  2023-02-12 12:44:15  20230212   \n",
      "7791327       1        0           1         0  2023-02-12 22:50:36  20230212   \n",
      "7791339       2        0           2         0  2023-02-12 15:34:30  20230212   \n",
      "7791754       1        0           1         0  2023-02-08 23:43:49  20230208   \n",
      "\n",
      "                                   cat_id                           brandsn  \n",
      "191      d39c88037a737f5b1114705f81fd0808  7fd2c470714ecaa763904849a9521efe  \n",
      "705      51d4658087da422d04101a9a0a285704  270eb2cdd82dc2cb55d6c92b7569aec9  \n",
      "760      63acb20f1b206dbe562ff957e9ea4ac7  a2839c186aefd84d0ef4ad202eea3606  \n",
      "800      758874998f5bd0c393da094e1967a72b  a2839c186aefd84d0ef4ad202eea3606  \n",
      "819      758874998f5bd0c393da094e1967a72b  a2839c186aefd84d0ef4ad202eea3606  \n",
      "...                                   ...                               ...  \n",
      "7791220  758874998f5bd0c393da094e1967a72b  b22456509c17e4546e0374ae4233ec6f  \n",
      "7791271  7be23cea6b4fded3352fd5904693a745  0c8afe95c9526dfbc38dd0cf1e147c3a  \n",
      "7791327  8b45de8de3ef3b4dcebee588deb27abe  8a36abdc4042e5363715806b27662e36  \n",
      "7791339  d1ae0db356f0caeabff956b4607171f8  fbc376eebfd2b1c171ad1b6e2fdc23c9  \n",
      "7791754  60ef3c9d030867722c65ef06ea768daa  02afdd82753dcd22bf7dd79a3cdfa522  \n",
      "\n",
      "[66809 rows x 10 columns]\n"
     ]
    }
   ],
   "source": [
    "#筛选出train_agg_feat数据集中用户ID存在于测试集用户ID中的样本\n",
    "train_agg_feat = train_agg_feat[train_agg_feat['user_id'].isin(testa_user['user_id'])]\n",
    "print(train_agg_feat)"
   ],
   "metadata": {
    "collapsed": false,
    "ExecuteTime": {
     "end_time": "2023-05-30T08:55:05.483899400Z",
     "start_time": "2023-05-30T08:55:05.348261900Z"
    }
   }
  },
  {
   "cell_type": "code",
   "execution_count": 39,
   "outputs": [
    {
     "name": "stdout",
     "output_type": "stream",
     "text": [
      "                                  user_id                          goods_id  \\\n",
      "705      060d0248975dfbe7dee433f32da5e266  ad182c11850f012948b84867362802be   \n",
      "760      d01cfb26613e7ebfd53e8f50cfc2156a  5a6a5fb283c206e7d01effea87f68c8e   \n",
      "800      9afec9408d028b77ab396251cbaac609  446430ddcdcf9a0cd80706a25ac7a45b   \n",
      "819      96d46f4a620441197739c4d334364311  446430ddcdcf9a0cd80706a25ac7a45b   \n",
      "1164     de4997efdcdfa69819e1b0794815bb41  c46542bcd3fb900fa42d57d03cafb727   \n",
      "...                                   ...                               ...   \n",
      "7790636  672be194ab66116720214a875208541f  72a4e269893e6471c9d35f4ee0587251   \n",
      "7791125  4bee2cd0eb5568b44929635e27ed98ea  0c8b7c2a8bca48ba289cc589aad748e0   \n",
      "7791212  4019534b6bad8cdada154605bae3738f  009126a6f164ab270cb6c106b6a58028   \n",
      "7791339  c37822c30576714979c146f01c7c5863  e82685998023f680ddb24cad402164f7   \n",
      "7791754  4d152f383e239d57783e88f742d0688f  40d24c92a11a6ba7eae7583641869b07   \n",
      "\n",
      "         is_clk  is_like  is_addcart  is_order    expose_start_time        dt  \\\n",
      "705           1        0           1         0  2023-02-25 21:17:37  20230225   \n",
      "760           1        0           1         0  2023-02-06 13:53:07  20230206   \n",
      "800           1        0           1         0  2023-02-03 06:32:43  20230203   \n",
      "819           1        0           1         0  2023-02-15 19:28:54  20230215   \n",
      "1164          3        0           1         0  2023-02-11 12:01:51  20230211   \n",
      "...         ...      ...         ...       ...                  ...       ...   \n",
      "7790636       2        0           1         0  2023-02-23 23:07:32  20230223   \n",
      "7791125       1        0           1         0  2023-02-19 10:35:55  20230219   \n",
      "7791212       1        1           1         0  2023-02-19 14:56:52  20230219   \n",
      "7791339       2        0           2         0  2023-02-12 15:34:30  20230212   \n",
      "7791754       1        0           1         0  2023-02-08 23:43:49  20230208   \n",
      "\n",
      "                                   cat_id                           brandsn  \n",
      "705      51d4658087da422d04101a9a0a285704  270eb2cdd82dc2cb55d6c92b7569aec9  \n",
      "760      63acb20f1b206dbe562ff957e9ea4ac7  a2839c186aefd84d0ef4ad202eea3606  \n",
      "800      758874998f5bd0c393da094e1967a72b  a2839c186aefd84d0ef4ad202eea3606  \n",
      "819      758874998f5bd0c393da094e1967a72b  a2839c186aefd84d0ef4ad202eea3606  \n",
      "1164     5b322bb55cb8d9d00b8ca12a69349067  43a833379520e02a9cd949a157f80b32  \n",
      "...                                   ...                               ...  \n",
      "7790636  7adf9e7e32fbd06c997cb6f80fd308dc  f5c395f1f0acea60b70f71fab612cabc  \n",
      "7791125  1c4aacf677578cfe11cfb1960f5f1af2  2c8c49f8db803ab6bdcea87a6edc3069  \n",
      "7791212  4712efbfe871d8cc194cb9839439264f  59f89ffb7911e22135f9679291a0e82e  \n",
      "7791339  d1ae0db356f0caeabff956b4607171f8  fbc376eebfd2b1c171ad1b6e2fdc23c9  \n",
      "7791754  60ef3c9d030867722c65ef06ea768daa  02afdd82753dcd22bf7dd79a3cdfa522  \n",
      "\n",
      "[52134 rows x 10 columns]\n"
     ]
    }
   ],
   "source": [
    "#将train_agg_feat数据集中用户ID存在于测试集用户ID中的样本筛选出来\n",
    "train_agg_feat = train_agg_feat[train_agg_feat['goods_id'].isin(testa_goods['goods_id'])]\n",
    "print(train_agg_feat)"
   ],
   "metadata": {
    "collapsed": false,
    "ExecuteTime": {
     "end_time": "2023-05-30T08:55:05.909824700Z",
     "start_time": "2023-05-30T08:55:05.481904700Z"
    }
   }
  },
  {
   "cell_type": "code",
   "execution_count": 40,
   "outputs": [],
   "source": [
    "train_agg_feat[['user_id', 'goods_id']].to_csv('u2i.csv', index=None)"
   ],
   "metadata": {
    "collapsed": false,
    "ExecuteTime": {
     "end_time": "2023-05-30T08:55:06.090278500Z",
     "start_time": "2023-05-30T08:55:05.920836700Z"
    }
   }
  }
 ],
 "metadata": {
  "kernelspec": {
   "display_name": "Python 3",
   "language": "python",
   "name": "python3"
  },
  "language_info": {
   "codemirror_mode": {
    "name": "ipython",
    "version": 2
   },
   "file_extension": ".py",
   "mimetype": "text/x-python",
   "name": "python",
   "nbconvert_exporter": "python",
   "pygments_lexer": "ipython2",
   "version": "2.7.6"
  }
 },
 "nbformat": 4,
 "nbformat_minor": 0
}

{
 "cells": [
  {
   "cell_type": "code",
   "execution_count": 42,
   "metadata": {
    "collapsed": true,
    "ExecuteTime": {
     "end_time": "2023-05-30T03:06:21.641920800Z",
     "start_time": "2023-05-30T03:06:21.615990900Z"
    }
   },
   "outputs": [],
   "source": [
    "import pandas as pd\n",
    "import numpy as np\n",
    "import glob\n",
    "from sklearn.preprocessing import LabelEncoder"
   ]
  },
  {
   "cell_type": "code",
   "execution_count": 43,
   "outputs": [],
   "source": [
    "train_goods = pd.concat([\n",
    "    pd.read_csv('./训练集/traindata_goodsid/part-00000', header=None, names=['goods_id', 'cat_id', 'brandsn']),\n",
    "    pd.read_csv('./训练集/traindata_goodsid/part-00001', header=None, names=['goods_id', 'cat_id', 'brandsn']),\n",
    "    pd.read_csv('./训练集/traindata_goodsid/part-00002', header=None, names=['goods_id', 'cat_id', 'brandsn'])\n",
    "], axis=0)\n",
    "\n",
    "train_user = pd.concat([\n",
    "    pd.read_csv(x, header=None, names=['user_id', 'goods_id', 'is_clk', 'is_like', 'is_addcart', 'is_order', 'expose_start_time', 'dt'], nrows=500000)\n",
    "    for x in glob.glob('./训练集/traindata_user/part*')\n",
    "], axis=0)"
   ],
   "metadata": {
    "collapsed": false,
    "ExecuteTime": {
     "end_time": "2023-05-30T03:06:36.165750200Z",
     "start_time": "2023-05-30T03:06:21.627959700Z"
    }
   }
  },
  {
   "cell_type": "code",
   "execution_count": 44,
   "outputs": [],
   "source": [
    "testa_goods = pd.concat([\n",
    "    pd.read_csv('./测试集a/predict_goods_id/part-00000', header=None, names=['goods_id', 'cat_id', 'brandsn']),\n",
    "    pd.read_csv('./测试集a/predict_goods_id/part-00001', header=None, names=['goods_id', 'cat_id', 'brandsn']),\n",
    "], axis=0)\n",
    "\n",
    "testa_user = pd.read_excel('./测试集a/a榜需要预测的uid_5000.xlsx')"
   ],
   "metadata": {
    "collapsed": false,
    "ExecuteTime": {
     "end_time": "2023-05-30T03:06:37.223177300Z",
     "start_time": "2023-05-30T03:06:36.168743700Z"
    }
   }
  },
  {
   "cell_type": "code",
   "execution_count": 45,
   "outputs": [
    {
     "data": {
      "text/plain": "LabelEncoder()",
      "text/html": "<style>#sk-container-id-3 {color: black;background-color: white;}#sk-container-id-3 pre{padding: 0;}#sk-container-id-3 div.sk-toggleable {background-color: white;}#sk-container-id-3 label.sk-toggleable__label {cursor: pointer;display: block;width: 100%;margin-bottom: 0;padding: 0.3em;box-sizing: border-box;text-align: center;}#sk-container-id-3 label.sk-toggleable__label-arrow:before {content: \"▸\";float: left;margin-right: 0.25em;color: #696969;}#sk-container-id-3 label.sk-toggleable__label-arrow:hover:before {color: black;}#sk-container-id-3 div.sk-estimator:hover label.sk-toggleable__label-arrow:before {color: black;}#sk-container-id-3 div.sk-toggleable__content {max-height: 0;max-width: 0;overflow: hidden;text-align: left;background-color: #f0f8ff;}#sk-container-id-3 div.sk-toggleable__content pre {margin: 0.2em;color: black;border-radius: 0.25em;background-color: #f0f8ff;}#sk-container-id-3 input.sk-toggleable__control:checked~div.sk-toggleable__content {max-height: 200px;max-width: 100%;overflow: auto;}#sk-container-id-3 input.sk-toggleable__control:checked~label.sk-toggleable__label-arrow:before {content: \"▾\";}#sk-container-id-3 div.sk-estimator input.sk-toggleable__control:checked~label.sk-toggleable__label {background-color: #d4ebff;}#sk-container-id-3 div.sk-label input.sk-toggleable__control:checked~label.sk-toggleable__label {background-color: #d4ebff;}#sk-container-id-3 input.sk-hidden--visually {border: 0;clip: rect(1px 1px 1px 1px);clip: rect(1px, 1px, 1px, 1px);height: 1px;margin: -1px;overflow: hidden;padding: 0;position: absolute;width: 1px;}#sk-container-id-3 div.sk-estimator {font-family: monospace;background-color: #f0f8ff;border: 1px dotted black;border-radius: 0.25em;box-sizing: border-box;margin-bottom: 0.5em;}#sk-container-id-3 div.sk-estimator:hover {background-color: #d4ebff;}#sk-container-id-3 div.sk-parallel-item::after {content: \"\";width: 100%;border-bottom: 1px solid gray;flex-grow: 1;}#sk-container-id-3 div.sk-label:hover label.sk-toggleable__label {background-color: #d4ebff;}#sk-container-id-3 div.sk-serial::before {content: \"\";position: absolute;border-left: 1px solid gray;box-sizing: border-box;top: 0;bottom: 0;left: 50%;z-index: 0;}#sk-container-id-3 div.sk-serial {display: flex;flex-direction: column;align-items: center;background-color: white;padding-right: 0.2em;padding-left: 0.2em;position: relative;}#sk-container-id-3 div.sk-item {position: relative;z-index: 1;}#sk-container-id-3 div.sk-parallel {display: flex;align-items: stretch;justify-content: center;background-color: white;position: relative;}#sk-container-id-3 div.sk-item::before, #sk-container-id-3 div.sk-parallel-item::before {content: \"\";position: absolute;border-left: 1px solid gray;box-sizing: border-box;top: 0;bottom: 0;left: 50%;z-index: -1;}#sk-container-id-3 div.sk-parallel-item {display: flex;flex-direction: column;z-index: 1;position: relative;background-color: white;}#sk-container-id-3 div.sk-parallel-item:first-child::after {align-self: flex-end;width: 50%;}#sk-container-id-3 div.sk-parallel-item:last-child::after {align-self: flex-start;width: 50%;}#sk-container-id-3 div.sk-parallel-item:only-child::after {width: 0;}#sk-container-id-3 div.sk-dashed-wrapped {border: 1px dashed gray;margin: 0 0.4em 0.5em 0.4em;box-sizing: border-box;padding-bottom: 0.4em;background-color: white;}#sk-container-id-3 div.sk-label label {font-family: monospace;font-weight: bold;display: inline-block;line-height: 1.2em;}#sk-container-id-3 div.sk-label-container {text-align: center;}#sk-container-id-3 div.sk-container {/* jupyter's `normalize.less` sets `[hidden] { display: none; }` but bootstrap.min.css set `[hidden] { display: none !important; }` so we also need the `!important` here to be able to override the default hidden behavior on the sphinx rendered scikit-learn.org. See: https://github.com/scikit-learn/scikit-learn/issues/21755 */display: inline-block !important;position: relative;}#sk-container-id-3 div.sk-text-repr-fallback {display: none;}</style><div id=\"sk-container-id-3\" class=\"sk-top-container\"><div class=\"sk-text-repr-fallback\"><pre>LabelEncoder()</pre><b>In a Jupyter environment, please rerun this cell to show the HTML representation or trust the notebook. <br />On GitHub, the HTML representation is unable to render, please try loading this page with nbviewer.org.</b></div><div class=\"sk-container\" hidden><div class=\"sk-item\"><div class=\"sk-estimator sk-toggleable\"><input class=\"sk-toggleable__control sk-hidden--visually\" id=\"sk-estimator-id-3\" type=\"checkbox\" checked><label for=\"sk-estimator-id-3\" class=\"sk-toggleable__label sk-toggleable__label-arrow\">LabelEncoder</label><div class=\"sk-toggleable__content\"><pre>LabelEncoder()</pre></div></div></div></div></div>"
     },
     "execution_count": 45,
     "metadata": {},
     "output_type": "execute_result"
    }
   ],
   "source": [
    "user_encode = LabelEncoder()\n",
    "user_encode.fit(list(train_user['user_id']) + list(train_user['user_id']))\n",
    "\n",
    "goods_encode = LabelEncoder()\n",
    "goods_encode.fit(list(train_user['goods_id']) + list(train_goods['goods_id']) + list(train_goods['goods_id']))"
   ],
   "metadata": {
    "collapsed": false,
    "ExecuteTime": {
     "end_time": "2023-05-30T03:07:03.693480400Z",
     "start_time": "2023-05-30T03:06:37.224174Z"
    }
   }
  },
  {
   "cell_type": "code",
   "execution_count": 46,
   "outputs": [
    {
     "data": {
      "text/plain": "(1.0, 0.9999751455447659)"
     },
     "execution_count": 46,
     "metadata": {},
     "output_type": "execute_result"
    }
   ],
   "source": [
    "np.mean(testa_user['user_id'].isin(train_user['user_id'])), np.mean(testa_goods['goods_id'].isin(train_goods['goods_id']))"
   ],
   "metadata": {
    "collapsed": false,
    "ExecuteTime": {
     "end_time": "2023-05-30T03:07:06.367849600Z",
     "start_time": "2023-05-30T03:07:06.357846900Z"
    }
   }
  },
  {
   "cell_type": "code",
   "execution_count": 47,
   "outputs": [
    {
     "data": {
      "text/plain": "(51602, 1531577)"
     },
     "execution_count": 47,
     "metadata": {},
     "output_type": "execute_result"
    }
   ],
   "source": [
    "train_user['user_id'].nunique(), train_user['goods_id'].nunique()"
   ],
   "metadata": {
    "collapsed": false,
    "ExecuteTime": {
     "end_time": "2023-05-30T03:07:10.292731800Z",
     "start_time": "2023-05-30T03:07:06.369844300Z"
    }
   }
  },
  {
   "cell_type": "code",
   "execution_count": 48,
   "outputs": [
    {
     "data": {
      "text/plain": "           is_clk     is_like  is_addcart    is_order           dt\ncount  7791816.00  7791816.00  7791816.00  7791816.00   7791816.00\nmean         1.06        0.02        0.06        0.01  20230222.85\nstd          0.28        0.13        0.27        0.09        26.21\nmin          1.00        0.00        0.00        0.00  20230203.00\n25%          1.00        0.00        0.00        0.00  20230209.00\n50%          1.00        0.00        0.00        0.00  20230216.00\n75%          1.00        0.00        0.00        0.00  20230224.00\nmax        121.00       22.00       28.00       15.00  20230303.00",
      "text/html": "<div>\n<style scoped>\n    .dataframe tbody tr th:only-of-type {\n        vertical-align: middle;\n    }\n\n    .dataframe tbody tr th {\n        vertical-align: top;\n    }\n\n    .dataframe thead th {\n        text-align: right;\n    }\n</style>\n<table border=\"1\" class=\"dataframe\">\n  <thead>\n    <tr style=\"text-align: right;\">\n      <th></th>\n      <th>is_clk</th>\n      <th>is_like</th>\n      <th>is_addcart</th>\n      <th>is_order</th>\n      <th>dt</th>\n    </tr>\n  </thead>\n  <tbody>\n    <tr>\n      <th>count</th>\n      <td>7791816.00</td>\n      <td>7791816.00</td>\n      <td>7791816.00</td>\n      <td>7791816.00</td>\n      <td>7791816.00</td>\n    </tr>\n    <tr>\n      <th>mean</th>\n      <td>1.06</td>\n      <td>0.02</td>\n      <td>0.06</td>\n      <td>0.01</td>\n      <td>20230222.85</td>\n    </tr>\n    <tr>\n      <th>std</th>\n      <td>0.28</td>\n      <td>0.13</td>\n      <td>0.27</td>\n      <td>0.09</td>\n      <td>26.21</td>\n    </tr>\n    <tr>\n      <th>min</th>\n      <td>1.00</td>\n      <td>0.00</td>\n      <td>0.00</td>\n      <td>0.00</td>\n      <td>20230203.00</td>\n    </tr>\n    <tr>\n      <th>25%</th>\n      <td>1.00</td>\n      <td>0.00</td>\n      <td>0.00</td>\n      <td>0.00</td>\n      <td>20230209.00</td>\n    </tr>\n    <tr>\n      <th>50%</th>\n      <td>1.00</td>\n      <td>0.00</td>\n      <td>0.00</td>\n      <td>0.00</td>\n      <td>20230216.00</td>\n    </tr>\n    <tr>\n      <th>75%</th>\n      <td>1.00</td>\n      <td>0.00</td>\n      <td>0.00</td>\n      <td>0.00</td>\n      <td>20230224.00</td>\n    </tr>\n    <tr>\n      <th>max</th>\n      <td>121.00</td>\n      <td>22.00</td>\n      <td>28.00</td>\n      <td>15.00</td>\n      <td>20230303.00</td>\n    </tr>\n  </tbody>\n</table>\n</div>"
     },
     "execution_count": 48,
     "metadata": {},
     "output_type": "execute_result"
    }
   ],
   "source": [
    "train_user.describe().round(2)"
   ],
   "metadata": {
    "collapsed": false,
    "ExecuteTime": {
     "end_time": "2023-05-30T03:07:11.004285600Z",
     "start_time": "2023-05-30T03:07:10.290736300Z"
    }
   }
  },
  {
   "cell_type": "code",
   "execution_count": 49,
   "outputs": [
    {
     "data": {
      "text/plain": "94f8b77847a017324845b26592fdd964    15112\nb83033e19eabcdd63ecc5d1cab156916     7913\nff9aa8c43066095cc67a5568ba5fb1c5     6453\n485fbc41750e44e308f30683e4c8bbff     5582\nc86e5bc3780bdb839b676d7505d15a49     5311\n                                    ...  \nf59919d2080053a4dfc516f200e4acce        1\nc69ef88929430b67468a02abf73c8df3        1\nbdf8350900cc5c08ce6753753213c00c        1\n3127fb685010c92499d3a98455db440b        1\ne305e481199cc9881f05ae7399c76463        1\nName: user_id, Length: 51602, dtype: int64"
     },
     "execution_count": 49,
     "metadata": {},
     "output_type": "execute_result"
    }
   ],
   "source": [
    "train_user['user_id'].value_counts()"
   ],
   "metadata": {
    "collapsed": false,
    "ExecuteTime": {
     "end_time": "2023-05-30T03:07:12.416049500Z",
     "start_time": "2023-05-30T03:07:11.006281200Z"
    }
   }
  },
  {
   "cell_type": "code",
   "execution_count": 50,
   "outputs": [
    {
     "data": {
      "text/plain": "                                user_id                          goods_id  \\\n26     71e1a59e90bc7174cf6349761217c627  47382b8a57e5b73bdba51de5c230fded   \n20236  71e1a59e90bc7174cf6349761217c627  47382b8a57e5b73bdba51de5c230fded   \n\n       is_clk  is_like  is_addcart  is_order    expose_start_time        dt  \n26          5        0           2         1  2023-02-19 06:58:28  20230219  \n20236       1        0           0         0  2023-02-22 09:28:02  20230222  ",
      "text/html": "<div>\n<style scoped>\n    .dataframe tbody tr th:only-of-type {\n        vertical-align: middle;\n    }\n\n    .dataframe tbody tr th {\n        vertical-align: top;\n    }\n\n    .dataframe thead th {\n        text-align: right;\n    }\n</style>\n<table border=\"1\" class=\"dataframe\">\n  <thead>\n    <tr style=\"text-align: right;\">\n      <th></th>\n      <th>user_id</th>\n      <th>goods_id</th>\n      <th>is_clk</th>\n      <th>is_like</th>\n      <th>is_addcart</th>\n      <th>is_order</th>\n      <th>expose_start_time</th>\n      <th>dt</th>\n    </tr>\n  </thead>\n  <tbody>\n    <tr>\n      <th>26</th>\n      <td>71e1a59e90bc7174cf6349761217c627</td>\n      <td>47382b8a57e5b73bdba51de5c230fded</td>\n      <td>5</td>\n      <td>0</td>\n      <td>2</td>\n      <td>1</td>\n      <td>2023-02-19 06:58:28</td>\n      <td>20230219</td>\n    </tr>\n    <tr>\n      <th>20236</th>\n      <td>71e1a59e90bc7174cf6349761217c627</td>\n      <td>47382b8a57e5b73bdba51de5c230fded</td>\n      <td>1</td>\n      <td>0</td>\n      <td>0</td>\n      <td>0</td>\n      <td>2023-02-22 09:28:02</td>\n      <td>20230222</td>\n    </tr>\n  </tbody>\n</table>\n</div>"
     },
     "execution_count": 50,
     "metadata": {},
     "output_type": "execute_result"
    }
   ],
   "source": [
    "train_user.loc[(train_user['user_id'] == '71e1a59e90bc7174cf6349761217c627') & (train_user['goods_id'] == '47382b8a57e5b73bdba51de5c230fded')]"
   ],
   "metadata": {
    "collapsed": false,
    "ExecuteTime": {
     "end_time": "2023-05-30T03:07:14.181735500Z",
     "start_time": "2023-05-30T03:07:12.414055100Z"
    }
   }
  },
  {
   "cell_type": "code",
   "execution_count": 51,
   "outputs": [],
   "source": [
    "train_data = pd.merge(train_user.iloc[:], train_goods.iloc[:], on='goods_id')"
   ],
   "metadata": {
    "collapsed": false,
    "ExecuteTime": {
     "end_time": "2023-05-30T03:07:27.073827700Z",
     "start_time": "2023-05-30T03:07:14.184728600Z"
    }
   }
  },
  {
   "cell_type": "code",
   "execution_count": 52,
   "outputs": [
    {
     "data": {
      "text/plain": "(1616, 4711)"
     },
     "execution_count": 52,
     "metadata": {},
     "output_type": "execute_result"
    }
   ],
   "source": [
    "train_data['cat_id'].nunique(), train_data['brandsn'].nunique()"
   ],
   "metadata": {
    "collapsed": false,
    "ExecuteTime": {
     "end_time": "2023-05-30T03:07:28.346551600Z",
     "start_time": "2023-05-30T03:07:27.069838600Z"
    }
   }
  },
  {
   "cell_type": "code",
   "execution_count": 53,
   "outputs": [],
   "source": [
    "train_agg_feat = train_data.loc[\n",
    "    (train_data['is_order'] == 0) & (train_data['is_addcart'] != 0)\n",
    "]\n",
    "\n",
    "train_agg_feat = train_agg_feat[train_agg_feat['user_id'].isin(testa_user['user_id'])]\n",
    "train_agg_feat = train_agg_feat[train_agg_feat['goods_id'].isin(testa_goods['goods_id'])]"
   ],
   "metadata": {
    "collapsed": false,
    "ExecuteTime": {
     "end_time": "2023-05-30T03:07:30.391381100Z",
     "start_time": "2023-05-30T03:07:28.348546200Z"
    }
   }
  },
  {
   "cell_type": "code",
   "execution_count": 54,
   "outputs": [],
   "source": [
    "train_agg_feat[['user_id', 'goods_id']].to_csv('u2i.csv', index=None)"
   ],
   "metadata": {
    "collapsed": false,
    "ExecuteTime": {
     "end_time": "2023-05-30T03:07:30.558535600Z",
     "start_time": "2023-05-30T03:07:30.390384300Z"
    }
   }
  },
  {
   "cell_type": "code",
   "execution_count": 55,
   "outputs": [],
   "source": [
    "train_agg_feat = train_data.iloc[:].groupby(['user_id', 'goods_id']).agg({\n",
    "    'is_clk': ['sum', 'max'],\n",
    "    'is_like': ['sum', 'max'],\n",
    "    'is_addcart': ['sum', 'max'],\n",
    "    'is_order': ['sum', 'max'],\n",
    "})\n",
    "\n",
    "train_agg_feat = train_agg_feat.reset_index()\n",
    "train_agg_feat.columns = [\n",
    "    'user_id',\n",
    "    'goods_id',\n",
    "    'is_clk_sum',\n",
    "    'is_clk_max',\n",
    "    'is_like_sum',\n",
    "    'is_like_max',\n",
    "    'is_addcart_sum',\n",
    "    'is_addcart_max',\n",
    "    'is_order_sum',\n",
    "    'is_order_max'\n",
    " ]"
   ],
   "metadata": {
    "collapsed": false,
    "ExecuteTime": {
     "end_time": "2023-05-30T03:07:45.855186200Z",
     "start_time": "2023-05-30T03:07:30.559533100Z"
    }
   }
  },
  {
   "cell_type": "code",
   "execution_count": 56,
   "outputs": [],
   "source": [
    "test_goods_id_agg = train_agg_feat.groupby('goods_id').agg({\n",
    "    'is_clk_sum': 'sum',\n",
    "    'is_order_max': 'sum'\n",
    "})\n",
    "test_goods_id_agg = test_goods_id_agg[test_goods_id_agg['is_clk_sum'] > 100]\n",
    "test_valid_goods = test_goods_id_agg.index"
   ],
   "metadata": {
    "collapsed": false,
    "ExecuteTime": {
     "end_time": "2023-05-30T03:07:52.380552500Z",
     "start_time": "2023-05-30T03:07:45.858178500Z"
    }
   }
  },
  {
   "cell_type": "code",
   "execution_count": 57,
   "outputs": [],
   "source": [
    "train_feat_downsmaple = pd.concat([\n",
    "    train_agg_feat[train_agg_feat['is_order_max'] !=0],\n",
    "    train_agg_feat[train_agg_feat['is_order_max'] ==0].sample(int(0.03 * len(train_agg_feat)))\n",
    "], axis=0)"
   ],
   "metadata": {
    "collapsed": false,
    "ExecuteTime": {
     "end_time": "2023-05-30T03:07:53.815158200Z",
     "start_time": "2023-05-30T03:07:52.374569900Z"
    }
   }
  },
  {
   "cell_type": "code",
   "execution_count": 58,
   "outputs": [
    {
     "data": {
      "text/plain": "0.7795159078177217"
     },
     "execution_count": 58,
     "metadata": {},
     "output_type": "execute_result"
    }
   ],
   "source": [
    "1 - train_feat_downsmaple['is_order_max'].mean()"
   ],
   "metadata": {
    "collapsed": false,
    "ExecuteTime": {
     "end_time": "2023-05-30T03:07:53.830139100Z",
     "start_time": "2023-05-30T03:07:53.814159600Z"
    }
   }
  },
  {
   "cell_type": "code",
   "execution_count": 59,
   "outputs": [
    {
     "data": {
      "text/plain": "0.7585836536789847"
     },
     "execution_count": 59,
     "metadata": {},
     "output_type": "execute_result"
    }
   ],
   "source": [
    "1 - train_feat_downsmaple['is_addcart_max'].mean()"
   ],
   "metadata": {
    "collapsed": false,
    "ExecuteTime": {
     "end_time": "2023-05-30T03:07:53.870032600Z",
     "start_time": "2023-05-30T03:07:53.828144700Z"
    }
   }
  },
  {
   "cell_type": "code",
   "execution_count": 60,
   "outputs": [],
   "source": [
    "train_feat_downsmaple['user_id'] = user_encode.transform(train_feat_downsmaple['user_id'])\n",
    "train_feat_downsmaple['goods_id'] = goods_encode.transform(train_feat_downsmaple['goods_id'])"
   ],
   "metadata": {
    "collapsed": false,
    "ExecuteTime": {
     "end_time": "2023-05-30T03:07:58.138356500Z",
     "start_time": "2023-05-30T03:07:53.843105700Z"
    }
   }
  },
  {
   "cell_type": "code",
   "execution_count": 61,
   "outputs": [],
   "source": [
    "import paddle\n",
    "import paddle.nn as nn\n",
    "from paddle.io import Dataset\n",
    "\n",
    "class SelfDefinedDataset(Dataset):\n",
    "    def __init__(self, df, mode = 'train'):\n",
    "        super(SelfDefinedDataset, self).__init__()\n",
    "        self.df = df\n",
    "        self.mode = mode\n",
    "\n",
    "    def __getitem__(self, idx):\n",
    "        if self.mode == 'predict':\n",
    "            return (\n",
    "                self.df['user_id'].iloc[idx],\n",
    "                self.df['goods_id'].iloc[idx],\n",
    "                self.df['is_clk_max'].iloc[idx], self.df['is_like_max'].iloc[idx],\n",
    "                self.df['is_addcart_max'].iloc[idx],\n",
    "            )\n",
    "        else:\n",
    "            return (\n",
    "                self.df['user_id'].iloc[idx],\n",
    "                self.df['goods_id'].iloc[idx],\n",
    "                self.df['is_clk_max'].iloc[idx],\n",
    "                (self.df['is_like_max'].iloc[idx]!= 0).astype(int),\n",
    "                (self.df['is_addcart_max'].iloc[idx] != 0).astype(int),\n",
    "                (self.df['is_order_max'].iloc[idx] != 0).astype(int)\n",
    "            )\n",
    "\n",
    "    def __len__(self):\n",
    "        return len(self.df)"
   ],
   "metadata": {
    "collapsed": false,
    "ExecuteTime": {
     "end_time": "2023-05-30T03:07:58.154357Z",
     "start_time": "2023-05-30T03:07:58.139355200Z"
    }
   }
  },
  {
   "cell_type": "code",
   "execution_count": 62,
   "outputs": [
    {
     "data": {
      "text/plain": "15"
     },
     "execution_count": 62,
     "metadata": {},
     "output_type": "execute_result"
    }
   ],
   "source": [
    "train_feat_downsmaple['is_order_max'].max()"
   ],
   "metadata": {
    "collapsed": false,
    "ExecuteTime": {
     "end_time": "2023-05-30T03:07:58.199292Z",
     "start_time": "2023-05-30T03:07:58.155353800Z"
    }
   }
  },
  {
   "cell_type": "code",
   "execution_count": 63,
   "outputs": [],
   "source": [
    "train_feat_downsmaple = train_feat_downsmaple.sample(frac=1.0)\n",
    "\n",
    "traindataset = SelfDefinedDataset(train_feat_downsmaple.iloc[:-int(-0.2*len(train_feat_downsmaple))])\n",
    "train_loader = paddle.io.DataLoader(traindataset, batch_size = 128, shuffle = True)\n",
    "\n",
    "validdataset = SelfDefinedDataset(train_feat_downsmaple.iloc[-int(-0.2*len(train_feat_downsmaple)):])\n",
    "valid_loader = paddle.io.DataLoader(validdataset, batch_size = 128, shuffle = True)"
   ],
   "metadata": {
    "collapsed": false,
    "ExecuteTime": {
     "end_time": "2023-05-30T03:07:58.219422200Z",
     "start_time": "2023-05-30T03:07:58.174353100Z"
    }
   }
  },
  {
   "cell_type": "code",
   "execution_count": 64,
   "outputs": [],
   "source": [
    "EMBEDDING_SIZE = 256\n",
    "\n",
    "# 定义深度学习模型\n",
    "class RecommenderNet(nn.Layer):\n",
    "    def __init__(self, num_users, num_goods, embedding_size, numeric_size):\n",
    "        super(RecommenderNet, self).__init__()\n",
    "        self.num_users = num_users\n",
    "        self.num_goods = num_goods\n",
    "        self.embedding_size = embedding_size\n",
    "\n",
    "        weight_attr_user = paddle.ParamAttr(\n",
    "            regularizer = paddle.regularizer.L2Decay(1e-6),\n",
    "            initializer = nn.initializer.KaimingNormal()\n",
    "            )\n",
    "        self.user_embedding = nn.Embedding(\n",
    "            num_users,\n",
    "            embedding_size,\n",
    "            # weight_attr=weight_attr_user\n",
    "        )\n",
    "\n",
    "        weight_attr_movie = paddle.ParamAttr(\n",
    "            regularizer = paddle.regularizer.L2Decay(1e-6),\n",
    "            initializer = nn.initializer.KaimingNormal()\n",
    "            )\n",
    "        self.goods_embedding = nn.Embedding(\n",
    "            num_goods,\n",
    "            embedding_size,\n",
    "            # weight_attr=weight_attr_movie\n",
    "        )\n",
    "\n",
    "        self.linear = nn.Linear(\n",
    "            2 * embedding_size, 2\n",
    "        )\n",
    "\n",
    "    def forward(self, data):\n",
    "        user, goods, feat = data[0], data[1], [data[idx] for idx in [2, 3,4]]\n",
    "        feat = paddle.stack(feat, 1).astype(paddle.float32)\n",
    "\n",
    "        user_vector = self.user_embedding(user)\n",
    "        goods_vector = self.goods_embedding(goods)\n",
    "        x = paddle.concat([user_vector, goods_vector], 1)\n",
    "        return self.linear(x)"
   ],
   "metadata": {
    "collapsed": false,
    "ExecuteTime": {
     "end_time": "2023-05-30T03:07:58.240484500Z",
     "start_time": "2023-05-30T03:07:58.218425200Z"
    }
   }
  },
  {
   "cell_type": "code",
   "execution_count": 65,
   "outputs": [
    {
     "data": {
      "text/plain": "RecommenderNet(\n  (user_embedding): Embedding(51602, 128, sparse=False)\n  (goods_embedding): Embedding(3465659, 128, sparse=False)\n  (linear): Linear(in_features=256, out_features=2, dtype=float32)\n)"
     },
     "execution_count": 65,
     "metadata": {},
     "output_type": "execute_result"
    }
   ],
   "source": [
    "# 定义模型损失函数、优化器和评价指标\n",
    "model = RecommenderNet(len(user_encode.classes_), len(goods_encode.classes_), 128, 3)\n",
    "model"
   ],
   "metadata": {
    "collapsed": false,
    "ExecuteTime": {
     "end_time": "2023-05-30T03:07:58.313459200Z",
     "start_time": "2023-05-30T03:07:58.234500600Z"
    }
   }
  },
  {
   "cell_type": "code",
   "execution_count": 66,
   "outputs": [],
   "source": [
    "optimizer = paddle.optimizer.SGD(parameters=model.parameters(), learning_rate=0.01)\n",
    "loss_fn = nn.BCEWithLogitsLoss()"
   ],
   "metadata": {
    "collapsed": false,
    "ExecuteTime": {
     "end_time": "2023-05-30T03:07:58.356352600Z",
     "start_time": "2023-05-30T03:07:58.313459200Z"
    }
   }
  },
  {
   "cell_type": "code",
   "execution_count": 66,
   "outputs": [],
   "source": [],
   "metadata": {
    "collapsed": false,
    "ExecuteTime": {
     "end_time": "2023-05-30T03:07:58.363330900Z",
     "start_time": "2023-05-30T03:07:58.328425300Z"
    }
   }
  }
 ],
 "metadata": {
  "kernelspec": {
   "display_name": "Python 3",
   "language": "python",
   "name": "python3"
  },
  "language_info": {
   "codemirror_mode": {
    "name": "ipython",
    "version": 2
   },
   "file_extension": ".py",
   "mimetype": "text/x-python",
   "name": "python",
   "nbconvert_exporter": "python",
   "pygments_lexer": "ipython2",
   "version": "2.7.6"
  }
 },
 "nbformat": 4,
 "nbformat_minor": 0
}

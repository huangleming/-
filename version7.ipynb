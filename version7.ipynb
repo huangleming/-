{
 "cells": [
  {
   "cell_type": "markdown",
   "source": [
    "加载数据集"
   ],
   "metadata": {
    "collapsed": false
   }
  },
  {
   "cell_type": "code",
   "execution_count": 1,
   "metadata": {
    "collapsed": true,
    "ExecuteTime": {
     "end_time": "2023-05-31T18:08:18.225130500Z",
     "start_time": "2023-05-31T18:08:16.369596900Z"
    }
   },
   "outputs": [],
   "source": [
    "import pandas as pd\n",
    "import numpy as np\n",
    "import glob\n",
    "from sklearn.preprocessing import LabelEncoder"
   ]
  },
  {
   "cell_type": "code",
   "execution_count": 2,
   "outputs": [],
   "source": [
    "train_goods = pd.concat([\n",
    "    pd.read_csv('./训练集/traindata_goodsid/part-00000', header=None, names=['goods_id', 'cat_id', 'brandsn']),\n",
    "    pd.read_csv('./训练集/traindata_goodsid/part-00001', header=None, names=['goods_id', 'cat_id', 'brandsn']),\n",
    "    pd.read_csv('./训练集/traindata_goodsid/part-00002', header=None, names=['goods_id', 'cat_id', 'brandsn'])\n",
    "], axis=0)\n",
    "\n",
    "train_user = pd.concat([\n",
    "    pd.read_csv(x, header=None, names=['user_id', 'goods_id', 'is_clk', 'is_like', 'is_addcart', 'is_order', 'expose_start_time', 'dt'], nrows=None)\n",
    "    for x in glob.glob('./训练集/traindata_user/part*')\n",
    "], axis=0)"
   ],
   "metadata": {
    "collapsed": false,
    "ExecuteTime": {
     "end_time": "2023-05-31T18:08:35.844680900Z",
     "start_time": "2023-05-31T18:08:18.230133Z"
    }
   }
  },
  {
   "cell_type": "code",
   "execution_count": 3,
   "outputs": [],
   "source": [
    "testa_goods = pd.concat([\n",
    "    pd.read_csv('./测试集a/predict_goods_id/part-00000', header=None, names=['goods_id']),\n",
    "    pd.read_csv('./测试集a/predict_goods_id/part-00001', header=None, names=['goods_id']),\n",
    "], axis=0)\n",
    "\n",
    "testa_user = pd.read_excel('./测试集a/a榜需要预测的uid_5000.xlsx')"
   ],
   "metadata": {
    "collapsed": false,
    "ExecuteTime": {
     "end_time": "2023-05-31T18:08:37.462382400Z",
     "start_time": "2023-05-31T18:08:35.847689400Z"
    }
   }
  },
  {
   "cell_type": "code",
   "execution_count": 4,
   "outputs": [
    {
     "data": {
      "text/plain": "LabelEncoder()",
      "text/html": "<style>#sk-container-id-1 {color: black;background-color: white;}#sk-container-id-1 pre{padding: 0;}#sk-container-id-1 div.sk-toggleable {background-color: white;}#sk-container-id-1 label.sk-toggleable__label {cursor: pointer;display: block;width: 100%;margin-bottom: 0;padding: 0.3em;box-sizing: border-box;text-align: center;}#sk-container-id-1 label.sk-toggleable__label-arrow:before {content: \"▸\";float: left;margin-right: 0.25em;color: #696969;}#sk-container-id-1 label.sk-toggleable__label-arrow:hover:before {color: black;}#sk-container-id-1 div.sk-estimator:hover label.sk-toggleable__label-arrow:before {color: black;}#sk-container-id-1 div.sk-toggleable__content {max-height: 0;max-width: 0;overflow: hidden;text-align: left;background-color: #f0f8ff;}#sk-container-id-1 div.sk-toggleable__content pre {margin: 0.2em;color: black;border-radius: 0.25em;background-color: #f0f8ff;}#sk-container-id-1 input.sk-toggleable__control:checked~div.sk-toggleable__content {max-height: 200px;max-width: 100%;overflow: auto;}#sk-container-id-1 input.sk-toggleable__control:checked~label.sk-toggleable__label-arrow:before {content: \"▾\";}#sk-container-id-1 div.sk-estimator input.sk-toggleable__control:checked~label.sk-toggleable__label {background-color: #d4ebff;}#sk-container-id-1 div.sk-label input.sk-toggleable__control:checked~label.sk-toggleable__label {background-color: #d4ebff;}#sk-container-id-1 input.sk-hidden--visually {border: 0;clip: rect(1px 1px 1px 1px);clip: rect(1px, 1px, 1px, 1px);height: 1px;margin: -1px;overflow: hidden;padding: 0;position: absolute;width: 1px;}#sk-container-id-1 div.sk-estimator {font-family: monospace;background-color: #f0f8ff;border: 1px dotted black;border-radius: 0.25em;box-sizing: border-box;margin-bottom: 0.5em;}#sk-container-id-1 div.sk-estimator:hover {background-color: #d4ebff;}#sk-container-id-1 div.sk-parallel-item::after {content: \"\";width: 100%;border-bottom: 1px solid gray;flex-grow: 1;}#sk-container-id-1 div.sk-label:hover label.sk-toggleable__label {background-color: #d4ebff;}#sk-container-id-1 div.sk-serial::before {content: \"\";position: absolute;border-left: 1px solid gray;box-sizing: border-box;top: 0;bottom: 0;left: 50%;z-index: 0;}#sk-container-id-1 div.sk-serial {display: flex;flex-direction: column;align-items: center;background-color: white;padding-right: 0.2em;padding-left: 0.2em;position: relative;}#sk-container-id-1 div.sk-item {position: relative;z-index: 1;}#sk-container-id-1 div.sk-parallel {display: flex;align-items: stretch;justify-content: center;background-color: white;position: relative;}#sk-container-id-1 div.sk-item::before, #sk-container-id-1 div.sk-parallel-item::before {content: \"\";position: absolute;border-left: 1px solid gray;box-sizing: border-box;top: 0;bottom: 0;left: 50%;z-index: -1;}#sk-container-id-1 div.sk-parallel-item {display: flex;flex-direction: column;z-index: 1;position: relative;background-color: white;}#sk-container-id-1 div.sk-parallel-item:first-child::after {align-self: flex-end;width: 50%;}#sk-container-id-1 div.sk-parallel-item:last-child::after {align-self: flex-start;width: 50%;}#sk-container-id-1 div.sk-parallel-item:only-child::after {width: 0;}#sk-container-id-1 div.sk-dashed-wrapped {border: 1px dashed gray;margin: 0 0.4em 0.5em 0.4em;box-sizing: border-box;padding-bottom: 0.4em;background-color: white;}#sk-container-id-1 div.sk-label label {font-family: monospace;font-weight: bold;display: inline-block;line-height: 1.2em;}#sk-container-id-1 div.sk-label-container {text-align: center;}#sk-container-id-1 div.sk-container {/* jupyter's `normalize.less` sets `[hidden] { display: none; }` but bootstrap.min.css set `[hidden] { display: none !important; }` so we also need the `!important` here to be able to override the default hidden behavior on the sphinx rendered scikit-learn.org. See: https://github.com/scikit-learn/scikit-learn/issues/21755 */display: inline-block !important;position: relative;}#sk-container-id-1 div.sk-text-repr-fallback {display: none;}</style><div id=\"sk-container-id-1\" class=\"sk-top-container\"><div class=\"sk-text-repr-fallback\"><pre>LabelEncoder()</pre><b>In a Jupyter environment, please rerun this cell to show the HTML representation or trust the notebook. <br />On GitHub, the HTML representation is unable to render, please try loading this page with nbviewer.org.</b></div><div class=\"sk-container\" hidden><div class=\"sk-item\"><div class=\"sk-estimator sk-toggleable\"><input class=\"sk-toggleable__control sk-hidden--visually\" id=\"sk-estimator-id-1\" type=\"checkbox\" checked><label for=\"sk-estimator-id-1\" class=\"sk-toggleable__label sk-toggleable__label-arrow\">LabelEncoder</label><div class=\"sk-toggleable__content\"><pre>LabelEncoder()</pre></div></div></div></div></div>"
     },
     "execution_count": 4,
     "metadata": {},
     "output_type": "execute_result"
    }
   ],
   "source": [
    "user_encode = LabelEncoder()\n",
    "user_encode.fit(list(train_user['user_id']) + list(train_user['user_id']))\n",
    "\n",
    "goods_encode = LabelEncoder()\n",
    "goods_encode.fit(list(train_user['goods_id']) + list(train_goods['goods_id']) + list(train_goods['goods_id']))"
   ],
   "metadata": {
    "collapsed": false,
    "ExecuteTime": {
     "end_time": "2023-05-31T18:08:58.911830500Z",
     "start_time": "2023-05-31T18:08:37.466381900Z"
    }
   }
  },
  {
   "cell_type": "code",
   "execution_count": 5,
   "outputs": [
    {
     "data": {
      "text/plain": "(1.0, 0.9999751455447659)"
     },
     "execution_count": 5,
     "metadata": {},
     "output_type": "execute_result"
    }
   ],
   "source": [
    "np.mean(testa_user['user_id'].isin(train_user['user_id'])), np.mean(testa_goods['goods_id'].isin(train_goods['goods_id']))"
   ],
   "metadata": {
    "collapsed": false,
    "ExecuteTime": {
     "end_time": "2023-05-31T18:09:01.879620600Z",
     "start_time": "2023-05-31T18:08:58.915838500Z"
    }
   }
  },
  {
   "cell_type": "markdown",
   "source": [
    "数据分析"
   ],
   "metadata": {
    "collapsed": false
   }
  },
  {
   "cell_type": "code",
   "execution_count": 6,
   "outputs": [
    {
     "data": {
      "text/plain": "((7791816, 8), (1367964, 1))"
     },
     "execution_count": 6,
     "metadata": {},
     "output_type": "execute_result"
    }
   ],
   "source": [
    "train_user.shape, testa_goods.shape"
   ],
   "metadata": {
    "collapsed": false,
    "ExecuteTime": {
     "end_time": "2023-05-31T18:09:01.892616500Z",
     "start_time": "2023-05-31T18:09:01.872612100Z"
    }
   }
  },
  {
   "cell_type": "code",
   "execution_count": 7,
   "outputs": [
    {
     "data": {
      "text/plain": "((5000, 1), (1367964, 1))"
     },
     "execution_count": 7,
     "metadata": {},
     "output_type": "execute_result"
    }
   ],
   "source": [
    "testa_user.shape, testa_goods.shape"
   ],
   "metadata": {
    "collapsed": false,
    "ExecuteTime": {
     "end_time": "2023-05-31T18:09:01.945678300Z",
     "start_time": "2023-05-31T18:09:01.887604800Z"
    }
   }
  },
  {
   "cell_type": "code",
   "execution_count": 8,
   "outputs": [
    {
     "data": {
      "text/plain": "                            user_id                          goods_id  is_clk   \n0  8da2ec07d8bf9bfe1e849cb7e7f25e5c  f6e4f43d18157cbdcdc653c6e35f01fb       1  \\\n1  e873fcfe12d89fc9fe3f3c4425029bae  305fa40cbcd4a898f92f00e5ca4ee317       1   \n2  5c72cfe71eeb24883bb0a0aec656903b  a04fbf8f3f86d9e3c5fa8fa402b75afb       1   \n3  60fef256fdee7bc6d9399deadddb4b83  81de1226af20e196944862b78d27b0b5       1   \n4  c586779ea36d6023e9051a98b8d6299c  dd3cbfbba08484638f4e0427b12ea858       1   \n\n   is_like  is_addcart  is_order    expose_start_time        dt  \n0        0           0         0  2023-02-03 17:11:07  20230203  \n1        0           0         0  2023-02-03 15:32:29  20230203  \n2        0           0         0  2023-02-03 09:07:07  20230203  \n3        0           0         0  2023-02-03 13:04:14  20230203  \n4        0           0         0  2023-02-03 09:18:51  20230203  ",
      "text/html": "<div>\n<style scoped>\n    .dataframe tbody tr th:only-of-type {\n        vertical-align: middle;\n    }\n\n    .dataframe tbody tr th {\n        vertical-align: top;\n    }\n\n    .dataframe thead th {\n        text-align: right;\n    }\n</style>\n<table border=\"1\" class=\"dataframe\">\n  <thead>\n    <tr style=\"text-align: right;\">\n      <th></th>\n      <th>user_id</th>\n      <th>goods_id</th>\n      <th>is_clk</th>\n      <th>is_like</th>\n      <th>is_addcart</th>\n      <th>is_order</th>\n      <th>expose_start_time</th>\n      <th>dt</th>\n    </tr>\n  </thead>\n  <tbody>\n    <tr>\n      <th>0</th>\n      <td>8da2ec07d8bf9bfe1e849cb7e7f25e5c</td>\n      <td>f6e4f43d18157cbdcdc653c6e35f01fb</td>\n      <td>1</td>\n      <td>0</td>\n      <td>0</td>\n      <td>0</td>\n      <td>2023-02-03 17:11:07</td>\n      <td>20230203</td>\n    </tr>\n    <tr>\n      <th>1</th>\n      <td>e873fcfe12d89fc9fe3f3c4425029bae</td>\n      <td>305fa40cbcd4a898f92f00e5ca4ee317</td>\n      <td>1</td>\n      <td>0</td>\n      <td>0</td>\n      <td>0</td>\n      <td>2023-02-03 15:32:29</td>\n      <td>20230203</td>\n    </tr>\n    <tr>\n      <th>2</th>\n      <td>5c72cfe71eeb24883bb0a0aec656903b</td>\n      <td>a04fbf8f3f86d9e3c5fa8fa402b75afb</td>\n      <td>1</td>\n      <td>0</td>\n      <td>0</td>\n      <td>0</td>\n      <td>2023-02-03 09:07:07</td>\n      <td>20230203</td>\n    </tr>\n    <tr>\n      <th>3</th>\n      <td>60fef256fdee7bc6d9399deadddb4b83</td>\n      <td>81de1226af20e196944862b78d27b0b5</td>\n      <td>1</td>\n      <td>0</td>\n      <td>0</td>\n      <td>0</td>\n      <td>2023-02-03 13:04:14</td>\n      <td>20230203</td>\n    </tr>\n    <tr>\n      <th>4</th>\n      <td>c586779ea36d6023e9051a98b8d6299c</td>\n      <td>dd3cbfbba08484638f4e0427b12ea858</td>\n      <td>1</td>\n      <td>0</td>\n      <td>0</td>\n      <td>0</td>\n      <td>2023-02-03 09:18:51</td>\n      <td>20230203</td>\n    </tr>\n  </tbody>\n</table>\n</div>"
     },
     "execution_count": 8,
     "metadata": {},
     "output_type": "execute_result"
    }
   ],
   "source": [
    "train_user.head()"
   ],
   "metadata": {
    "collapsed": false,
    "ExecuteTime": {
     "end_time": "2023-05-31T18:09:01.946615700Z",
     "start_time": "2023-05-31T18:09:01.903605100Z"
    }
   }
  },
  {
   "cell_type": "code",
   "execution_count": 9,
   "outputs": [
    {
     "data": {
      "text/plain": "                           goods_id                            cat_id   \n0  2701f927daa85882f7a62cf173195b79  95b7688a3e6327a73345ce2da3ce6c89  \\\n1  3401512d6e8599ef04cef828dfe7fc0f  0d0fd7c6e093f7b804fa0150b875b868   \n2  2b686c426d3913578beb3555996edcd8  795f50b006782b933cc3f99e28be4ef9   \n3  5434b0b7f44a98e1889d561dfc2eb261  79ea169f7f67d5ca4e93ad3c163e41d4   \n4  0c70bdad70b2ca5f8afaf06ec9c66304  9c5a77f5b39328c7e887f54be2ec1aca   \n\n                            brandsn  \n0  c615a4473c2c23d2db928d49aa6c192c  \n1  c60a61c10d2a17a26e11e2175ec47740  \n2  3d2369f2127266b83bdf024f3807c3d6  \n3  0f348b9abd09bd11a8331e227c01a48a  \n4  c60a61c10d2a17a26e11e2175ec47740  ",
      "text/html": "<div>\n<style scoped>\n    .dataframe tbody tr th:only-of-type {\n        vertical-align: middle;\n    }\n\n    .dataframe tbody tr th {\n        vertical-align: top;\n    }\n\n    .dataframe thead th {\n        text-align: right;\n    }\n</style>\n<table border=\"1\" class=\"dataframe\">\n  <thead>\n    <tr style=\"text-align: right;\">\n      <th></th>\n      <th>goods_id</th>\n      <th>cat_id</th>\n      <th>brandsn</th>\n    </tr>\n  </thead>\n  <tbody>\n    <tr>\n      <th>0</th>\n      <td>2701f927daa85882f7a62cf173195b79</td>\n      <td>95b7688a3e6327a73345ce2da3ce6c89</td>\n      <td>c615a4473c2c23d2db928d49aa6c192c</td>\n    </tr>\n    <tr>\n      <th>1</th>\n      <td>3401512d6e8599ef04cef828dfe7fc0f</td>\n      <td>0d0fd7c6e093f7b804fa0150b875b868</td>\n      <td>c60a61c10d2a17a26e11e2175ec47740</td>\n    </tr>\n    <tr>\n      <th>2</th>\n      <td>2b686c426d3913578beb3555996edcd8</td>\n      <td>795f50b006782b933cc3f99e28be4ef9</td>\n      <td>3d2369f2127266b83bdf024f3807c3d6</td>\n    </tr>\n    <tr>\n      <th>3</th>\n      <td>5434b0b7f44a98e1889d561dfc2eb261</td>\n      <td>79ea169f7f67d5ca4e93ad3c163e41d4</td>\n      <td>0f348b9abd09bd11a8331e227c01a48a</td>\n    </tr>\n    <tr>\n      <th>4</th>\n      <td>0c70bdad70b2ca5f8afaf06ec9c66304</td>\n      <td>9c5a77f5b39328c7e887f54be2ec1aca</td>\n      <td>c60a61c10d2a17a26e11e2175ec47740</td>\n    </tr>\n  </tbody>\n</table>\n</div>"
     },
     "execution_count": 9,
     "metadata": {},
     "output_type": "execute_result"
    }
   ],
   "source": [
    "train_goods.head()"
   ],
   "metadata": {
    "collapsed": false,
    "ExecuteTime": {
     "end_time": "2023-05-31T18:09:01.946615700Z",
     "start_time": "2023-05-31T18:09:01.918615600Z"
    }
   }
  },
  {
   "cell_type": "code",
   "execution_count": 10,
   "outputs": [
    {
     "data": {
      "text/plain": "                            user_id\n0  db55512e13c666a67dbfeae200bbb77e\n1  6be82d1677c1eacfc615446329fa90b1\n2  04672f37371f47e98247e3a426e33d44\n3  887343b7ef8d77baed6b2fdfc4b8f536\n4  95b336152a9e6aa6130233846ddcfc7a",
      "text/html": "<div>\n<style scoped>\n    .dataframe tbody tr th:only-of-type {\n        vertical-align: middle;\n    }\n\n    .dataframe tbody tr th {\n        vertical-align: top;\n    }\n\n    .dataframe thead th {\n        text-align: right;\n    }\n</style>\n<table border=\"1\" class=\"dataframe\">\n  <thead>\n    <tr style=\"text-align: right;\">\n      <th></th>\n      <th>user_id</th>\n    </tr>\n  </thead>\n  <tbody>\n    <tr>\n      <th>0</th>\n      <td>db55512e13c666a67dbfeae200bbb77e</td>\n    </tr>\n    <tr>\n      <th>1</th>\n      <td>6be82d1677c1eacfc615446329fa90b1</td>\n    </tr>\n    <tr>\n      <th>2</th>\n      <td>04672f37371f47e98247e3a426e33d44</td>\n    </tr>\n    <tr>\n      <th>3</th>\n      <td>887343b7ef8d77baed6b2fdfc4b8f536</td>\n    </tr>\n    <tr>\n      <th>4</th>\n      <td>95b336152a9e6aa6130233846ddcfc7a</td>\n    </tr>\n  </tbody>\n</table>\n</div>"
     },
     "execution_count": 10,
     "metadata": {},
     "output_type": "execute_result"
    }
   ],
   "source": [
    "testa_user.head()"
   ],
   "metadata": {
    "collapsed": false,
    "ExecuteTime": {
     "end_time": "2023-05-31T18:09:01.959615300Z",
     "start_time": "2023-05-31T18:09:01.935628Z"
    }
   }
  },
  {
   "cell_type": "code",
   "execution_count": 11,
   "outputs": [
    {
     "data": {
      "text/plain": "                           goods_id\n0  73e4cff7f7dca90b90fba589709cde14\n1  443d7b759f77e4191c9cd3ef1575befc\n2  839e4333054d929bcf284fccc7cadba6\n3  52411d011ff1c09e8767fc3a2be8708a\n4  d0d40297acaf73fcf492550e969d89d1",
      "text/html": "<div>\n<style scoped>\n    .dataframe tbody tr th:only-of-type {\n        vertical-align: middle;\n    }\n\n    .dataframe tbody tr th {\n        vertical-align: top;\n    }\n\n    .dataframe thead th {\n        text-align: right;\n    }\n</style>\n<table border=\"1\" class=\"dataframe\">\n  <thead>\n    <tr style=\"text-align: right;\">\n      <th></th>\n      <th>goods_id</th>\n    </tr>\n  </thead>\n  <tbody>\n    <tr>\n      <th>0</th>\n      <td>73e4cff7f7dca90b90fba589709cde14</td>\n    </tr>\n    <tr>\n      <th>1</th>\n      <td>443d7b759f77e4191c9cd3ef1575befc</td>\n    </tr>\n    <tr>\n      <th>2</th>\n      <td>839e4333054d929bcf284fccc7cadba6</td>\n    </tr>\n    <tr>\n      <th>3</th>\n      <td>52411d011ff1c09e8767fc3a2be8708a</td>\n    </tr>\n    <tr>\n      <th>4</th>\n      <td>d0d40297acaf73fcf492550e969d89d1</td>\n    </tr>\n  </tbody>\n</table>\n</div>"
     },
     "execution_count": 11,
     "metadata": {},
     "output_type": "execute_result"
    }
   ],
   "source": [
    "testa_goods.head()"
   ],
   "metadata": {
    "collapsed": false,
    "ExecuteTime": {
     "end_time": "2023-05-31T18:09:01.965620600Z",
     "start_time": "2023-05-31T18:09:01.950619700Z"
    }
   }
  },
  {
   "cell_type": "code",
   "execution_count": 12,
   "outputs": [
    {
     "data": {
      "text/plain": "(51602, 1531577)"
     },
     "execution_count": 12,
     "metadata": {},
     "output_type": "execute_result"
    }
   ],
   "source": [
    "train_user['user_id'].nunique(), train_user['goods_id'].nunique()"
   ],
   "metadata": {
    "collapsed": false,
    "ExecuteTime": {
     "end_time": "2023-05-31T18:09:06.014766500Z",
     "start_time": "2023-05-31T18:09:01.966620Z"
    }
   }
  },
  {
   "cell_type": "code",
   "execution_count": 13,
   "outputs": [
    {
     "data": {
      "text/plain": "           is_clk     is_like  is_addcart    is_order           dt\ncount  7791816.00  7791816.00  7791816.00  7791816.00   7791816.00\nmean         1.06        0.02        0.06        0.01  20230222.85\nstd          0.28        0.13        0.27        0.09        26.21\nmin          1.00        0.00        0.00        0.00  20230203.00\n25%          1.00        0.00        0.00        0.00  20230209.00\n50%          1.00        0.00        0.00        0.00  20230216.00\n75%          1.00        0.00        0.00        0.00  20230224.00\nmax        121.00       22.00       28.00       15.00  20230303.00",
      "text/html": "<div>\n<style scoped>\n    .dataframe tbody tr th:only-of-type {\n        vertical-align: middle;\n    }\n\n    .dataframe tbody tr th {\n        vertical-align: top;\n    }\n\n    .dataframe thead th {\n        text-align: right;\n    }\n</style>\n<table border=\"1\" class=\"dataframe\">\n  <thead>\n    <tr style=\"text-align: right;\">\n      <th></th>\n      <th>is_clk</th>\n      <th>is_like</th>\n      <th>is_addcart</th>\n      <th>is_order</th>\n      <th>dt</th>\n    </tr>\n  </thead>\n  <tbody>\n    <tr>\n      <th>count</th>\n      <td>7791816.00</td>\n      <td>7791816.00</td>\n      <td>7791816.00</td>\n      <td>7791816.00</td>\n      <td>7791816.00</td>\n    </tr>\n    <tr>\n      <th>mean</th>\n      <td>1.06</td>\n      <td>0.02</td>\n      <td>0.06</td>\n      <td>0.01</td>\n      <td>20230222.85</td>\n    </tr>\n    <tr>\n      <th>std</th>\n      <td>0.28</td>\n      <td>0.13</td>\n      <td>0.27</td>\n      <td>0.09</td>\n      <td>26.21</td>\n    </tr>\n    <tr>\n      <th>min</th>\n      <td>1.00</td>\n      <td>0.00</td>\n      <td>0.00</td>\n      <td>0.00</td>\n      <td>20230203.00</td>\n    </tr>\n    <tr>\n      <th>25%</th>\n      <td>1.00</td>\n      <td>0.00</td>\n      <td>0.00</td>\n      <td>0.00</td>\n      <td>20230209.00</td>\n    </tr>\n    <tr>\n      <th>50%</th>\n      <td>1.00</td>\n      <td>0.00</td>\n      <td>0.00</td>\n      <td>0.00</td>\n      <td>20230216.00</td>\n    </tr>\n    <tr>\n      <th>75%</th>\n      <td>1.00</td>\n      <td>0.00</td>\n      <td>0.00</td>\n      <td>0.00</td>\n      <td>20230224.00</td>\n    </tr>\n    <tr>\n      <th>max</th>\n      <td>121.00</td>\n      <td>22.00</td>\n      <td>28.00</td>\n      <td>15.00</td>\n      <td>20230303.00</td>\n    </tr>\n  </tbody>\n</table>\n</div>"
     },
     "execution_count": 13,
     "metadata": {},
     "output_type": "execute_result"
    }
   ],
   "source": [
    "train_user.describe().round(2)"
   ],
   "metadata": {
    "collapsed": false,
    "ExecuteTime": {
     "end_time": "2023-05-31T18:09:07.018171300Z",
     "start_time": "2023-05-31T18:09:06.015767100Z"
    }
   }
  },
  {
   "cell_type": "code",
   "execution_count": 14,
   "outputs": [
    {
     "data": {
      "text/plain": "user_id\n94f8b77847a017324845b26592fdd964    15112\nb83033e19eabcdd63ecc5d1cab156916     7913\nff9aa8c43066095cc67a5568ba5fb1c5     6453\n485fbc41750e44e308f30683e4c8bbff     5582\nc86e5bc3780bdb839b676d7505d15a49     5311\n                                    ...  \nf59919d2080053a4dfc516f200e4acce        1\nc69ef88929430b67468a02abf73c8df3        1\nbdf8350900cc5c08ce6753753213c00c        1\n3127fb685010c92499d3a98455db440b        1\ne305e481199cc9881f05ae7399c76463        1\nName: count, Length: 51602, dtype: int64"
     },
     "execution_count": 14,
     "metadata": {},
     "output_type": "execute_result"
    }
   ],
   "source": [
    "train_user['user_id'].value_counts()"
   ],
   "metadata": {
    "collapsed": false,
    "ExecuteTime": {
     "end_time": "2023-05-31T18:09:08.348523400Z",
     "start_time": "2023-05-31T18:09:07.017539Z"
    }
   }
  },
  {
   "cell_type": "code",
   "execution_count": 15,
   "outputs": [],
   "source": [
    "train_data = pd.merge(train_user.iloc[:], train_goods.iloc[:], on='goods_id')"
   ],
   "metadata": {
    "collapsed": false,
    "ExecuteTime": {
     "end_time": "2023-05-31T18:09:18.717398600Z",
     "start_time": "2023-05-31T18:09:08.351519600Z"
    }
   }
  },
  {
   "cell_type": "code",
   "execution_count": 16,
   "outputs": [
    {
     "data": {
      "text/plain": "(1616, 4711)"
     },
     "execution_count": 16,
     "metadata": {},
     "output_type": "execute_result"
    }
   ],
   "source": [
    "train_data['cat_id'].nunique(), train_data['brandsn'].nunique()"
   ],
   "metadata": {
    "collapsed": false,
    "ExecuteTime": {
     "end_time": "2023-05-31T18:09:19.894684800Z",
     "start_time": "2023-05-31T18:09:18.720399400Z"
    }
   }
  },
  {
   "cell_type": "markdown",
   "source": [
    "模型搭建"
   ],
   "metadata": {
    "collapsed": false
   }
  },
  {
   "cell_type": "code",
   "execution_count": 17,
   "outputs": [],
   "source": [
    "train_agg_feat = train_data.iloc[:].groupby(['user_id', 'goods_id']).agg({\n",
    "    'is_clk': ['sum', 'max'],\n",
    "    'is_like': ['sum', 'max'],\n",
    "    'is_addcart': ['sum', 'max'],\n",
    "    'is_order': ['sum', 'max'],\n",
    "})\n",
    "\n",
    "train_agg_feat = train_agg_feat.reset_index()\n",
    "train_agg_feat.columns = [\n",
    "    'user_id',\n",
    "    'goods_id',\n",
    "    'is_clk_sum',\n",
    "    'is_clk_max',\n",
    "    'is_like_sum',\n",
    "    'is_like_max',\n",
    "    'is_addcart_sum',\n",
    "    'is_addcart_max',\n",
    "    'is_order_sum',\n",
    "    'is_order_max'\n",
    " ]"
   ],
   "metadata": {
    "collapsed": false,
    "ExecuteTime": {
     "end_time": "2023-05-31T18:09:37.595194900Z",
     "start_time": "2023-05-31T18:09:19.896686400Z"
    }
   }
  },
  {
   "cell_type": "code",
   "execution_count": 18,
   "outputs": [],
   "source": [
    "test_goods_id_agg = train_agg_feat.groupby('goods_id').agg({\n",
    "    'is_clk_sum': 'sum',\n",
    "    'is_order_sum': 'sum'\n",
    "})\n",
    "test_goods_id_agg = test_goods_id_agg[test_goods_id_agg['is_clk_sum'] > 100]\n",
    "# test_goods_id_agg = test_goods_id_agg[test_goods_id_agg['is_clk_sum'] > 50]\n",
    "# test_goods_id_agg = test_goods_id_agg[test_goods_id_agg['is_order_sum'] > 0]\n",
    "\n",
    "test_valid_goods = test_goods_id_agg.index"
   ],
   "metadata": {
    "collapsed": false,
    "ExecuteTime": {
     "end_time": "2023-05-31T18:09:45.829262800Z",
     "start_time": "2023-05-31T18:09:37.598198100Z"
    }
   }
  },
  {
   "cell_type": "code",
   "execution_count": 19,
   "outputs": [],
   "source": [
    "train_feat_downsmaple = pd.concat([\n",
    "    train_agg_feat[train_agg_feat['is_order_max'] !=0],\n",
    "    train_agg_feat[train_agg_feat['is_order_max'] ==0].sample(int(0.03 * len(train_agg_feat)))\n",
    "], axis=0)"
   ],
   "metadata": {
    "collapsed": false,
    "ExecuteTime": {
     "end_time": "2023-05-31T18:09:46.967429200Z",
     "start_time": "2023-05-31T18:09:45.832257100Z"
    }
   }
  },
  {
   "cell_type": "code",
   "execution_count": 20,
   "outputs": [
    {
     "data": {
      "text/plain": "0.7795159078177217"
     },
     "execution_count": 20,
     "metadata": {},
     "output_type": "execute_result"
    }
   ],
   "source": [
    "1 - train_feat_downsmaple['is_order_max'].mean()"
   ],
   "metadata": {
    "collapsed": false,
    "ExecuteTime": {
     "end_time": "2023-05-31T18:09:46.982433400Z",
     "start_time": "2023-05-31T18:09:46.970430100Z"
    }
   }
  },
  {
   "cell_type": "code",
   "execution_count": 21,
   "outputs": [
    {
     "data": {
      "text/plain": "0.7582320783510731"
     },
     "execution_count": 21,
     "metadata": {},
     "output_type": "execute_result"
    }
   ],
   "source": [
    "1 - train_feat_downsmaple['is_addcart_max'].mean()"
   ],
   "metadata": {
    "collapsed": false,
    "ExecuteTime": {
     "end_time": "2023-05-31T18:09:47.041447800Z",
     "start_time": "2023-05-31T18:09:46.986434500Z"
    }
   }
  },
  {
   "cell_type": "code",
   "execution_count": 22,
   "outputs": [
    {
     "data": {
      "text/plain": "(258835, 10)"
     },
     "execution_count": 22,
     "metadata": {},
     "output_type": "execute_result"
    }
   ],
   "source": [
    "train_feat_downsmaple.shape"
   ],
   "metadata": {
    "collapsed": false,
    "ExecuteTime": {
     "end_time": "2023-05-31T18:09:47.049449600Z",
     "start_time": "2023-05-31T18:09:47.000438300Z"
    }
   }
  },
  {
   "cell_type": "code",
   "execution_count": 23,
   "outputs": [],
   "source": [
    "train_feat_downsmaple['user_id'] = user_encode.transform(train_feat_downsmaple['user_id'])\n",
    "train_feat_downsmaple['goods_id'] = goods_encode.transform(train_feat_downsmaple['goods_id'])"
   ],
   "metadata": {
    "collapsed": false,
    "ExecuteTime": {
     "end_time": "2023-05-31T18:09:51.791274900Z",
     "start_time": "2023-05-31T18:09:47.018441300Z"
    }
   }
  },
  {
   "cell_type": "code",
   "execution_count": 24,
   "outputs": [],
   "source": [
    "import paddle\n",
    "import paddle.nn as nn\n",
    "from paddle.io import Dataset\n",
    "\n",
    "class SelfDefinedDataset(Dataset):\n",
    "    def __init__(self, df, mode = 'train'):\n",
    "        super(SelfDefinedDataset, self).__init__()\n",
    "        self.df = df\n",
    "        self.mode = mode\n",
    "\n",
    "    def __getitem__(self, idx):\n",
    "        if self.mode == 'predict':\n",
    "            return (\n",
    "                self.df['user_id'].iloc[idx],\n",
    "                self.df['goods_id'].iloc[idx],\n",
    "                self.df['is_clk_max'].iloc[idx],\n",
    "                self.df['is_like_max'].iloc[idx],\n",
    "                self.df['is_addcart_max'].iloc[idx],\n",
    "            )\n",
    "        else:\n",
    "            return (\n",
    "                self.df['user_id'].iloc[idx],\n",
    "                self.df['goods_id'].iloc[idx],\n",
    "                self.df['is_clk_max'].iloc[idx],\n",
    "                self.df['is_like_max'].iloc[idx],\n",
    "                self.df['is_addcart_max'].iloc[idx],\n",
    "                self.df['is_order_max'].iloc[idx]\n",
    "            )\n",
    "\n",
    "    def __len__(self):\n",
    "        return len(self.df)"
   ],
   "metadata": {
    "collapsed": false,
    "ExecuteTime": {
     "end_time": "2023-05-31T18:09:55.614821800Z",
     "start_time": "2023-05-31T18:09:51.793277100Z"
    }
   }
  },
  {
   "cell_type": "code",
   "execution_count": 25,
   "outputs": [],
   "source": [
    "EMBEDDING_SIZE = 256\n",
    "\n",
    "# 定义深度学习模型\n",
    "class RecommenderNet(nn.Layer):\n",
    "    def __init__(self, num_users, num_goods, embedding_size, numeric_size):\n",
    "        super(RecommenderNet, self).__init__()\n",
    "        self.num_users = num_users\n",
    "        self.num_goods = num_goods\n",
    "        self.embedding_size = embedding_size\n",
    "        self.numeric_size = numeric_size\n",
    "        self.dropout = nn.Dropout(p=0.5)  # 设置丢弃的概率为 0.5\n",
    "\n",
    "        weight_attr_user = paddle.ParamAttr(\n",
    "            regularizer = paddle.regularizer.L2Decay(1e-6),\n",
    "            initializer = nn.initializer.KaimingNormal()\n",
    "            )\n",
    "        self.user_embedding = nn.Embedding(\n",
    "            num_users,\n",
    "            embedding_size,\n",
    "            weight_attr=weight_attr_user\n",
    "        )\n",
    "\n",
    "        weight_attr_goods = paddle.ParamAttr(\n",
    "            regularizer=paddle.regularizer.L2Decay(1e-6),\n",
    "            initializer=nn.initializer.KaimingNormal()\n",
    "        )\n",
    "        self.goods_embedding = nn.Embedding(\n",
    "            num_goods,\n",
    "            embedding_size,\n",
    "            weight_attr=weight_attr_goods\n",
    "        )\n",
    "\n",
    "        self.hidden_layer = nn.Linear(2 * embedding_size + numeric_size, 128)\n",
    "\n",
    "        self.linear = nn.Linear(128, 1)\n",
    "\n",
    "    def forward(self, data):\n",
    "        # user, goods, feat = data[0], data[1], [data[idx] for idx in [2, 3,4]]\n",
    "        user, goods, feat = data[0], data[1], [data[idx] for idx in range(2, len(data))]\n",
    "        feat = paddle.stack(feat, 1).astype(paddle.float32)\n",
    "\n",
    "        user_vector = self.user_embedding(user)\n",
    "        goods_vector = self.goods_embedding(goods)\n",
    "\n",
    "        x = paddle.concat([user_vector, goods_vector, feat], axis=1)\n",
    "        x = self.dropout(x)  # 添加 Dropout 层\n",
    "        x = self.hidden_layer(x)\n",
    "        x = paddle.nn.functional.relu(x)  # 添加ReLU激活函数\n",
    "\n",
    "        return self.linear(x)"
   ],
   "metadata": {
    "collapsed": false,
    "ExecuteTime": {
     "end_time": "2023-05-31T18:09:55.629563Z",
     "start_time": "2023-05-31T18:09:55.620816900Z"
    }
   }
  },
  {
   "cell_type": "code",
   "execution_count": 26,
   "outputs": [],
   "source": [
    "# 定义模型损失函数、优化器和评价指标\n",
    "model = RecommenderNet(len(user_encode.classes_), len(goods_encode.classes_), 128, 4)\n",
    "\n",
    "# optimizer = paddle.optimizer.Adam(parameters=model.parameters(), learning_rate=0.0006)\n",
    "# 定义优化器，并设置学习率调度器\n",
    "# learning_rate = 0.0001\n",
    "optimizer = paddle.optimizer.Adam(parameters=model.parameters(), learning_rate=0.0006)\n",
    "# lr_scheduler = paddle.optimizer.lr.StepDecay(learning_rate=learning_rate, step_size=3, gamma=0.1)\n",
    "# current_lr = lr_scheduler.get_lr()\n",
    "# optimizer.set_lr(current_lr)\n",
    "\n",
    "# optimizer = paddle.optimizer.SGD(parameters=model.parameters(), learning_rate=0.01)\n",
    "loss_fn = nn.BCEWithLogitsLoss()"
   ],
   "metadata": {
    "collapsed": false,
    "ExecuteTime": {
     "end_time": "2023-05-31T18:09:57.507842Z",
     "start_time": "2023-05-31T18:09:55.633558300Z"
    }
   }
  },
  {
   "cell_type": "markdown",
   "source": [
    "模型训练与预测"
   ],
   "metadata": {
    "collapsed": false
   }
  },
  {
   "cell_type": "code",
   "execution_count": 27,
   "outputs": [
    {
     "name": "stdout",
     "output_type": "stream",
     "text": [
      "0 0.781569339540634\n",
      "1 0.7808207931693937\n",
      "2 0.7802267854038287\n",
      "3 0.7802605907238201\n",
      "Early stopping triggered.\n"
     ]
    }
   ],
   "source": [
    "# 模型训练\n",
    "Train_Loss = []\n",
    "best_val_loss = float('inf')\n",
    "patience = 4\n",
    "counter = 0\n",
    "\n",
    "for epoch in range(15):\n",
    "    train_feat_downsmaple = train_feat_downsmaple.sample(frac=1.0)\n",
    "\n",
    "    traindataset = SelfDefinedDataset(train_feat_downsmaple.iloc[:-int(-0.2*len(train_feat_downsmaple))])\n",
    "    train_loader = paddle.io.DataLoader(traindataset, batch_size = 128, shuffle = True)\n",
    "\n",
    "    validdataset = SelfDefinedDataset(train_feat_downsmaple.iloc[-int(-0.2*len(train_feat_downsmaple)):])\n",
    "    valid_loader = paddle.io.DataLoader(validdataset, batch_size = 128, shuffle = True)\n",
    "\n",
    "    model.train()\n",
    "\n",
    "    for i, data in enumerate(train_loader):\n",
    "        # lr_scheduler.step()\n",
    "        pred = model(data)\n",
    "        loss = loss_fn(data[-1].astype(paddle.float32), pred.flatten())\n",
    "        Train_Loss.append(loss.item())\n",
    "        loss.backward()\n",
    "        optimizer.step()\n",
    "        optimizer.clear_grad()\n",
    "\n",
    "    # 模型验证\n",
    "    Val_acc = []\n",
    "    model.eval()\n",
    "    with paddle.no_grad():\n",
    "        valid_loss = 0\n",
    "        for i, data in enumerate(valid_loader):\n",
    "            pred = model(data)\n",
    "            Val_acc.append(((pred.flatten() > 0).astype(paddle.int64) == data[-1]).sum().item())\n",
    "            valid_loss += loss_fn(data[-1].astype(paddle.float32), pred.flatten()).item()\n",
    "        valid_loss /= len(valid_loader)\n",
    "        # Early Stopping\n",
    "        if valid_loss < best_val_loss:\n",
    "            best_val_loss = valid_loss\n",
    "            counter = 0\n",
    "        else:\n",
    "            counter += 1\n",
    "            if counter >= patience:\n",
    "                print(\"Early stopping triggered.\")\n",
    "                break\n",
    "    print(epoch, np.sum(Val_acc) / len(valid_loader.dataset))"
   ],
   "metadata": {
    "collapsed": false,
    "ExecuteTime": {
     "end_time": "2023-05-31T18:11:54.434901900Z",
     "start_time": "2023-05-31T18:09:57.514843Z"
    }
   }
  },
  {
   "cell_type": "code",
   "execution_count": 28,
   "outputs": [],
   "source": [
    "# test_valid_goods = test_valid_goods[test_valid_goods.isin()]\n",
    "\n",
    "test_agg_feat = []\n",
    "for user in testa_user['user_id'].values:\n",
    "    for goods in test_valid_goods:\n",
    "        test_agg_feat.append([user, goods])"
   ],
   "metadata": {
    "collapsed": false,
    "ExecuteTime": {
     "end_time": "2023-05-31T18:11:59.890535800Z",
     "start_time": "2023-05-31T18:11:54.437902700Z"
    }
   }
  },
  {
   "cell_type": "code",
   "execution_count": 29,
   "outputs": [],
   "source": [
    "test_agg_feat = pd.DataFrame(test_agg_feat)\n",
    "test_agg_feat.columns = ['user_id', 'goods_id']"
   ],
   "metadata": {
    "collapsed": false,
    "ExecuteTime": {
     "end_time": "2023-05-31T18:12:00.833893500Z",
     "start_time": "2023-05-31T18:11:59.893533100Z"
    }
   }
  },
  {
   "cell_type": "code",
   "execution_count": 30,
   "outputs": [],
   "source": [
    "test_agg_feat = pd.merge(test_agg_feat, train_agg_feat, on=['user_id', 'goods_id'])"
   ],
   "metadata": {
    "collapsed": false,
    "ExecuteTime": {
     "end_time": "2023-05-31T18:12:08.685088500Z",
     "start_time": "2023-05-31T18:12:00.834893900Z"
    }
   }
  },
  {
   "cell_type": "code",
   "execution_count": 31,
   "outputs": [],
   "source": [
    "test_agg_feat['user_id'] = user_encode.transform(test_agg_feat['user_id'])\n",
    "test_agg_feat['goods_id'] = goods_encode.transform(test_agg_feat['goods_id'])"
   ],
   "metadata": {
    "collapsed": false,
    "ExecuteTime": {
     "end_time": "2023-05-31T18:12:12.968009700Z",
     "start_time": "2023-05-31T18:12:08.687088800Z"
    }
   }
  },
  {
   "cell_type": "code",
   "execution_count": 32,
   "outputs": [],
   "source": [
    "testdataset = SelfDefinedDataset(test_agg_feat)\n",
    "test_loader = paddle.io.DataLoader(testdataset, batch_size = 128, shuffle = False)"
   ],
   "metadata": {
    "collapsed": false,
    "ExecuteTime": {
     "end_time": "2023-05-31T18:12:12.984013600Z",
     "start_time": "2023-05-31T18:12:12.969009800Z"
    }
   }
  },
  {
   "cell_type": "code",
   "execution_count": 33,
   "outputs": [],
   "source": [
    "model.eval()\n",
    "\n",
    "test_pred = []\n",
    "with paddle.no_grad():\n",
    "    for i, data in enumerate(test_loader):\n",
    "        pred = model(data)\n",
    "        test_pred += list((paddle.nn.functional.sigmoid(pred) > 0.5).numpy().reshape(-1))"
   ],
   "metadata": {
    "collapsed": false,
    "ExecuteTime": {
     "end_time": "2023-05-31T18:12:15.592737600Z",
     "start_time": "2023-05-31T18:12:12.988025300Z"
    }
   }
  },
  {
   "cell_type": "code",
   "execution_count": 34,
   "outputs": [],
   "source": [
    "test_agg_feat['pred'] = test_pred"
   ],
   "metadata": {
    "collapsed": false,
    "ExecuteTime": {
     "end_time": "2023-05-31T18:12:15.608722500Z",
     "start_time": "2023-05-31T18:12:15.595721700Z"
    }
   }
  },
  {
   "cell_type": "code",
   "execution_count": 35,
   "outputs": [],
   "source": [
    "test_agg_feat = test_agg_feat[test_agg_feat['pred']]"
   ],
   "metadata": {
    "collapsed": false,
    "ExecuteTime": {
     "end_time": "2023-05-31T18:12:15.640966Z",
     "start_time": "2023-05-31T18:12:15.609727400Z"
    }
   }
  },
  {
   "cell_type": "code",
   "execution_count": 36,
   "outputs": [
    {
     "name": "stderr",
     "output_type": "stream",
     "text": [
      "C:\\Users\\Preposterous\\AppData\\Local\\Temp\\ipykernel_8804\\2387977624.py:1: SettingWithCopyWarning: \n",
      "A value is trying to be set on a copy of a slice from a DataFrame.\n",
      "Try using .loc[row_indexer,col_indexer] = value instead\n",
      "\n",
      "See the caveats in the documentation: https://pandas.pydata.org/pandas-docs/stable/user_guide/indexing.html#returning-a-view-versus-a-copy\n",
      "  test_agg_feat['user_id'] = user_encode.inverse_transform(test_agg_feat['user_id'])\n",
      "C:\\Users\\Preposterous\\AppData\\Local\\Temp\\ipykernel_8804\\2387977624.py:2: SettingWithCopyWarning: \n",
      "A value is trying to be set on a copy of a slice from a DataFrame.\n",
      "Try using .loc[row_indexer,col_indexer] = value instead\n",
      "\n",
      "See the caveats in the documentation: https://pandas.pydata.org/pandas-docs/stable/user_guide/indexing.html#returning-a-view-versus-a-copy\n",
      "  test_agg_feat['goods_id'] = goods_encode.inverse_transform(test_agg_feat['goods_id'])\n"
     ]
    }
   ],
   "source": [
    "test_agg_feat['user_id'] = user_encode.inverse_transform(test_agg_feat['user_id'])\n",
    "test_agg_feat['goods_id'] = goods_encode.inverse_transform(test_agg_feat['goods_id'])"
   ],
   "metadata": {
    "collapsed": false,
    "ExecuteTime": {
     "end_time": "2023-05-31T18:12:15.688968Z",
     "start_time": "2023-05-31T18:12:15.625951100Z"
    }
   }
  },
  {
   "cell_type": "code",
   "execution_count": 37,
   "outputs": [],
   "source": [
    "test_agg_feat[['user_id', 'goods_id']].to_csv('u2i.csv', index=None, header=None)"
   ],
   "metadata": {
    "collapsed": false,
    "ExecuteTime": {
     "end_time": "2023-05-31T18:12:15.702885Z",
     "start_time": "2023-05-31T18:12:15.689968Z"
    }
   }
  },
  {
   "cell_type": "code",
   "execution_count": 38,
   "outputs": [
    {
     "name": "stdout",
     "output_type": "stream",
     "text": [
      "列已成功添加到第一行！\n"
     ]
    }
   ],
   "source": [
    "import csv\n",
    "\n",
    "# 定义要添加的列名\n",
    "new_columns = [\"user_id\", \"goods_id\"]\n",
    "\n",
    "# 打开原始CSV文件并读取数据\n",
    "with open(\"u2i.csv\", \"r\") as file:\n",
    "    reader = csv.reader(file)\n",
    "    data = list(reader)\n",
    "\n",
    "# 在第一行插入新的列名\n",
    "data[0] = new_columns\n",
    "\n",
    "# 将更新后的数据写入新的CSV文件\n",
    "with open(\"u2i_updated.csv\", \"w\", newline=\"\") as file:\n",
    "    writer = csv.writer(file)\n",
    "    writer.writerows(data)\n",
    "\n",
    "print(\"列已成功添加到第一行！\")"
   ],
   "metadata": {
    "collapsed": false,
    "ExecuteTime": {
     "end_time": "2023-05-31T18:12:15.749590100Z",
     "start_time": "2023-05-31T18:12:15.706881100Z"
    }
   }
  },
  {
   "cell_type": "code",
   "execution_count": 38,
   "outputs": [],
   "source": [],
   "metadata": {
    "collapsed": false,
    "ExecuteTime": {
     "end_time": "2023-05-31T18:12:15.763617500Z",
     "start_time": "2023-05-31T18:12:15.720924200Z"
    }
   }
  }
 ],
 "metadata": {
  "kernelspec": {
   "display_name": "Python 3",
   "language": "python",
   "name": "python3"
  },
  "language_info": {
   "codemirror_mode": {
    "name": "ipython",
    "version": 2
   },
   "file_extension": ".py",
   "mimetype": "text/x-python",
   "name": "python",
   "nbconvert_exporter": "python",
   "pygments_lexer": "ipython2",
   "version": "2.7.6"
  }
 },
 "nbformat": 4,
 "nbformat_minor": 0
}

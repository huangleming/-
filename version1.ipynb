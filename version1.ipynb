{
 "cells": [
  {
   "cell_type": "code",
   "execution_count": 28,
   "metadata": {
    "collapsed": true,
    "ExecuteTime": {
     "end_time": "2023-05-29T14:55:34.260028300Z",
     "start_time": "2023-05-29T14:55:34.166554200Z"
    }
   },
   "outputs": [
    {
     "name": "stderr",
     "output_type": "stream",
     "text": [
      "'ls' 不是内部或外部命令，也不是可运行的程序\n",
      "或批处理文件。\n"
     ]
    }
   ],
   "source": [
    "import pandas as pd\n",
    "import numpy as np\n",
    "import glob\n",
    "from sklearn.preprocessing import LabelEncoder"
   ]
  },
  {
   "cell_type": "code",
   "execution_count": 30,
   "outputs": [
    {
     "name": "stdout",
     "output_type": "stream",
     "text": [
      "                               user_id                          goods_id  \\\n",
      "0     8da2ec07d8bf9bfe1e849cb7e7f25e5c  f6e4f43d18157cbdcdc653c6e35f01fb   \n",
      "1     e873fcfe12d89fc9fe3f3c4425029bae  305fa40cbcd4a898f92f00e5ca4ee317   \n",
      "2     5c72cfe71eeb24883bb0a0aec656903b  a04fbf8f3f86d9e3c5fa8fa402b75afb   \n",
      "3     60fef256fdee7bc6d9399deadddb4b83  81de1226af20e196944862b78d27b0b5   \n",
      "4     c586779ea36d6023e9051a98b8d6299c  dd3cbfbba08484638f4e0427b12ea858   \n",
      "...                                ...                               ...   \n",
      "4078  333cb2e2e4c37293ca79f985a66d72f4  2acf9dbcd66278505f54da19d636825c   \n",
      "4079  0af3c657e1246676be1e5cbc1b92b774  edaa9e855506072d7c8472e46907e4c5   \n",
      "4080  c5965e8ee38ccf7c99c7ae3667915184  bf26f5da649fa9ecb44e733ed37732e6   \n",
      "4081  c5965e8ee38ccf7c99c7ae3667915184  402bc399c90f21a1b5d01c504cd395e4   \n",
      "4082  c5965e8ee38ccf7c99c7ae3667915184  045787e1c6a971cefbef449b73b9e4d2   \n",
      "\n",
      "      is_clk  is_like  is_addcart  is_order    expose_start_time        dt  \n",
      "0          1        0           0         0  2023-02-03 17:11:07  20230203  \n",
      "1          1        0           0         0  2023-02-03 15:32:29  20230203  \n",
      "2          1        0           0         0  2023-02-03 09:07:07  20230203  \n",
      "3          1        0           0         0  2023-02-03 13:04:14  20230203  \n",
      "4          1        0           0         0  2023-02-03 09:18:51  20230203  \n",
      "...      ...      ...         ...       ...                  ...       ...  \n",
      "4078       1        0           0         0  2023-02-08 12:06:10  20230208  \n",
      "4079       1        0           0         0  2023-02-08 22:43:42  20230208  \n",
      "4080       1        0           0         0  2023-02-08 22:47:43  20230208  \n",
      "4081       1        0           0         0  2023-02-08 22:45:28  20230208  \n",
      "4082       2        0           0         0  2023-02-08 22:46:19  20230208  \n",
      "\n",
      "[7791816 rows x 8 columns]\n"
     ]
    }
   ],
   "source": [
    "train_goods = pd.concat([\n",
    "    pd.read_csv('./训练集/traindata_goodsid/part-00000', header=None, names=['goods_id', 'cat_id', 'brandsn']),\n",
    "    pd.read_csv('./训练集/traindata_goodsid/part-00001', header=None, names=['goods_id', 'cat_id', 'brandsn']),\n",
    "    pd.read_csv('./训练集/traindata_goodsid/part-00002', header=None, names=['goods_id', 'cat_id', 'brandsn'])\n",
    "], axis=0)\n",
    "\n",
    "train_user = pd.concat([\n",
    "    pd.read_csv(x, header=None, names=['user_id', 'goods_id', 'is_clk', 'is_like', 'is_addcart', 'is_order', 'expose_start_time', 'dt'], nrows=None)\n",
    "    for x in glob.glob('./训练集/traindata_user/part*')\n",
    "], axis=0)\n",
    "print(train_user)"
   ],
   "metadata": {
    "collapsed": false,
    "ExecuteTime": {
     "end_time": "2023-05-29T14:55:49.859516900Z",
     "start_time": "2023-05-29T14:55:34.237088400Z"
    }
   }
  },
  {
   "cell_type": "code",
   "execution_count": 31,
   "outputs": [
    {
     "name": "stdout",
     "output_type": "stream",
     "text": [
      "                                goods_id  cat_id  brandsn\n",
      "0       73e4cff7f7dca90b90fba589709cde14     NaN      NaN\n",
      "1       443d7b759f77e4191c9cd3ef1575befc     NaN      NaN\n",
      "2       839e4333054d929bcf284fccc7cadba6     NaN      NaN\n",
      "3       52411d011ff1c09e8767fc3a2be8708a     NaN      NaN\n",
      "4       d0d40297acaf73fcf492550e969d89d1     NaN      NaN\n",
      "...                                  ...     ...      ...\n",
      "684096  f407346731394c0f90abe793d9db5615     NaN      NaN\n",
      "684097  014c824410cf6cba025a7fe1f6a95dfb     NaN      NaN\n",
      "684098  8143fbc62aed7122bcd7012382636fea     NaN      NaN\n",
      "684099  ad27805b7ca9fcf4726053ba5b33f0cf     NaN      NaN\n",
      "684100  1a46974edf4d9425e991d24b28fcc40d     NaN      NaN\n",
      "\n",
      "[1367964 rows x 3 columns]\n",
      "                               user_id\n",
      "0     db55512e13c666a67dbfeae200bbb77e\n",
      "1     6be82d1677c1eacfc615446329fa90b1\n",
      "2     04672f37371f47e98247e3a426e33d44\n",
      "3     887343b7ef8d77baed6b2fdfc4b8f536\n",
      "4     95b336152a9e6aa6130233846ddcfc7a\n",
      "...                                ...\n",
      "4995  1aaea0961cac2a6b9f9a80dc6e54ff88\n",
      "4996  0d0456f67f5a690c5b3623b832fdad32\n",
      "4997  2398b1f69c6f324e62327c0212fe7996\n",
      "4998  e96b65b998912c9e7242fdeaf6a58cf7\n",
      "4999  858f5f014accf487742bb0e973282d91\n",
      "\n",
      "[5000 rows x 1 columns]\n"
     ]
    }
   ],
   "source": [
    "testa_goods = pd.concat([\n",
    "    pd.read_csv('./测试集a/predict_goods_id/part-00000', header=None, names=['goods_id', 'cat_id', 'brandsn']),\n",
    "    pd.read_csv('./测试集a/predict_goods_id/part-00001', header=None, names=['goods_id', 'cat_id', 'brandsn']),\n",
    "], axis=0)\n",
    "\n",
    "testa_user = pd.read_excel('./测试集a/a榜需要预测的uid_5000.xlsx')\n",
    "print(testa_goods)\n",
    "print(testa_user)"
   ],
   "metadata": {
    "collapsed": false,
    "ExecuteTime": {
     "end_time": "2023-05-29T14:55:50.938101300Z",
     "start_time": "2023-05-29T14:55:49.864502700Z"
    }
   }
  },
  {
   "cell_type": "code",
   "execution_count": 32,
   "outputs": [
    {
     "name": "stdout",
     "output_type": "stream",
     "text": [
      "LabelEncoder()\n",
      "LabelEncoder()\n"
     ]
    }
   ],
   "source": [
    "user_encode = LabelEncoder()\n",
    "user_encode.fit(list(train_user['user_id']) + list(train_user['user_id']))\n",
    "\n",
    "goods_encode = LabelEncoder()\n",
    "goods_encode.fit(list(train_user['goods_id']) + list(train_goods['goods_id']) + list(train_goods['goods_id']))\n",
    "\n",
    "print(user_encode)\n",
    "print(goods_encode)"
   ],
   "metadata": {
    "collapsed": false,
    "ExecuteTime": {
     "end_time": "2023-05-29T14:56:20.915030200Z",
     "start_time": "2023-05-29T14:55:50.936106200Z"
    }
   }
  },
  {
   "cell_type": "code",
   "execution_count": 60,
   "outputs": [
    {
     "name": "stdout",
     "output_type": "stream",
     "text": [
      "(3465608, 3)\n",
      "(7791816, 8)\n",
      "(1367964, 3)\n",
      "(5000, 1)\n",
      "                           goods_id                            cat_id  \\\n",
      "0  2701f927daa85882f7a62cf173195b79  95b7688a3e6327a73345ce2da3ce6c89   \n",
      "1  3401512d6e8599ef04cef828dfe7fc0f  0d0fd7c6e093f7b804fa0150b875b868   \n",
      "2  2b686c426d3913578beb3555996edcd8  795f50b006782b933cc3f99e28be4ef9   \n",
      "3  5434b0b7f44a98e1889d561dfc2eb261  79ea169f7f67d5ca4e93ad3c163e41d4   \n",
      "4  0c70bdad70b2ca5f8afaf06ec9c66304  9c5a77f5b39328c7e887f54be2ec1aca   \n",
      "\n",
      "                            brandsn  \n",
      "0  c615a4473c2c23d2db928d49aa6c192c  \n",
      "1  c60a61c10d2a17a26e11e2175ec47740  \n",
      "2  3d2369f2127266b83bdf024f3807c3d6  \n",
      "3  0f348b9abd09bd11a8331e227c01a48a  \n",
      "4  c60a61c10d2a17a26e11e2175ec47740  \n",
      "                            user_id                          goods_id  is_clk  \\\n",
      "0  8da2ec07d8bf9bfe1e849cb7e7f25e5c  f6e4f43d18157cbdcdc653c6e35f01fb       1   \n",
      "1  e873fcfe12d89fc9fe3f3c4425029bae  305fa40cbcd4a898f92f00e5ca4ee317       1   \n",
      "2  5c72cfe71eeb24883bb0a0aec656903b  a04fbf8f3f86d9e3c5fa8fa402b75afb       1   \n",
      "3  60fef256fdee7bc6d9399deadddb4b83  81de1226af20e196944862b78d27b0b5       1   \n",
      "4  c586779ea36d6023e9051a98b8d6299c  dd3cbfbba08484638f4e0427b12ea858       1   \n",
      "\n",
      "   is_like  is_addcart  is_order    expose_start_time        dt  \n",
      "0        0           0         0  2023-02-03 17:11:07  20230203  \n",
      "1        0           0         0  2023-02-03 15:32:29  20230203  \n",
      "2        0           0         0  2023-02-03 09:07:07  20230203  \n",
      "3        0           0         0  2023-02-03 13:04:14  20230203  \n",
      "4        0           0         0  2023-02-03 09:18:51  20230203  \n",
      "1.0 0.9999751455447659\n"
     ]
    }
   ],
   "source": [
    "print(train_goods.shape)\n",
    "print(train_user.shape)\n",
    "print(testa_goods.shape)\n",
    "print(testa_user.shape)\n",
    "print(train_goods.head())\n",
    "print(train_user.head())\n",
    "print(np.mean(testa_user['user_id'].isin(train_user['user_id'])), np.mean(testa_goods['goods_id'].isin(train_goods['goods_id'])))"
   ],
   "metadata": {
    "collapsed": false,
    "ExecuteTime": {
     "end_time": "2023-05-30T01:58:59.350917700Z",
     "start_time": "2023-05-30T01:58:56.865971100Z"
    }
   }
  },
  {
   "cell_type": "code",
   "execution_count": 34,
   "outputs": [
    {
     "data": {
      "text/plain": "(1616, 4711)"
     },
     "execution_count": 34,
     "metadata": {},
     "output_type": "execute_result"
    }
   ],
   "source": [
    "train_user['user_id'].nunique(), train_user['goods_id'].nunique()\n",
    "train_user.describe().round(2)\n",
    "train_user['user_id'].value_counts()\n",
    "train_user.loc[(train_user['user_id'] == '71e1a59e90bc7174cf6349761217c627') & (train_user['goods_id'] == '47382b8a57e5b73bdba51de5c230fded')]\n",
    "train_data = pd.merge(train_user.iloc[:], train_goods.iloc[:], on='goods_id')\n",
    "train_data['cat_id'].nunique(), train_data['brandsn'].nunique()"
   ],
   "metadata": {
    "collapsed": false,
    "ExecuteTime": {
     "end_time": "2023-05-29T14:56:44.669347100Z",
     "start_time": "2023-05-29T14:56:23.268888100Z"
    }
   }
  },
  {
   "cell_type": "code",
   "execution_count": 35,
   "outputs": [],
   "source": [
    "train_agg_feat = train_data.iloc[:].groupby(['user_id', 'goods_id']).agg({\n",
    "    'is_clk': ['sum', 'max'],\n",
    "    'is_like': ['sum', 'max'],\n",
    "    'is_addcart': ['sum', 'max'],\n",
    "    'is_order': ['sum', 'max'],\n",
    "})"
   ],
   "metadata": {
    "collapsed": false,
    "ExecuteTime": {
     "end_time": "2023-05-29T14:56:57.975522100Z",
     "start_time": "2023-05-29T14:56:44.672339800Z"
    }
   }
  },
  {
   "cell_type": "code",
   "execution_count": 36,
   "outputs": [],
   "source": [
    "train_agg_feat = train_agg_feat.reset_index()\n",
    "train_agg_feat.columns = [\n",
    "    'user_id',\n",
    "    'goods_id',\n",
    "    'is_clk_sum',\n",
    "    'is_clk_max',\n",
    "    'is_like_sum',\n",
    "    'is_like_max',\n",
    "    'is_addcart_sum',\n",
    "    'is_addcart_max',\n",
    "    'is_order_sum',\n",
    "    'is_order_max'\n",
    " ]"
   ],
   "metadata": {
    "collapsed": false,
    "ExecuteTime": {
     "end_time": "2023-05-29T14:56:59.700891900Z",
     "start_time": "2023-05-29T14:56:57.979511200Z"
    }
   }
  },
  {
   "cell_type": "code",
   "execution_count": 37,
   "outputs": [],
   "source": [
    "test_goods_id_agg = train_agg_feat.groupby('goods_id').agg({\n",
    "    'is_clk_sum': 'sum',\n",
    "    'is_order_sum': 'sum'\n",
    "})\n",
    "test_goods_id_agg = test_goods_id_agg[test_goods_id_agg['is_clk_sum'] > 100]\n",
    "test_goods_id_agg = test_goods_id_agg[test_goods_id_agg['is_order_sum'] > 0]\n",
    "test_valid_goods = test_goods_id_agg.index"
   ],
   "metadata": {
    "collapsed": false,
    "ExecuteTime": {
     "end_time": "2023-05-29T14:57:05.682630900Z",
     "start_time": "2023-05-29T14:56:59.707874Z"
    }
   }
  },
  {
   "cell_type": "code",
   "execution_count": 38,
   "outputs": [],
   "source": [
    "train_feat_downsmaple = pd.concat([\n",
    "    train_agg_feat[train_agg_feat['is_order_max'] !=0],\n",
    "    train_agg_feat[train_agg_feat['is_order_max'] ==0].sample(int(0.05 * len(train_agg_feat)))\n",
    "], axis=0)"
   ],
   "metadata": {
    "collapsed": false,
    "ExecuteTime": {
     "end_time": "2023-05-29T14:57:07.155093Z",
     "start_time": "2023-05-29T14:57:05.685623900Z"
    }
   }
  },
  {
   "cell_type": "code",
   "execution_count": 39,
   "outputs": [
    {
     "data": {
      "text/plain": "                              user_id                          goods_id  \\\n390  000c81287b218ec3e2245a33464992fe  8b5a5db81fc5d86c0e4c9de7b8a96f72   \n394  000c81287b218ec3e2245a33464992fe  90224d8c0354a3b6383dcf400b45034f   \n670  0015421d3e9341bf4f1674f7dd4aa583  0632f9823ec79a93b4ddb9412fc9dcac   \n688  0015421d3e9341bf4f1674f7dd4aa583  1b41d6e717ee097750a14ae2b9b0b306   \n697  0015421d3e9341bf4f1674f7dd4aa583  21ddf62d1f2ec037a76f84599e16c1eb   \n\n     is_clk_sum  is_clk_max  is_like_sum  is_like_max  is_addcart_sum  \\\n390           1           1            0            0               1   \n394           1           1            0            0               1   \n670           2           1            0            0               1   \n688           2           2            0            0               1   \n697           3           3            1            1               0   \n\n     is_addcart_max  is_order_sum  is_order_max  \n390               1             1             1  \n394               1             1             1  \n670               1             1             1  \n688               1             1             1  \n697               0             1             1  ",
      "text/html": "<div>\n<style scoped>\n    .dataframe tbody tr th:only-of-type {\n        vertical-align: middle;\n    }\n\n    .dataframe tbody tr th {\n        vertical-align: top;\n    }\n\n    .dataframe thead th {\n        text-align: right;\n    }\n</style>\n<table border=\"1\" class=\"dataframe\">\n  <thead>\n    <tr style=\"text-align: right;\">\n      <th></th>\n      <th>user_id</th>\n      <th>goods_id</th>\n      <th>is_clk_sum</th>\n      <th>is_clk_max</th>\n      <th>is_like_sum</th>\n      <th>is_like_max</th>\n      <th>is_addcart_sum</th>\n      <th>is_addcart_max</th>\n      <th>is_order_sum</th>\n      <th>is_order_max</th>\n    </tr>\n  </thead>\n  <tbody>\n    <tr>\n      <th>390</th>\n      <td>000c81287b218ec3e2245a33464992fe</td>\n      <td>8b5a5db81fc5d86c0e4c9de7b8a96f72</td>\n      <td>1</td>\n      <td>1</td>\n      <td>0</td>\n      <td>0</td>\n      <td>1</td>\n      <td>1</td>\n      <td>1</td>\n      <td>1</td>\n    </tr>\n    <tr>\n      <th>394</th>\n      <td>000c81287b218ec3e2245a33464992fe</td>\n      <td>90224d8c0354a3b6383dcf400b45034f</td>\n      <td>1</td>\n      <td>1</td>\n      <td>0</td>\n      <td>0</td>\n      <td>1</td>\n      <td>1</td>\n      <td>1</td>\n      <td>1</td>\n    </tr>\n    <tr>\n      <th>670</th>\n      <td>0015421d3e9341bf4f1674f7dd4aa583</td>\n      <td>0632f9823ec79a93b4ddb9412fc9dcac</td>\n      <td>2</td>\n      <td>1</td>\n      <td>0</td>\n      <td>0</td>\n      <td>1</td>\n      <td>1</td>\n      <td>1</td>\n      <td>1</td>\n    </tr>\n    <tr>\n      <th>688</th>\n      <td>0015421d3e9341bf4f1674f7dd4aa583</td>\n      <td>1b41d6e717ee097750a14ae2b9b0b306</td>\n      <td>2</td>\n      <td>2</td>\n      <td>0</td>\n      <td>0</td>\n      <td>1</td>\n      <td>1</td>\n      <td>1</td>\n      <td>1</td>\n    </tr>\n    <tr>\n      <th>697</th>\n      <td>0015421d3e9341bf4f1674f7dd4aa583</td>\n      <td>21ddf62d1f2ec037a76f84599e16c1eb</td>\n      <td>3</td>\n      <td>3</td>\n      <td>1</td>\n      <td>1</td>\n      <td>0</td>\n      <td>0</td>\n      <td>1</td>\n      <td>1</td>\n    </tr>\n  </tbody>\n</table>\n</div>"
     },
     "execution_count": 39,
     "metadata": {},
     "output_type": "execute_result"
    }
   ],
   "source": [
    "train_feat_downsmaple.head()"
   ],
   "metadata": {
    "collapsed": false,
    "ExecuteTime": {
     "end_time": "2023-05-29T14:57:07.171050800Z",
     "start_time": "2023-05-29T14:57:07.158086600Z"
    }
   }
  },
  {
   "cell_type": "code",
   "execution_count": 40,
   "outputs": [
    {
     "data": {
      "text/plain": "0.855532125489521"
     },
     "execution_count": 40,
     "metadata": {},
     "output_type": "execute_result"
    }
   ],
   "source": [
    "1 - train_feat_downsmaple['is_order_max'].mean()"
   ],
   "metadata": {
    "collapsed": false,
    "ExecuteTime": {
     "end_time": "2023-05-29T14:57:07.209948400Z",
     "start_time": "2023-05-29T14:57:07.173046400Z"
    }
   }
  },
  {
   "cell_type": "code",
   "execution_count": 41,
   "outputs": [
    {
     "data": {
      "text/plain": "(395029, 10)"
     },
     "execution_count": 41,
     "metadata": {},
     "output_type": "execute_result"
    }
   ],
   "source": [
    "train_feat_downsmaple.shape"
   ],
   "metadata": {
    "collapsed": false,
    "ExecuteTime": {
     "end_time": "2023-05-29T14:57:07.261808400Z",
     "start_time": "2023-05-29T14:57:07.190000300Z"
    }
   }
  },
  {
   "cell_type": "code",
   "execution_count": 42,
   "outputs": [],
   "source": [
    "train_feat_downsmaple['user_id'] = user_encode.transform(train_feat_downsmaple['user_id'])\n",
    "train_feat_downsmaple['goods_id'] = goods_encode.transform(train_feat_downsmaple['goods_id'])"
   ],
   "metadata": {
    "collapsed": false,
    "ExecuteTime": {
     "end_time": "2023-05-29T14:57:12.239600Z",
     "start_time": "2023-05-29T14:57:07.204960500Z"
    }
   }
  },
  {
   "cell_type": "code",
   "execution_count": 43,
   "outputs": [],
   "source": [
    "import paddle\n",
    "import paddle.nn as nn\n",
    "from paddle.io import Dataset\n",
    "\n",
    "class SelfDefinedDataset(Dataset):\n",
    "    def __init__(self, df, mode = 'train'):\n",
    "        super(SelfDefinedDataset, self).__init__()\n",
    "        self.df = df\n",
    "        self.mode = mode\n",
    "\n",
    "    def __getitem__(self, idx):\n",
    "        if self.mode == 'predict':\n",
    "            return (\n",
    "                self.df['user_id'].iloc[idx],\n",
    "                self.df['goods_id'].iloc[idx],\n",
    "                self.df['is_clk_max'].iloc[idx], self.df['is_like_max'].iloc[idx],\n",
    "                self.df['is_addcart_max'].iloc[idx],\n",
    "            )\n",
    "        else:\n",
    "            return (\n",
    "                self.df['user_id'].iloc[idx],\n",
    "                self.df['goods_id'].iloc[idx],\n",
    "                self.df['is_clk_max'].iloc[idx], self.df['is_like_max'].iloc[idx],\n",
    "                self.df['is_addcart_max'].iloc[idx],\n",
    "                self.df['is_order_max'].iloc[idx]\n",
    "            )\n",
    "\n",
    "    def __len__(self):\n",
    "        return len(self.df)"
   ],
   "metadata": {
    "collapsed": false,
    "ExecuteTime": {
     "end_time": "2023-05-29T14:57:12.255217700Z",
     "start_time": "2023-05-29T14:57:12.245682800Z"
    }
   }
  },
  {
   "cell_type": "code",
   "execution_count": 44,
   "outputs": [],
   "source": [
    "EMBEDDING_SIZE = 256\n",
    "\n",
    "# 定义深度学习模型\n",
    "class RecommenderNet(nn.Layer):\n",
    "    def __init__(self, num_users, num_goods, embedding_size, numeric_size):\n",
    "        super(RecommenderNet, self).__init__()\n",
    "        self.num_users = num_users\n",
    "        self.num_goods = num_goods\n",
    "        self.embedding_size = embedding_size\n",
    "\n",
    "        weight_attr_user = paddle.ParamAttr(\n",
    "            regularizer = paddle.regularizer.L2Decay(1e-6),\n",
    "            initializer = nn.initializer.KaimingNormal()\n",
    "            )\n",
    "        self.user_embedding = nn.Embedding(\n",
    "            num_users,\n",
    "            embedding_size,\n",
    "            weight_attr=weight_attr_user\n",
    "        )\n",
    "\n",
    "        weight_attr_movie = paddle.ParamAttr(\n",
    "            regularizer = paddle.regularizer.L2Decay(1e-6),\n",
    "            initializer = nn.initializer.KaimingNormal()\n",
    "            )\n",
    "        self.goods_embedding = nn.Embedding(\n",
    "            num_goods,\n",
    "            embedding_size,\n",
    "            weight_attr=weight_attr_movie\n",
    "        )\n",
    "\n",
    "        self.linear = nn.Linear(\n",
    "            2 * embedding_size, 1\n",
    "        )\n",
    "\n",
    "    def forward(self, data):\n",
    "        user, goods, feat = data[0], data[1], [data[idx] for idx in [2, 3,4]]\n",
    "        feat = paddle.stack(feat, 1).astype(paddle.float32)\n",
    "\n",
    "        user_vector = self.user_embedding(user)\n",
    "        goods_vector = self.goods_embedding(goods)\n",
    "        x = paddle.concat([user_vector, goods_vector], 1)\n",
    "        return self.linear(x)"
   ],
   "metadata": {
    "collapsed": false,
    "ExecuteTime": {
     "end_time": "2023-05-29T14:57:12.317051700Z",
     "start_time": "2023-05-29T14:57:12.256214900Z"
    }
   }
  },
  {
   "cell_type": "code",
   "execution_count": 46,
   "outputs": [],
   "source": [
    "model = RecommenderNet(len(user_encode.classes_), len(goods_encode.classes_), 128, 3)\n",
    "optimizer = paddle.optimizer.Adam(parameters=model.parameters(), learning_rate=0.0003)\n",
    "loss_fn = nn.BCEWithLogitsLoss()"
   ],
   "metadata": {
    "collapsed": false,
    "ExecuteTime": {
     "end_time": "2023-05-29T14:57:12.395842300Z",
     "start_time": "2023-05-29T14:57:12.336002500Z"
    }
   }
  },
  {
   "cell_type": "code",
   "execution_count": 62,
   "outputs": [
    {
     "name": "stdout",
     "output_type": "stream",
     "text": [
      "0 0.4936555451484697\n",
      "1 0.4937314887476901\n",
      "2 0.4937947750803736\n",
      "3 0.4939403336455459\n",
      "4 0.49343087866744295\n",
      "5 0.4942979014252082\n",
      "6 0.4942567653089639\n",
      "7 0.49338974255119866\n",
      "8 0.4930543249879756\n",
      "9 0.49360175176568866\n"
     ]
    }
   ],
   "source": [
    "# 模型训练\n",
    "Train_Loss = []\n",
    "\n",
    "for epoch in range(10):\n",
    "    model.train()\n",
    "    for i, data in enumerate(train_loader):\n",
    "        train_feat_downsmaple = train_feat_downsmaple.sample(frac=1.0)\n",
    "\n",
    "        traindataset = SelfDefinedDataset(train_feat_downsmaple.iloc[:-int(-0.2*len(train_feat_downsmaple))])\n",
    "        train_loader = paddle.io.DataLoader(traindataset, batch_size = 128, shuffle = True)\n",
    "\n",
    "        validdataset = SelfDefinedDataset(train_feat_downsmaple.iloc[-int(-0.2*len(train_feat_downsmaple)):])\n",
    "        valid_loader = paddle.io.DataLoader(validdataset, batch_size = 128, shuffle = True)\n",
    "        pred = model(data)\n",
    "        loss = loss_fn(data[-1].astype(paddle.float32), pred.flatten(), )\n",
    "        Train_Loss.append(loss.item())\n",
    "        loss.backward()\n",
    "        optimizer.step()\n",
    "        optimizer.clear_grad()\n",
    "\n",
    "    # 模型验证\n",
    "    Val_acc = []\n",
    "    model.eval()\n",
    "    with paddle.no_grad():\n",
    "        for i, data in enumerate(valid_loader):\n",
    "            pred = model(data)\n",
    "            Val_acc.append(((pred.flatten() > 0).astype(paddle.int64) == data[-1]).sum().item())\n",
    "\n",
    "    print(epoch, np.sum(Val_acc) / len(valid_loader.dataset))"
   ],
   "metadata": {
    "collapsed": false,
    "ExecuteTime": {
     "end_time": "2023-05-30T12:30:37.387079500Z",
     "start_time": "2023-05-30T12:15:40.180847900Z"
    }
   }
  },
  {
   "cell_type": "code",
   "execution_count": 48,
   "outputs": [],
   "source": [
    "test_valid_goods = test_valid_goods[test_valid_goods.isin(test_valid_goods)]\n",
    "\n",
    "test_feat_agg = []\n",
    "for user in testa_user['user_id'].values:\n",
    "    for goods in test_valid_goods:\n",
    "        test_feat_agg.append([user, goods])"
   ],
   "metadata": {
    "collapsed": false,
    "ExecuteTime": {
     "end_time": "2023-05-29T14:57:44.914419Z",
     "start_time": "2023-05-29T14:57:42.715735400Z"
    }
   }
  },
  {
   "cell_type": "code",
   "execution_count": 49,
   "outputs": [],
   "source": [
    "test_feat_agg = pd.DataFrame(test_feat_agg)\n",
    "test_feat_agg.columns = ['user_id', 'goods_id']\n",
    "test_feat_agg = pd.merge(test_feat_agg, train_agg_feat, on=['user_id', 'goods_id'])\n",
    "test_feat_agg['user_id'] = user_encode.transform(test_feat_agg['user_id'])\n",
    "test_feat_agg['goods_id'] = goods_encode.transform(test_feat_agg['goods_id'])\n",
    "testdataset = SelfDefinedDataset(test_feat_agg)\n",
    "test_loader = paddle.io.DataLoader(testdataset, batch_size = 128, shuffle = False)"
   ],
   "metadata": {
    "collapsed": false,
    "ExecuteTime": {
     "end_time": "2023-05-29T14:57:53.340704100Z",
     "start_time": "2023-05-29T14:57:44.917410900Z"
    }
   }
  },
  {
   "cell_type": "code",
   "execution_count": 50,
   "outputs": [],
   "source": [
    "model.eval()\n",
    "\n",
    "test_pred = []\n",
    "with paddle.no_grad():\n",
    "    for i, data in enumerate(test_loader):\n",
    "        pred = model(data)\n",
    "        test_pred += list((paddle.nn.functional.sigmoid(pred) > 0.5).numpy().reshape(-1))"
   ],
   "metadata": {
    "collapsed": false,
    "ExecuteTime": {
     "end_time": "2023-05-29T14:57:54.417703Z",
     "start_time": "2023-05-29T14:57:53.344692800Z"
    }
   }
  },
  {
   "cell_type": "code",
   "execution_count": 51,
   "outputs": [
    {
     "name": "stderr",
     "output_type": "stream",
     "text": [
      "C:\\Users\\10731\\AppData\\Local\\Temp\\ipykernel_16940\\2098467592.py:3: SettingWithCopyWarning: \n",
      "A value is trying to be set on a copy of a slice from a DataFrame.\n",
      "Try using .loc[row_indexer,col_indexer] = value instead\n",
      "\n",
      "See the caveats in the documentation: https://pandas.pydata.org/pandas-docs/stable/user_guide/indexing.html#returning-a-view-versus-a-copy\n",
      "  test_feat_agg['user_id'] = user_encode.inverse_transform(test_feat_agg['user_id'])\n",
      "C:\\Users\\10731\\AppData\\Local\\Temp\\ipykernel_16940\\2098467592.py:4: SettingWithCopyWarning: \n",
      "A value is trying to be set on a copy of a slice from a DataFrame.\n",
      "Try using .loc[row_indexer,col_indexer] = value instead\n",
      "\n",
      "See the caveats in the documentation: https://pandas.pydata.org/pandas-docs/stable/user_guide/indexing.html#returning-a-view-versus-a-copy\n",
      "  test_feat_agg['goods_id'] = goods_encode.inverse_transform(test_feat_agg['goods_id'])\n"
     ]
    }
   ],
   "source": [
    "test_feat_agg['pred'] = test_pred\n",
    "test_feat_agg = test_feat_agg[test_feat_agg['pred']]\n",
    "test_feat_agg['user_id'] = user_encode.inverse_transform(test_feat_agg['user_id'])\n",
    "test_feat_agg['goods_id'] = goods_encode.inverse_transform(test_feat_agg['goods_id'])"
   ],
   "metadata": {
    "collapsed": false,
    "ExecuteTime": {
     "end_time": "2023-05-29T14:57:54.494844Z",
     "start_time": "2023-05-29T14:57:54.419697300Z"
    }
   }
  },
  {
   "cell_type": "code",
   "execution_count": 52,
   "outputs": [],
   "source": [
    "test_feat_agg[['user_id', 'goods_id']].to_csv('u2i.csv', index=None, header=None)"
   ],
   "metadata": {
    "collapsed": false,
    "ExecuteTime": {
     "end_time": "2023-05-29T14:57:54.527944400Z",
     "start_time": "2023-05-29T14:57:54.495840300Z"
    }
   }
  },
  {
   "cell_type": "code",
   "execution_count": 56,
   "outputs": [
    {
     "name": "stdout",
     "output_type": "stream",
     "text": [
      "列已成功添加到第一行！\n"
     ]
    }
   ],
   "source": [
    "import csv\n",
    "\n",
    "# 定义要添加的列名\n",
    "new_columns = [\"user_id\", \"goods_id\"]\n",
    "\n",
    "# 打开原始CSV文件并读取数据\n",
    "with open(\"u2i.csv\", \"r\") as file:\n",
    "    reader = csv.reader(file)\n",
    "    data = list(reader)\n",
    "\n",
    "# 在第一行插入新的列名\n",
    "data[0] = new_columns\n",
    "\n",
    "# 将更新后的数据写入新的CSV文件\n",
    "with open(\"u2i_updated.csv\", \"w\", newline=\"\") as file:\n",
    "    writer = csv.writer(file)\n",
    "    writer.writerows(data)\n",
    "\n",
    "print(\"列已成功添加到第一行！\")"
   ],
   "metadata": {
    "collapsed": false,
    "ExecuteTime": {
     "end_time": "2023-05-29T15:22:09.100151100Z",
     "start_time": "2023-05-29T15:22:09.060257700Z"
    }
   }
  },
  {
   "cell_type": "code",
   "execution_count": null,
   "outputs": [],
   "source": [],
   "metadata": {
    "collapsed": false
   }
  }
 ],
 "metadata": {
  "kernelspec": {
   "display_name": "Python 3",
   "language": "python",
   "name": "python3"
  },
  "language_info": {
   "codemirror_mode": {
    "name": "ipython",
    "version": 2
   },
   "file_extension": ".py",
   "mimetype": "text/x-python",
   "name": "python",
   "nbconvert_exporter": "python",
   "pygments_lexer": "ipython2",
   "version": "2.7.6"
  }
 },
 "nbformat": 4,
 "nbformat_minor": 0
}

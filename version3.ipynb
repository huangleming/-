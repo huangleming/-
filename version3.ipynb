{
 "cells": [
  {
   "cell_type": "code",
   "execution_count": 1,
   "metadata": {
    "collapsed": true,
    "ExecuteTime": {
     "end_time": "2023-05-30T13:51:30.586586Z",
     "start_time": "2023-05-30T13:51:28.867967800Z"
    }
   },
   "outputs": [],
   "source": [
    "import pandas as pd\n",
    "import numpy as np\n",
    "import glob\n",
    "from sklearn.preprocessing import LabelEncoder"
   ]
  },
  {
   "cell_type": "code",
   "execution_count": 2,
   "outputs": [],
   "source": [
    "train_goods = pd.concat([\n",
    "    pd.read_csv('./训练集/traindata_goodsid/part-00000', header=None, names=['goods_id', 'cat_id', 'brandsn']),\n",
    "    pd.read_csv('./训练集/traindata_goodsid/part-00001', header=None, names=['goods_id', 'cat_id', 'brandsn']),\n",
    "    pd.read_csv('./训练集/traindata_goodsid/part-00002', header=None, names=['goods_id', 'cat_id', 'brandsn'])\n",
    "], axis=0)\n",
    "\n",
    "train_user = pd.concat([\n",
    "    pd.read_csv(x, header=None, names=['user_id', 'goods_id', 'is_clk', 'is_like', 'is_addcart', 'is_order', 'expose_start_time', 'dt'], nrows=500000)\n",
    "    for x in glob.glob('./训练集/traindata_user/part*')\n",
    "], axis=0)\n"
   ],
   "metadata": {
    "collapsed": false,
    "ExecuteTime": {
     "end_time": "2023-05-30T13:51:44.835745900Z",
     "start_time": "2023-05-30T13:51:30.587584Z"
    }
   }
  },
  {
   "cell_type": "code",
   "execution_count": 3,
   "outputs": [],
   "source": [
    "testa_goods = pd.concat([\n",
    "    pd.read_csv('./测试集a/predict_goods_id/part-00000', header=None, names=['goods_id', 'cat_id', 'brandsn']),\n",
    "    pd.read_csv('./测试集a/predict_goods_id/part-00001', header=None, names=['goods_id', 'cat_id', 'brandsn']),\n",
    "], axis=0)\n",
    "\n",
    "testa_user = pd.read_excel('./测试集a/a榜需要预测的uid_5000.xlsx')"
   ],
   "metadata": {
    "collapsed": false,
    "ExecuteTime": {
     "end_time": "2023-05-30T13:51:46.238730600Z",
     "start_time": "2023-05-30T13:51:44.837741500Z"
    }
   }
  },
  {
   "cell_type": "code",
   "execution_count": 4,
   "outputs": [
    {
     "data": {
      "text/plain": "LabelEncoder()",
      "text/html": "<style>#sk-container-id-1 {color: black;background-color: white;}#sk-container-id-1 pre{padding: 0;}#sk-container-id-1 div.sk-toggleable {background-color: white;}#sk-container-id-1 label.sk-toggleable__label {cursor: pointer;display: block;width: 100%;margin-bottom: 0;padding: 0.3em;box-sizing: border-box;text-align: center;}#sk-container-id-1 label.sk-toggleable__label-arrow:before {content: \"▸\";float: left;margin-right: 0.25em;color: #696969;}#sk-container-id-1 label.sk-toggleable__label-arrow:hover:before {color: black;}#sk-container-id-1 div.sk-estimator:hover label.sk-toggleable__label-arrow:before {color: black;}#sk-container-id-1 div.sk-toggleable__content {max-height: 0;max-width: 0;overflow: hidden;text-align: left;background-color: #f0f8ff;}#sk-container-id-1 div.sk-toggleable__content pre {margin: 0.2em;color: black;border-radius: 0.25em;background-color: #f0f8ff;}#sk-container-id-1 input.sk-toggleable__control:checked~div.sk-toggleable__content {max-height: 200px;max-width: 100%;overflow: auto;}#sk-container-id-1 input.sk-toggleable__control:checked~label.sk-toggleable__label-arrow:before {content: \"▾\";}#sk-container-id-1 div.sk-estimator input.sk-toggleable__control:checked~label.sk-toggleable__label {background-color: #d4ebff;}#sk-container-id-1 div.sk-label input.sk-toggleable__control:checked~label.sk-toggleable__label {background-color: #d4ebff;}#sk-container-id-1 input.sk-hidden--visually {border: 0;clip: rect(1px 1px 1px 1px);clip: rect(1px, 1px, 1px, 1px);height: 1px;margin: -1px;overflow: hidden;padding: 0;position: absolute;width: 1px;}#sk-container-id-1 div.sk-estimator {font-family: monospace;background-color: #f0f8ff;border: 1px dotted black;border-radius: 0.25em;box-sizing: border-box;margin-bottom: 0.5em;}#sk-container-id-1 div.sk-estimator:hover {background-color: #d4ebff;}#sk-container-id-1 div.sk-parallel-item::after {content: \"\";width: 100%;border-bottom: 1px solid gray;flex-grow: 1;}#sk-container-id-1 div.sk-label:hover label.sk-toggleable__label {background-color: #d4ebff;}#sk-container-id-1 div.sk-serial::before {content: \"\";position: absolute;border-left: 1px solid gray;box-sizing: border-box;top: 0;bottom: 0;left: 50%;z-index: 0;}#sk-container-id-1 div.sk-serial {display: flex;flex-direction: column;align-items: center;background-color: white;padding-right: 0.2em;padding-left: 0.2em;position: relative;}#sk-container-id-1 div.sk-item {position: relative;z-index: 1;}#sk-container-id-1 div.sk-parallel {display: flex;align-items: stretch;justify-content: center;background-color: white;position: relative;}#sk-container-id-1 div.sk-item::before, #sk-container-id-1 div.sk-parallel-item::before {content: \"\";position: absolute;border-left: 1px solid gray;box-sizing: border-box;top: 0;bottom: 0;left: 50%;z-index: -1;}#sk-container-id-1 div.sk-parallel-item {display: flex;flex-direction: column;z-index: 1;position: relative;background-color: white;}#sk-container-id-1 div.sk-parallel-item:first-child::after {align-self: flex-end;width: 50%;}#sk-container-id-1 div.sk-parallel-item:last-child::after {align-self: flex-start;width: 50%;}#sk-container-id-1 div.sk-parallel-item:only-child::after {width: 0;}#sk-container-id-1 div.sk-dashed-wrapped {border: 1px dashed gray;margin: 0 0.4em 0.5em 0.4em;box-sizing: border-box;padding-bottom: 0.4em;background-color: white;}#sk-container-id-1 div.sk-label label {font-family: monospace;font-weight: bold;display: inline-block;line-height: 1.2em;}#sk-container-id-1 div.sk-label-container {text-align: center;}#sk-container-id-1 div.sk-container {/* jupyter's `normalize.less` sets `[hidden] { display: none; }` but bootstrap.min.css set `[hidden] { display: none !important; }` so we also need the `!important` here to be able to override the default hidden behavior on the sphinx rendered scikit-learn.org. See: https://github.com/scikit-learn/scikit-learn/issues/21755 */display: inline-block !important;position: relative;}#sk-container-id-1 div.sk-text-repr-fallback {display: none;}</style><div id=\"sk-container-id-1\" class=\"sk-top-container\"><div class=\"sk-text-repr-fallback\"><pre>LabelEncoder()</pre><b>In a Jupyter environment, please rerun this cell to show the HTML representation or trust the notebook. <br />On GitHub, the HTML representation is unable to render, please try loading this page with nbviewer.org.</b></div><div class=\"sk-container\" hidden><div class=\"sk-item\"><div class=\"sk-estimator sk-toggleable\"><input class=\"sk-toggleable__control sk-hidden--visually\" id=\"sk-estimator-id-1\" type=\"checkbox\" checked><label for=\"sk-estimator-id-1\" class=\"sk-toggleable__label sk-toggleable__label-arrow\">LabelEncoder</label><div class=\"sk-toggleable__content\"><pre>LabelEncoder()</pre></div></div></div></div></div>"
     },
     "execution_count": 4,
     "metadata": {},
     "output_type": "execute_result"
    }
   ],
   "source": [
    "#对训练集中的用户ID和商品ID进行标签编码\n",
    "user_encode = LabelEncoder()\n",
    "user_encode.fit(list(train_user['user_id']) + list(train_user['user_id']))\n",
    "\n",
    "goods_encode = LabelEncoder()\n",
    "goods_encode.fit(list(train_user['goods_id']) + list(train_goods['goods_id']) + list(train_goods['goods_id']))"
   ],
   "metadata": {
    "collapsed": false,
    "ExecuteTime": {
     "end_time": "2023-05-30T13:52:07.595887Z",
     "start_time": "2023-05-30T13:51:46.240726400Z"
    }
   }
  },
  {
   "cell_type": "code",
   "execution_count": 5,
   "outputs": [
    {
     "data": {
      "text/plain": "(1.0, 0.9999751455447659)"
     },
     "execution_count": 5,
     "metadata": {},
     "output_type": "execute_result"
    }
   ],
   "source": [
    "#计算测试集用户数据中的用户ID和商品ID在训练集用户数据中出现的比例\n",
    "np.mean(testa_user['user_id'].isin(train_user['user_id'])), np.mean(testa_goods['goods_id'].isin(train_goods['goods_id']))"
   ],
   "metadata": {
    "collapsed": false,
    "ExecuteTime": {
     "end_time": "2023-05-30T13:52:09.665298800Z",
     "start_time": "2023-05-30T13:52:07.598879100Z"
    }
   }
  },
  {
   "cell_type": "code",
   "execution_count": 6,
   "outputs": [
    {
     "data": {
      "text/plain": "(51602, 1531577)"
     },
     "execution_count": 6,
     "metadata": {},
     "output_type": "execute_result"
    }
   ],
   "source": [
    "#去重\n",
    "train_user['user_id'].nunique(), train_user['goods_id'].nunique()"
   ],
   "metadata": {
    "collapsed": false,
    "ExecuteTime": {
     "end_time": "2023-05-30T13:52:12.676267800Z",
     "start_time": "2023-05-30T13:52:09.666296700Z"
    }
   }
  },
  {
   "cell_type": "code",
   "execution_count": 7,
   "outputs": [
    {
     "data": {
      "text/plain": "           is_clk     is_like  is_addcart    is_order           dt\ncount  7791816.00  7791816.00  7791816.00  7791816.00   7791816.00\nmean         1.06        0.02        0.06        0.01  20230222.85\nstd          0.28        0.13        0.27        0.09        26.21\nmin          1.00        0.00        0.00        0.00  20230203.00\n25%          1.00        0.00        0.00        0.00  20230209.00\n50%          1.00        0.00        0.00        0.00  20230216.00\n75%          1.00        0.00        0.00        0.00  20230224.00\nmax        121.00       22.00       28.00       15.00  20230303.00",
      "text/html": "<div>\n<style scoped>\n    .dataframe tbody tr th:only-of-type {\n        vertical-align: middle;\n    }\n\n    .dataframe tbody tr th {\n        vertical-align: top;\n    }\n\n    .dataframe thead th {\n        text-align: right;\n    }\n</style>\n<table border=\"1\" class=\"dataframe\">\n  <thead>\n    <tr style=\"text-align: right;\">\n      <th></th>\n      <th>is_clk</th>\n      <th>is_like</th>\n      <th>is_addcart</th>\n      <th>is_order</th>\n      <th>dt</th>\n    </tr>\n  </thead>\n  <tbody>\n    <tr>\n      <th>count</th>\n      <td>7791816.00</td>\n      <td>7791816.00</td>\n      <td>7791816.00</td>\n      <td>7791816.00</td>\n      <td>7791816.00</td>\n    </tr>\n    <tr>\n      <th>mean</th>\n      <td>1.06</td>\n      <td>0.02</td>\n      <td>0.06</td>\n      <td>0.01</td>\n      <td>20230222.85</td>\n    </tr>\n    <tr>\n      <th>std</th>\n      <td>0.28</td>\n      <td>0.13</td>\n      <td>0.27</td>\n      <td>0.09</td>\n      <td>26.21</td>\n    </tr>\n    <tr>\n      <th>min</th>\n      <td>1.00</td>\n      <td>0.00</td>\n      <td>0.00</td>\n      <td>0.00</td>\n      <td>20230203.00</td>\n    </tr>\n    <tr>\n      <th>25%</th>\n      <td>1.00</td>\n      <td>0.00</td>\n      <td>0.00</td>\n      <td>0.00</td>\n      <td>20230209.00</td>\n    </tr>\n    <tr>\n      <th>50%</th>\n      <td>1.00</td>\n      <td>0.00</td>\n      <td>0.00</td>\n      <td>0.00</td>\n      <td>20230216.00</td>\n    </tr>\n    <tr>\n      <th>75%</th>\n      <td>1.00</td>\n      <td>0.00</td>\n      <td>0.00</td>\n      <td>0.00</td>\n      <td>20230224.00</td>\n    </tr>\n    <tr>\n      <th>max</th>\n      <td>121.00</td>\n      <td>22.00</td>\n      <td>28.00</td>\n      <td>15.00</td>\n      <td>20230303.00</td>\n    </tr>\n  </tbody>\n</table>\n</div>"
     },
     "execution_count": 7,
     "metadata": {},
     "output_type": "execute_result"
    }
   ],
   "source": [
    "#计算训练集用户数据的描述统计信息，并将结果保留两位小数\n",
    "train_user.describe().round(2)"
   ],
   "metadata": {
    "collapsed": false,
    "ExecuteTime": {
     "end_time": "2023-05-30T13:52:13.352041200Z",
     "start_time": "2023-05-30T13:52:12.677265400Z"
    }
   }
  },
  {
   "cell_type": "code",
   "execution_count": 8,
   "outputs": [],
   "source": [
    "#将训练集中的用户数据和商品数据根据商品ID进行合并\n",
    "train_data = pd.merge(train_user.iloc[:], train_goods.iloc[:], on='goods_id')"
   ],
   "metadata": {
    "collapsed": false,
    "ExecuteTime": {
     "end_time": "2023-05-30T13:52:24.898926300Z",
     "start_time": "2023-05-30T13:52:13.355033600Z"
    }
   }
  },
  {
   "cell_type": "code",
   "execution_count": 9,
   "outputs": [
    {
     "name": "stdout",
     "output_type": "stream",
     "text": [
      "                                  user_id                          goods_id  \\\n",
      "0        8da2ec07d8bf9bfe1e849cb7e7f25e5c  f6e4f43d18157cbdcdc653c6e35f01fb   \n",
      "1        62a800cd3e6884078ac86af31926ca6e  f6e4f43d18157cbdcdc653c6e35f01fb   \n",
      "2        dfea38a0a8c81429316857cbcede23c6  f6e4f43d18157cbdcdc653c6e35f01fb   \n",
      "3        dfea38a0a8c81429316857cbcede23c6  f6e4f43d18157cbdcdc653c6e35f01fb   \n",
      "4        328395043a7cf38a36590a8df12b3b03  f6e4f43d18157cbdcdc653c6e35f01fb   \n",
      "...                                   ...                               ...   \n",
      "7791759  9b9c0493e6ee675c32b6c2add2b57cd9  49cb5e43cc1dc19cb5f5241cf06816a5   \n",
      "7791760  2591ff4a1af75a2dc9e020cdafc5ab05  7fb4a90d3aa54ce13355c8ad9043e2e1   \n",
      "7791761  18917649fd13d3a5fc37443c248d572e  a7e398eff0f997168bf341235ea4817d   \n",
      "7791762  a4b0bc37d9cceed3bedc794e8d632d38  d6f2d674b397f89a55ecf34f127d0ad3   \n",
      "7791763  333cb2e2e4c37293ca79f985a66d72f4  2acf9dbcd66278505f54da19d636825c   \n",
      "\n",
      "         is_clk  is_like  is_addcart  is_order    expose_start_time        dt  \\\n",
      "0             1        0           0         0  2023-02-03 17:11:07  20230203   \n",
      "1             1        0           0         0  2023-02-09 23:10:10  20230209   \n",
      "2             1        0           0         0  2023-02-10 22:41:34  20230210   \n",
      "3             1        0           0         0  2023-02-12 11:11:07  20230212   \n",
      "4             1        0           0         0  2023-02-26 09:40:05  20230226   \n",
      "...         ...      ...         ...       ...                  ...       ...   \n",
      "7791759       1        0           0         0  2023-02-08 15:09:39  20230208   \n",
      "7791760       1        0           0         0  2023-02-08 11:32:41  20230208   \n",
      "7791761       1        0           0         0  2023-02-08 04:19:36  20230208   \n",
      "7791762       1        0           0         0  2023-02-08 22:53:20  20230208   \n",
      "7791763       1        0           0         0  2023-02-08 12:06:10  20230208   \n",
      "\n",
      "                                   cat_id                           brandsn  \n",
      "0        9e3294f565e66afab1c24c4cc8bb5ef6  279382da50f83dbdb5bf1f8bcaa0410c  \n",
      "1        9e3294f565e66afab1c24c4cc8bb5ef6  279382da50f83dbdb5bf1f8bcaa0410c  \n",
      "2        9e3294f565e66afab1c24c4cc8bb5ef6  279382da50f83dbdb5bf1f8bcaa0410c  \n",
      "3        9e3294f565e66afab1c24c4cc8bb5ef6  279382da50f83dbdb5bf1f8bcaa0410c  \n",
      "4        9e3294f565e66afab1c24c4cc8bb5ef6  279382da50f83dbdb5bf1f8bcaa0410c  \n",
      "...                                   ...                               ...  \n",
      "7791759  cf083a183d69637c3d38971dde1fb882  ee57ca3be9539854a055acf8ba349e82  \n",
      "7791760  c1d84d351e2c9685fb2e8c3aca0ece3a  86097b37011d0cd8abff56e37807428b  \n",
      "7791761  40008b9a5380fcacce3976bf7c08af5b  f12d44fd7e91bc7181de6b339a06ad76  \n",
      "7791762  e7f5714fe344159d767d8461112e86a4  02fad706eb9e9bfdf8ffb56496c66e17  \n",
      "7791763  03c5bdd64fbcfe531c0f164e4946d364  cccbb57f6fd0c07c9b35f987f1a650c7  \n",
      "\n",
      "[7791764 rows x 10 columns]\n"
     ]
    }
   ],
   "source": [
    "#获取合并后的数据集中商品类别和品牌的数量\n",
    "train_data['cat_id'].nunique(), train_data['brandsn'].nunique()\n",
    "print(train_data)"
   ],
   "metadata": {
    "collapsed": false,
    "ExecuteTime": {
     "end_time": "2023-05-30T13:52:26.160748700Z",
     "start_time": "2023-05-30T13:52:24.901008400Z"
    }
   }
  },
  {
   "cell_type": "code",
   "execution_count": 10,
   "outputs": [
    {
     "name": "stdout",
     "output_type": "stream",
     "text": [
      "                                  user_id                          goods_id  \\\n",
      "19       af640ab2869a652c05b0957d9a811704  81de1226af20e196944862b78d27b0b5   \n",
      "76       11925e60aab947c3b00eee2190fa2ede  ff76680bd6e705fd37df578957faacba   \n",
      "191      c626a0405a9d85abdf05ccfd3d00e863  2d7e28b4f79bcd9de2b3df0bc91310a3   \n",
      "192      0189f417324cc706b727ae1944967c54  3eba0ec94cedb216bca77a07c6525d2d   \n",
      "202      91aaaea6427f68f1338c6d3273304af2  a92320167ca0b39bea822c690e08c9d7   \n",
      "...                                   ...                               ...   \n",
      "7791652  a9ffeecb593fc6d7500ae1f565fda0f0  e1d97c03deb45d7cada039a08de92291   \n",
      "7791670  353d9d983c3cd90068c59825622b5204  b3d3b112d865b3e99580b2ad49aca38d   \n",
      "7791734  d2e569e2d1d8f7ad8d86d03ce8b534a0  5c366d4c5045ac3ff303191ddebaf95b   \n",
      "7791744  fb2d2559a9e77372ffef7c9edebf87c5  c1b254a486172c86297e7a0af07981db   \n",
      "7791754  4d152f383e239d57783e88f742d0688f  40d24c92a11a6ba7eae7583641869b07   \n",
      "\n",
      "         is_clk  is_like  is_addcart  is_order    expose_start_time        dt  \\\n",
      "19            3        0           1         0  2023-02-03 23:48:34  20230203   \n",
      "76            1        0           1         0  2023-02-22 08:24:42  20230222   \n",
      "191           1        0           1         0  2023-02-03 07:02:12  20230203   \n",
      "192           4        0           1         0  2023-02-03 12:35:27  20230203   \n",
      "202           1        0           1         0  2023-02-03 13:37:47  20230203   \n",
      "...         ...      ...         ...       ...                  ...       ...   \n",
      "7791652       1        0           1         0  2023-02-08 11:01:49  20230208   \n",
      "7791670       1        0           1         0  2023-02-08 10:52:54  20230208   \n",
      "7791734       1        0           1         0  2023-02-08 14:03:22  20230208   \n",
      "7791744       1        0           1         0  2023-02-08 04:34:24  20230208   \n",
      "7791754       1        0           1         0  2023-02-08 23:43:49  20230208   \n",
      "\n",
      "                                   cat_id                           brandsn  \n",
      "19       e9b77eef7828123c52f170cd21a4e0e9  6894e025508ddd0602dcce10b8d99e17  \n",
      "76       452dc2e2d5d1799556b16898f89554f5  2bea5ddfa445d4953a32f3f432fb0984  \n",
      "191      d39c88037a737f5b1114705f81fd0808  7fd2c470714ecaa763904849a9521efe  \n",
      "192      a666587afda6e89aec274a3657558a27  275be9229c56a0ab6e16e92da04e1ebf  \n",
      "202      a666587afda6e89aec274a3657558a27  275be9229c56a0ab6e16e92da04e1ebf  \n",
      "...                                   ...                               ...  \n",
      "7791652  60215396e94dd346285f0fa22f40d080  423c276587aafb8658c472d195120305  \n",
      "7791670  2120969f75be078a4f26a46a90c855cb  16341249b771854696972e6f000f349b  \n",
      "7791734  10d33ec63e33c0493df315e2fb5ab98d  1d0acd857ff246ad98be9e0d08fc9dc3  \n",
      "7791744  45ebbc719538681e53935321fa9db809  3bd4c96002139bd1db486679694a9921  \n",
      "7791754  60ef3c9d030867722c65ef06ea768daa  02afdd82753dcd22bf7dd79a3cdfa522  \n",
      "\n",
      "[405672 rows x 10 columns]\n"
     ]
    }
   ],
   "source": [
    "#筛选出合并后的训练数据中满足以下条件的样本：未下单（is_order为0）且加购物车行为不为0（is_addcart不等于0）\n",
    "train_agg_feat = train_data.loc[\n",
    "    (train_data['is_order'] == 0) & (train_data['is_addcart'] != 0)\n",
    "]\n",
    "print(train_agg_feat)"
   ],
   "metadata": {
    "collapsed": false,
    "ExecuteTime": {
     "end_time": "2023-05-30T13:52:27.882877300Z",
     "start_time": "2023-05-30T13:52:26.160748700Z"
    }
   }
  },
  {
   "cell_type": "code",
   "execution_count": 11,
   "outputs": [
    {
     "name": "stdout",
     "output_type": "stream",
     "text": [
      "                                  user_id                          goods_id  \\\n",
      "191      c626a0405a9d85abdf05ccfd3d00e863  2d7e28b4f79bcd9de2b3df0bc91310a3   \n",
      "705      060d0248975dfbe7dee433f32da5e266  ad182c11850f012948b84867362802be   \n",
      "760      d01cfb26613e7ebfd53e8f50cfc2156a  5a6a5fb283c206e7d01effea87f68c8e   \n",
      "800      9afec9408d028b77ab396251cbaac609  446430ddcdcf9a0cd80706a25ac7a45b   \n",
      "819      96d46f4a620441197739c4d334364311  446430ddcdcf9a0cd80706a25ac7a45b   \n",
      "...                                   ...                               ...   \n",
      "7791220  9366b08f49ba3960eb6c58d41609cbd4  d805d53902739d835e6acac868f3ddbe   \n",
      "7791271  884cfa576e9bd5e7c79307fdebd12ee4  73edfb067d6b0870214b7e51bfc630f5   \n",
      "7791327  820b7afbd1f4e81a0fcbeee6d3123525  8805c368d93a74e0bdabe7832e8a9dee   \n",
      "7791339  c37822c30576714979c146f01c7c5863  e82685998023f680ddb24cad402164f7   \n",
      "7791754  4d152f383e239d57783e88f742d0688f  40d24c92a11a6ba7eae7583641869b07   \n",
      "\n",
      "         is_clk  is_like  is_addcart  is_order    expose_start_time        dt  \\\n",
      "191           1        0           1         0  2023-02-03 07:02:12  20230203   \n",
      "705           1        0           1         0  2023-02-25 21:17:37  20230225   \n",
      "760           1        0           1         0  2023-02-06 13:53:07  20230206   \n",
      "800           1        0           1         0  2023-02-03 06:32:43  20230203   \n",
      "819           1        0           1         0  2023-02-15 19:28:54  20230215   \n",
      "...         ...      ...         ...       ...                  ...       ...   \n",
      "7791220       1        0           1         0  2023-02-19 09:04:26  20230219   \n",
      "7791271       1        0           1         0  2023-02-12 12:44:15  20230212   \n",
      "7791327       1        0           1         0  2023-02-12 22:50:36  20230212   \n",
      "7791339       2        0           2         0  2023-02-12 15:34:30  20230212   \n",
      "7791754       1        0           1         0  2023-02-08 23:43:49  20230208   \n",
      "\n",
      "                                   cat_id                           brandsn  \n",
      "191      d39c88037a737f5b1114705f81fd0808  7fd2c470714ecaa763904849a9521efe  \n",
      "705      51d4658087da422d04101a9a0a285704  270eb2cdd82dc2cb55d6c92b7569aec9  \n",
      "760      63acb20f1b206dbe562ff957e9ea4ac7  a2839c186aefd84d0ef4ad202eea3606  \n",
      "800      758874998f5bd0c393da094e1967a72b  a2839c186aefd84d0ef4ad202eea3606  \n",
      "819      758874998f5bd0c393da094e1967a72b  a2839c186aefd84d0ef4ad202eea3606  \n",
      "...                                   ...                               ...  \n",
      "7791220  758874998f5bd0c393da094e1967a72b  b22456509c17e4546e0374ae4233ec6f  \n",
      "7791271  7be23cea6b4fded3352fd5904693a745  0c8afe95c9526dfbc38dd0cf1e147c3a  \n",
      "7791327  8b45de8de3ef3b4dcebee588deb27abe  8a36abdc4042e5363715806b27662e36  \n",
      "7791339  d1ae0db356f0caeabff956b4607171f8  fbc376eebfd2b1c171ad1b6e2fdc23c9  \n",
      "7791754  60ef3c9d030867722c65ef06ea768daa  02afdd82753dcd22bf7dd79a3cdfa522  \n",
      "\n",
      "[66809 rows x 10 columns]\n"
     ]
    }
   ],
   "source": [
    "#筛选出train_agg_feat数据集中用户ID存在于测试集用户ID中的样本\n",
    "train_agg_feat = train_agg_feat[train_agg_feat['user_id'].isin(testa_user['user_id'])]\n",
    "print(train_agg_feat)"
   ],
   "metadata": {
    "collapsed": false,
    "ExecuteTime": {
     "end_time": "2023-05-30T13:52:27.999757500Z",
     "start_time": "2023-05-30T13:52:27.882877300Z"
    }
   }
  },
  {
   "cell_type": "code",
   "execution_count": 12,
   "outputs": [
    {
     "name": "stdout",
     "output_type": "stream",
     "text": [
      "                                  user_id                          goods_id  \\\n",
      "705      060d0248975dfbe7dee433f32da5e266  ad182c11850f012948b84867362802be   \n",
      "760      d01cfb26613e7ebfd53e8f50cfc2156a  5a6a5fb283c206e7d01effea87f68c8e   \n",
      "800      9afec9408d028b77ab396251cbaac609  446430ddcdcf9a0cd80706a25ac7a45b   \n",
      "819      96d46f4a620441197739c4d334364311  446430ddcdcf9a0cd80706a25ac7a45b   \n",
      "1164     de4997efdcdfa69819e1b0794815bb41  c46542bcd3fb900fa42d57d03cafb727   \n",
      "...                                   ...                               ...   \n",
      "7790636  672be194ab66116720214a875208541f  72a4e269893e6471c9d35f4ee0587251   \n",
      "7791125  4bee2cd0eb5568b44929635e27ed98ea  0c8b7c2a8bca48ba289cc589aad748e0   \n",
      "7791212  4019534b6bad8cdada154605bae3738f  009126a6f164ab270cb6c106b6a58028   \n",
      "7791339  c37822c30576714979c146f01c7c5863  e82685998023f680ddb24cad402164f7   \n",
      "7791754  4d152f383e239d57783e88f742d0688f  40d24c92a11a6ba7eae7583641869b07   \n",
      "\n",
      "         is_clk  is_like  is_addcart  is_order    expose_start_time        dt  \\\n",
      "705           1        0           1         0  2023-02-25 21:17:37  20230225   \n",
      "760           1        0           1         0  2023-02-06 13:53:07  20230206   \n",
      "800           1        0           1         0  2023-02-03 06:32:43  20230203   \n",
      "819           1        0           1         0  2023-02-15 19:28:54  20230215   \n",
      "1164          3        0           1         0  2023-02-11 12:01:51  20230211   \n",
      "...         ...      ...         ...       ...                  ...       ...   \n",
      "7790636       2        0           1         0  2023-02-23 23:07:32  20230223   \n",
      "7791125       1        0           1         0  2023-02-19 10:35:55  20230219   \n",
      "7791212       1        1           1         0  2023-02-19 14:56:52  20230219   \n",
      "7791339       2        0           2         0  2023-02-12 15:34:30  20230212   \n",
      "7791754       1        0           1         0  2023-02-08 23:43:49  20230208   \n",
      "\n",
      "                                   cat_id                           brandsn  \n",
      "705      51d4658087da422d04101a9a0a285704  270eb2cdd82dc2cb55d6c92b7569aec9  \n",
      "760      63acb20f1b206dbe562ff957e9ea4ac7  a2839c186aefd84d0ef4ad202eea3606  \n",
      "800      758874998f5bd0c393da094e1967a72b  a2839c186aefd84d0ef4ad202eea3606  \n",
      "819      758874998f5bd0c393da094e1967a72b  a2839c186aefd84d0ef4ad202eea3606  \n",
      "1164     5b322bb55cb8d9d00b8ca12a69349067  43a833379520e02a9cd949a157f80b32  \n",
      "...                                   ...                               ...  \n",
      "7790636  7adf9e7e32fbd06c997cb6f80fd308dc  f5c395f1f0acea60b70f71fab612cabc  \n",
      "7791125  1c4aacf677578cfe11cfb1960f5f1af2  2c8c49f8db803ab6bdcea87a6edc3069  \n",
      "7791212  4712efbfe871d8cc194cb9839439264f  59f89ffb7911e22135f9679291a0e82e  \n",
      "7791339  d1ae0db356f0caeabff956b4607171f8  fbc376eebfd2b1c171ad1b6e2fdc23c9  \n",
      "7791754  60ef3c9d030867722c65ef06ea768daa  02afdd82753dcd22bf7dd79a3cdfa522  \n",
      "\n",
      "[52134 rows x 10 columns]\n"
     ]
    }
   ],
   "source": [
    "#将train_agg_feat数据集中用户ID存在于测试集用户ID中的样本筛选出来\n",
    "train_agg_feat = train_agg_feat[train_agg_feat['goods_id'].isin(testa_goods['goods_id'])]\n",
    "print(train_agg_feat)"
   ],
   "metadata": {
    "collapsed": false,
    "ExecuteTime": {
     "end_time": "2023-05-30T13:52:28.231770700Z",
     "start_time": "2023-05-30T13:52:27.996766500Z"
    }
   }
  },
  {
   "cell_type": "code",
   "execution_count": 13,
   "outputs": [
    {
     "name": "stdout",
     "output_type": "stream",
     "text": [
      "                                                                  is_clk      \\\n",
      "                                                                     sum max   \n",
      "user_id                          goods_id                                      \n",
      "0001d0972cc56e776c676d036f3d1a60 000ee6621e5dc775c8e75f758030297c      2   1   \n",
      "                                 007738408f51e83d3f56897b6b8ecd06      1   1   \n",
      "                                 02cb92bc89b6264f405b3f15b7b76c9f      1   1   \n",
      "                                 044e82d678d8c12be0a08ab0c5bde583      1   1   \n",
      "                                 062c86a124d95036a0910e895efd0eeb      1   1   \n",
      "...                                                                  ...  ..   \n",
      "ffffb2aad8fd839b6f152ae9126a05ff fd6907060fb1e080f5a996347d9d2020      1   1   \n",
      "                                 fef0e42ef8f326a7691053f4a4de000b      1   1   \n",
      "                                 fefb7378e47a48cf9ee25ebee5d478ff      1   1   \n",
      "                                 ff8b7d565556bcfced37258d69ce6459      2   2   \n",
      "                                 ff96f17de1a5630cbb0d2da2ffe8f454      1   1   \n",
      "\n",
      "                                                                  is_like      \\\n",
      "                                                                      sum max   \n",
      "user_id                          goods_id                                       \n",
      "0001d0972cc56e776c676d036f3d1a60 000ee6621e5dc775c8e75f758030297c       0   0   \n",
      "                                 007738408f51e83d3f56897b6b8ecd06       0   0   \n",
      "                                 02cb92bc89b6264f405b3f15b7b76c9f       0   0   \n",
      "                                 044e82d678d8c12be0a08ab0c5bde583       0   0   \n",
      "                                 062c86a124d95036a0910e895efd0eeb       0   0   \n",
      "...                                                                   ...  ..   \n",
      "ffffb2aad8fd839b6f152ae9126a05ff fd6907060fb1e080f5a996347d9d2020       0   0   \n",
      "                                 fef0e42ef8f326a7691053f4a4de000b       0   0   \n",
      "                                 fefb7378e47a48cf9ee25ebee5d478ff       0   0   \n",
      "                                 ff8b7d565556bcfced37258d69ce6459       0   0   \n",
      "                                 ff96f17de1a5630cbb0d2da2ffe8f454       0   0   \n",
      "\n",
      "                                                                  is_addcart  \\\n",
      "                                                                         sum   \n",
      "user_id                          goods_id                                      \n",
      "0001d0972cc56e776c676d036f3d1a60 000ee6621e5dc775c8e75f758030297c          0   \n",
      "                                 007738408f51e83d3f56897b6b8ecd06          0   \n",
      "                                 02cb92bc89b6264f405b3f15b7b76c9f          0   \n",
      "                                 044e82d678d8c12be0a08ab0c5bde583          0   \n",
      "                                 062c86a124d95036a0910e895efd0eeb          0   \n",
      "...                                                                      ...   \n",
      "ffffb2aad8fd839b6f152ae9126a05ff fd6907060fb1e080f5a996347d9d2020          0   \n",
      "                                 fef0e42ef8f326a7691053f4a4de000b          0   \n",
      "                                 fefb7378e47a48cf9ee25ebee5d478ff          0   \n",
      "                                 ff8b7d565556bcfced37258d69ce6459          0   \n",
      "                                 ff96f17de1a5630cbb0d2da2ffe8f454          0   \n",
      "\n",
      "                                                                       \\\n",
      "                                                                  max   \n",
      "user_id                          goods_id                               \n",
      "0001d0972cc56e776c676d036f3d1a60 000ee6621e5dc775c8e75f758030297c   0   \n",
      "                                 007738408f51e83d3f56897b6b8ecd06   0   \n",
      "                                 02cb92bc89b6264f405b3f15b7b76c9f   0   \n",
      "                                 044e82d678d8c12be0a08ab0c5bde583   0   \n",
      "                                 062c86a124d95036a0910e895efd0eeb   0   \n",
      "...                                                                ..   \n",
      "ffffb2aad8fd839b6f152ae9126a05ff fd6907060fb1e080f5a996347d9d2020   0   \n",
      "                                 fef0e42ef8f326a7691053f4a4de000b   0   \n",
      "                                 fefb7378e47a48cf9ee25ebee5d478ff   0   \n",
      "                                 ff8b7d565556bcfced37258d69ce6459   0   \n",
      "                                 ff96f17de1a5630cbb0d2da2ffe8f454   0   \n",
      "\n",
      "                                                                  is_order      \n",
      "                                                                       sum max  \n",
      "user_id                          goods_id                                       \n",
      "0001d0972cc56e776c676d036f3d1a60 000ee6621e5dc775c8e75f758030297c        0   0  \n",
      "                                 007738408f51e83d3f56897b6b8ecd06        0   0  \n",
      "                                 02cb92bc89b6264f405b3f15b7b76c9f        0   0  \n",
      "                                 044e82d678d8c12be0a08ab0c5bde583        0   0  \n",
      "                                 062c86a124d95036a0910e895efd0eeb        0   0  \n",
      "...                                                                    ...  ..  \n",
      "ffffb2aad8fd839b6f152ae9126a05ff fd6907060fb1e080f5a996347d9d2020        0   0  \n",
      "                                 fef0e42ef8f326a7691053f4a4de000b        0   0  \n",
      "                                 fefb7378e47a48cf9ee25ebee5d478ff        0   0  \n",
      "                                 ff8b7d565556bcfced37258d69ce6459        0   0  \n",
      "                                 ff96f17de1a5630cbb0d2da2ffe8f454        0   0  \n",
      "\n",
      "[6809681 rows x 8 columns]\n"
     ]
    }
   ],
   "source": [
    "train_agg_feat = train_data.iloc[:].groupby(['user_id', 'goods_id']).agg({\n",
    "    'is_clk': ['sum', 'max'],\n",
    "    'is_like': ['sum', 'max'],\n",
    "    'is_addcart': ['sum', 'max'],\n",
    "    'is_order': ['sum', 'max'],\n",
    "})\n",
    "print(train_agg_feat)"
   ],
   "metadata": {
    "collapsed": false,
    "ExecuteTime": {
     "end_time": "2023-05-30T13:52:40.906457700Z",
     "start_time": "2023-05-30T13:52:28.234763900Z"
    }
   }
  },
  {
   "cell_type": "code",
   "execution_count": 14,
   "outputs": [
    {
     "name": "stdout",
     "output_type": "stream",
     "text": [
      "                                  user_id                          goods_id  \\\n",
      "0        0001d0972cc56e776c676d036f3d1a60  000ee6621e5dc775c8e75f758030297c   \n",
      "1        0001d0972cc56e776c676d036f3d1a60  007738408f51e83d3f56897b6b8ecd06   \n",
      "2        0001d0972cc56e776c676d036f3d1a60  02cb92bc89b6264f405b3f15b7b76c9f   \n",
      "3        0001d0972cc56e776c676d036f3d1a60  044e82d678d8c12be0a08ab0c5bde583   \n",
      "4        0001d0972cc56e776c676d036f3d1a60  062c86a124d95036a0910e895efd0eeb   \n",
      "...                                   ...                               ...   \n",
      "6809676  ffffb2aad8fd839b6f152ae9126a05ff  fd6907060fb1e080f5a996347d9d2020   \n",
      "6809677  ffffb2aad8fd839b6f152ae9126a05ff  fef0e42ef8f326a7691053f4a4de000b   \n",
      "6809678  ffffb2aad8fd839b6f152ae9126a05ff  fefb7378e47a48cf9ee25ebee5d478ff   \n",
      "6809679  ffffb2aad8fd839b6f152ae9126a05ff  ff8b7d565556bcfced37258d69ce6459   \n",
      "6809680  ffffb2aad8fd839b6f152ae9126a05ff  ff96f17de1a5630cbb0d2da2ffe8f454   \n",
      "\n",
      "         is_clk_sum  is_clk_max  is_like_sum  is_like_max  is_addcart_sum  \\\n",
      "0                 2           1            0            0               0   \n",
      "1                 1           1            0            0               0   \n",
      "2                 1           1            0            0               0   \n",
      "3                 1           1            0            0               0   \n",
      "4                 1           1            0            0               0   \n",
      "...             ...         ...          ...          ...             ...   \n",
      "6809676           1           1            0            0               0   \n",
      "6809677           1           1            0            0               0   \n",
      "6809678           1           1            0            0               0   \n",
      "6809679           2           2            0            0               0   \n",
      "6809680           1           1            0            0               0   \n",
      "\n",
      "         is_addcart_max  is_order_sum  is_order_max  \n",
      "0                     0             0             0  \n",
      "1                     0             0             0  \n",
      "2                     0             0             0  \n",
      "3                     0             0             0  \n",
      "4                     0             0             0  \n",
      "...                 ...           ...           ...  \n",
      "6809676               0             0             0  \n",
      "6809677               0             0             0  \n",
      "6809678               0             0             0  \n",
      "6809679               0             0             0  \n",
      "6809680               0             0             0  \n",
      "\n",
      "[6809681 rows x 10 columns]\n"
     ]
    }
   ],
   "source": [
    "#重置索引和重命名列名，将聚合后的列名更改为可读性更好的名称\n",
    "train_agg_feat = train_agg_feat.reset_index()\n",
    "train_agg_feat.columns = [\n",
    "    'user_id',\n",
    "    'goods_id',\n",
    "    'is_clk_sum',\n",
    "    'is_clk_max',\n",
    "    'is_like_sum',\n",
    "    'is_like_max',\n",
    "    'is_addcart_sum',\n",
    "    'is_addcart_max',\n",
    "    'is_order_sum',\n",
    "    'is_order_max'\n",
    " ]\n",
    "print(train_agg_feat)"
   ],
   "metadata": {
    "collapsed": false,
    "ExecuteTime": {
     "end_time": "2023-05-30T13:52:42.510936300Z",
     "start_time": "2023-05-30T13:52:40.910439800Z"
    }
   }
  },
  {
   "cell_type": "code",
   "execution_count": 15,
   "outputs": [
    {
     "name": "stdout",
     "output_type": "stream",
     "text": [
      "                                  is_clk_sum  is_order_max\n",
      "goods_id                                                  \n",
      "0000023dda9f904c410105d857c6927e          16             0\n",
      "000003b10b22b2d27df0a1a4c4505abf           6             0\n",
      "00000983d7e3042755464d42add9c764           1             0\n",
      "00000cf019f22a5d08cf6e4d1818abe4           1             0\n",
      "000027e502af2eeaffdbf672ec90a708           6             0\n",
      "...                                      ...           ...\n",
      "ffffd179dfe4e14f5ca51b52e9269cbe           1             0\n",
      "ffffdf0c9e67f479b8e8b545b81c52c6           7             0\n",
      "ffffe146c8858f0cef9bcd81d70d8f5b          34             1\n",
      "ffffe8e1352a28c47e85d49bdf3e0bb5           7             0\n",
      "ffffff57a7cad7becd372c6aad18612a          41             0\n",
      "\n",
      "[1531526 rows x 2 columns]\n",
      "Index(['0002686b20b4da254a4020a0bfb95997', '0015cec2763fadb67ce4ba27623358cf',\n",
      "       '001676d51ac46afd4e091927b7b969d9', '002147e69a005e54e334910fde92fa2d',\n",
      "       '00606f4ef5b3de3427f6d91861e2cb56', '009a3b0090d9fd246f0e74a92813b954',\n",
      "       '00a5ffc1ee0dc05ee39a419f9b1e16b1', '00d4c7b63254136e1ea3acea3436aaf8',\n",
      "       '00db1d65379328e1b1aa4b8c644a9eb3', '019e545ef73ea1c497214fc6f9524df0',\n",
      "       ...\n",
      "       'ff8b0f8fbd81db57a3630cf55cc46d27', 'ff8c800d250781a439d224d094e0165c',\n",
      "       'ff93d8fcbcb82ded806fa65b548768b8', 'ffa1293dc1d0a24fd5d3b017e84f4e9f',\n",
      "       'ffa98b0af8d8825bf5d6df3d026ab3f1', 'ffc00e1d7fcee3c2fcbaebe1140c6686',\n",
      "       'ffc012f885392d8abf8b1f5fcb35af3d', 'ffcbaa9863a79619b9428827103485a0',\n",
      "       'ffe4315fb7cbe05d1829da3004837b84', 'ffff215d317970e214a79681707e6ed1'],\n",
      "      dtype='object', name='goods_id', length=1718)\n"
     ]
    }
   ],
   "source": [
    "#对聚合后的数据进行进一步的分组聚合操作，计算每个商品的点击次数总和和最大订单数总和，并筛选出点击次数大于100的商品ID\n",
    "test_goods_id_agg = train_agg_feat.groupby('goods_id').agg({\n",
    "    'is_clk_sum': 'sum',\n",
    "    'is_order_max': 'sum'\n",
    "})\n",
    "print(test_goods_id_agg)\n",
    "test_goods_id_agg = test_goods_id_agg[test_goods_id_agg['is_clk_sum'] > 100]\n",
    "test_valid_goods = test_goods_id_agg.index\n",
    "print(test_valid_goods)"
   ],
   "metadata": {
    "collapsed": false,
    "ExecuteTime": {
     "end_time": "2023-05-30T13:52:48.463676700Z",
     "start_time": "2023-05-30T13:52:42.507944600Z"
    }
   }
  },
  {
   "cell_type": "code",
   "execution_count": 16,
   "outputs": [
    {
     "name": "stdout",
     "output_type": "stream",
     "text": [
      "                                  user_id                          goods_id  \\\n",
      "390      000c81287b218ec3e2245a33464992fe  8b5a5db81fc5d86c0e4c9de7b8a96f72   \n",
      "394      000c81287b218ec3e2245a33464992fe  90224d8c0354a3b6383dcf400b45034f   \n",
      "670      0015421d3e9341bf4f1674f7dd4aa583  0632f9823ec79a93b4ddb9412fc9dcac   \n",
      "688      0015421d3e9341bf4f1674f7dd4aa583  1b41d6e717ee097750a14ae2b9b0b306   \n",
      "697      0015421d3e9341bf4f1674f7dd4aa583  21ddf62d1f2ec037a76f84599e16c1eb   \n",
      "...                                   ...                               ...   \n",
      "4020067  98506d83368afbea7c079cb5a128c073  d3a5194421fa95b463cab6c03a622d39   \n",
      "1970681  4aee9b2e11537d17753ca354b33eee83  6de9460f3fe9ae8f2355902dde65a439   \n",
      "3819065  90d395cab541d8991c4815a5617c1b44  376cb3d36d4cf448e6290916bbec318f   \n",
      "3867092  92add707414d79a5a1e42c85a36067f4  72df0c7e4acdaa9c8fdcf4eb2aac0b9b   \n",
      "3881313  934d7a61a0d0309f6318515bbd2ef944  2f982447956f5e1846defc45fc199900   \n",
      "\n",
      "         is_clk_sum  is_clk_max  is_like_sum  is_like_max  is_addcart_sum  \\\n",
      "390               1           1            0            0               1   \n",
      "394               1           1            0            0               1   \n",
      "670               2           1            0            0               1   \n",
      "688               2           2            0            0               1   \n",
      "697               3           3            1            1               0   \n",
      "...             ...         ...          ...          ...             ...   \n",
      "4020067           1           1            0            0               0   \n",
      "1970681           1           1            0            0               0   \n",
      "3819065           1           1            0            0               0   \n",
      "3867092           1           1            0            0               1   \n",
      "3881313           1           1            0            0               0   \n",
      "\n",
      "         is_addcart_max  is_order_sum  is_order_max  \n",
      "390                   1             1             1  \n",
      "394                   1             1             1  \n",
      "670                   1             1             1  \n",
      "688                   1             1             1  \n",
      "697                   0             1             1  \n",
      "...                 ...           ...           ...  \n",
      "4020067               0             0             0  \n",
      "1970681               0             0             0  \n",
      "3819065               0             0             0  \n",
      "3867092               1             0             0  \n",
      "3881313               0             0             0  \n",
      "\n",
      "[258835 rows x 10 columns]\n",
      "15\n",
      "23\n"
     ]
    }
   ],
   "source": [
    "#从聚合后的数据集中选择有下单行为的样本和少量的无下单行为的样本，合并成一个新的训练数据集train_feat_downsample\n",
    "train_feat_downsmaple = pd.concat([\n",
    "    train_agg_feat[train_agg_feat['is_order_max'] !=0],\n",
    "    train_agg_feat[train_agg_feat['is_order_max'] ==0].sample(int(0.03 * len(train_agg_feat)))\n",
    "], axis=0)\n",
    "print(train_feat_downsmaple)\n",
    "print(train_feat_downsmaple['is_order_max'].max())\n",
    "print(train_feat_downsmaple['is_addcart_max'].max())"
   ],
   "metadata": {
    "collapsed": false,
    "ExecuteTime": {
     "end_time": "2023-05-30T13:52:49.821792300Z",
     "start_time": "2023-05-30T13:52:48.468663800Z"
    }
   }
  },
  {
   "cell_type": "code",
   "execution_count": 17,
   "outputs": [
    {
     "data": {
      "text/plain": "0.7795159078177217"
     },
     "execution_count": 17,
     "metadata": {},
     "output_type": "execute_result"
    }
   ],
   "source": [
    "#计算采样后训练数据集中无下单行为的比例\n",
    "1 - train_feat_downsmaple['is_order_max'].mean()"
   ],
   "metadata": {
    "collapsed": false,
    "ExecuteTime": {
     "end_time": "2023-05-30T13:52:49.837792800Z",
     "start_time": "2023-05-30T13:52:49.823786500Z"
    }
   }
  },
  {
   "cell_type": "code",
   "execution_count": 18,
   "outputs": [
    {
     "data": {
      "text/plain": "0.7573705256244325"
     },
     "execution_count": 18,
     "metadata": {},
     "output_type": "execute_result"
    }
   ],
   "source": [
    "#计算采样后训练数据集中无加购物车行为的比例\n",
    "1 - train_feat_downsmaple['is_addcart_max'].mean()"
   ],
   "metadata": {
    "collapsed": false,
    "ExecuteTime": {
     "end_time": "2023-05-30T13:52:49.881675900Z",
     "start_time": "2023-05-30T13:52:49.838792200Z"
    }
   }
  },
  {
   "cell_type": "code",
   "execution_count": 19,
   "outputs": [],
   "source": [
    "#进行编码转换\n",
    "train_feat_downsmaple['user_id'] = user_encode.transform(train_feat_downsmaple['user_id'])\n",
    "train_feat_downsmaple['goods_id'] = goods_encode.transform(train_feat_downsmaple['goods_id'])"
   ],
   "metadata": {
    "collapsed": false,
    "ExecuteTime": {
     "end_time": "2023-05-30T13:52:54.093190500Z",
     "start_time": "2023-05-30T13:52:49.855745200Z"
    }
   }
  },
  {
   "cell_type": "code",
   "execution_count": 20,
   "outputs": [],
   "source": [
    "import paddle\n",
    "import paddle.nn as nn\n",
    "from paddle.io import Dataset\n",
    "\n",
    "class SelfDefinedDataset(Dataset):\n",
    "    def __init__(self, df, mode = 'train'):\n",
    "        super(SelfDefinedDataset, self).__init__()\n",
    "        self.df = df\n",
    "        self.mode = mode\n",
    "\n",
    "    def __getitem__(self, idx):\n",
    "        if self.mode == 'predict':\n",
    "            return (\n",
    "                self.df['user_id'].iloc[idx],\n",
    "                self.df['goods_id'].iloc[idx],\n",
    "                self.df['is_clk_max'].iloc[idx],\n",
    "                self.df['is_like_max'].iloc[idx],\n",
    "                self.df['is_addcart_max'].iloc[idx],\n",
    "            )\n",
    "        else:\n",
    "            return (\n",
    "                self.df['user_id'].iloc[idx],\n",
    "                self.df['goods_id'].iloc[idx],\n",
    "                self.df['is_clk_max'].iloc[idx],\n",
    "                (self.df['is_like_max'].iloc[idx]!= 0).astype('int64'),\n",
    "                (self.df['is_addcart_max'].iloc[idx] != 0).astype('int64'),\n",
    "                (self.df['is_order_max'].iloc[idx] != 0).astype('int64')\n",
    "            )\n",
    "\n",
    "    def __len__(self):\n",
    "        return len(self.df)"
   ],
   "metadata": {
    "collapsed": false,
    "ExecuteTime": {
     "end_time": "2023-05-30T13:52:56.506639300Z",
     "start_time": "2023-05-30T13:52:54.098271700Z"
    }
   }
  },
  {
   "cell_type": "code",
   "execution_count": 21,
   "outputs": [],
   "source": [
    "EMBEDDING_SIZE = 256\n",
    "\n",
    "# 定义深度学习模型\n",
    "class RecommenderNet(nn.Layer):\n",
    "    def __init__(self, num_users, num_goods, embedding_size, numeric_size):\n",
    "        super(RecommenderNet, self).__init__()\n",
    "        self.num_users = num_users\n",
    "        self.num_goods = num_goods\n",
    "        self.embedding_size = embedding_size\n",
    "\n",
    "        weight_attr_user = paddle.ParamAttr(\n",
    "            regularizer = paddle.regularizer.L2Decay(1e-6),\n",
    "            initializer = nn.initializer.KaimingNormal()\n",
    "            )\n",
    "        self.user_embedding = nn.Embedding(\n",
    "            num_users,\n",
    "            embedding_size,\n",
    "            weight_attr=weight_attr_user\n",
    "        )\n",
    "\n",
    "        weight_attr_movie = paddle.ParamAttr(\n",
    "            regularizer = paddle.regularizer.L2Decay(1e-6),\n",
    "            initializer = nn.initializer.KaimingNormal()\n",
    "            )\n",
    "        self.goods_embedding = nn.Embedding(\n",
    "            num_goods,\n",
    "            embedding_size,\n",
    "            weight_attr=weight_attr_movie\n",
    "        )\n",
    "\n",
    "        self.linear = nn.Linear(\n",
    "            2 * embedding_size, 1\n",
    "        )\n",
    "\n",
    "    def forward(self, data):\n",
    "        user, goods, feat = data[0], data[1], [data[idx] for idx in [2, 3,4]]\n",
    "        feat = paddle.stack(feat, 1).astype(paddle.float32)\n",
    "\n",
    "        user_vector = self.user_embedding(user)\n",
    "        goods_vector = self.goods_embedding(goods)\n",
    "        x = paddle.concat([user_vector, goods_vector], 1)\n",
    "        return self.linear(x)"
   ],
   "metadata": {
    "collapsed": false,
    "ExecuteTime": {
     "end_time": "2023-05-30T13:52:56.522648700Z",
     "start_time": "2023-05-30T13:52:56.511625900Z"
    }
   }
  },
  {
   "cell_type": "code",
   "execution_count": 22,
   "outputs": [
    {
     "data": {
      "text/plain": "RecommenderNet(\n  (user_embedding): Embedding(51602, 128, sparse=False)\n  (goods_embedding): Embedding(3465659, 128, sparse=False)\n  (linear): Linear(in_features=256, out_features=1, dtype=float32)\n)"
     },
     "execution_count": 22,
     "metadata": {},
     "output_type": "execute_result"
    }
   ],
   "source": [
    "# 定义模型损失函数、优化器和评价指标\n",
    "model = RecommenderNet(len(user_encode.classes_), len(goods_encode.classes_), 128, 3)\n",
    "model"
   ],
   "metadata": {
    "collapsed": false,
    "ExecuteTime": {
     "end_time": "2023-05-30T13:52:59.964500700Z",
     "start_time": "2023-05-30T13:52:56.523646400Z"
    }
   }
  },
  {
   "cell_type": "code",
   "execution_count": 23,
   "outputs": [],
   "source": [
    "optimizer = paddle.optimizer.SGD(parameters=model.parameters(), learning_rate=0.01)\n",
    "loss_fn = nn.BCEWithLogitsLoss()"
   ],
   "metadata": {
    "collapsed": false,
    "ExecuteTime": {
     "end_time": "2023-05-30T13:53:00.009471300Z",
     "start_time": "2023-05-30T13:52:59.967492800Z"
    }
   }
  },
  {
   "cell_type": "code",
   "execution_count": 24,
   "outputs": [
    {
     "name": "stdout",
     "output_type": "stream",
     "text": [
      "0 0.5035862006272442\n",
      "1 0.5027544202536248\n",
      "2 0.5024135266578792\n",
      "3 0.502954411163129\n",
      "4 0.5034407526930594\n",
      "5 0.5035180219080951\n",
      "6 0.503286214262988\n",
      "7 0.502954411163129\n",
      "8 0.5025044316167447\n",
      "9 0.5038770964956139\n"
     ]
    }
   ],
   "source": [
    "# 模型训练\n",
    "Train_Loss = []\n",
    "\n",
    "for epoch in range(10):\n",
    "    #将数据集的样本顺序进行洗牌\n",
    "    train_feat_downsmaple = train_feat_downsmaple.sample(frac=1.0)\n",
    "    #训练集为数据集的前85% 每个批次中的样本数量为128 在每个迭代中对数据进行随机洗牌\n",
    "    traindataset = SelfDefinedDataset(train_feat_downsmaple.iloc[:-int(-0.15*len(train_feat_downsmaple))])\n",
    "    train_loader = paddle.io.DataLoader(traindataset, batch_size = 128, shuffle = True)\n",
    "    #验证集为数据集的后15% 每个批次中的样本数量为128 在每个迭代中对数据进行随机洗牌\n",
    "    validdataset = SelfDefinedDataset(train_feat_downsmaple.iloc[-int(-0.15*len(train_feat_downsmaple)):])\n",
    "    valid_loader = paddle.io.DataLoader(validdataset, batch_size = 128, shuffle = True)\n",
    "    model.train()\n",
    "    for i, data in enumerate(train_loader):\n",
    "        pred = model(data)\n",
    "        #计算损失值\n",
    "        loss = loss_fn(data[-1].astype(paddle.float32), pred.flatten(), )\n",
    "        #将损失值添加到训练损失列表中\n",
    "        Train_Loss.append(loss.item())\n",
    "        #根据损失值计算梯度\n",
    "        loss.backward()\n",
    "        #根据梯度更新模型参数\n",
    "        optimizer.step()\n",
    "        #清除梯度信息，为下一次迭代准备\n",
    "        optimizer.clear_grad()\n",
    "\n",
    "    # 模型验证\n",
    "    Val_acc = []\n",
    "    model.eval()\n",
    "    with paddle.no_grad():\n",
    "        for i, data in enumerate(valid_loader):\n",
    "            pred = model(data)\n",
    "            Val_acc.append(((pred.flatten() > 0).astype(paddle.int64) == data[-1]).sum().item())\n",
    "    print(epoch, np.sum(Val_acc) / len(valid_loader.dataset))"
   ],
   "metadata": {
    "collapsed": false,
    "ExecuteTime": {
     "end_time": "2023-05-30T13:56:40.388252200Z",
     "start_time": "2023-05-30T13:52:59.981547300Z"
    }
   }
  },
  {
   "cell_type": "code",
   "execution_count": 25,
   "outputs": [],
   "source": [
    "test_valid_goods = test_valid_goods[test_valid_goods.isin(test_valid_goods)]\n",
    "\n",
    "test_feat_agg = []\n",
    "for user in testa_user['user_id'].values:\n",
    "    for goods in test_valid_goods:\n",
    "        test_feat_agg.append([user, goods])"
   ],
   "metadata": {
    "collapsed": false,
    "ExecuteTime": {
     "end_time": "2023-05-30T13:56:45.146371300Z",
     "start_time": "2023-05-30T13:56:40.389249500Z"
    }
   }
  },
  {
   "cell_type": "code",
   "execution_count": 26,
   "outputs": [],
   "source": [
    "test_feat_agg = pd.DataFrame(test_feat_agg)\n",
    "test_feat_agg.columns = ['user_id', 'goods_id']"
   ],
   "metadata": {
    "collapsed": false,
    "ExecuteTime": {
     "end_time": "2023-05-30T13:56:46.168832500Z",
     "start_time": "2023-05-30T13:56:45.148367500Z"
    }
   }
  },
  {
   "cell_type": "code",
   "execution_count": 27,
   "outputs": [],
   "source": [
    "test_feat_agg = pd.merge(test_feat_agg, train_agg_feat, on=['user_id', 'goods_id'])"
   ],
   "metadata": {
    "collapsed": false,
    "ExecuteTime": {
     "end_time": "2023-05-30T13:56:52.345094400Z",
     "start_time": "2023-05-30T13:56:46.171824800Z"
    }
   }
  },
  {
   "cell_type": "code",
   "execution_count": 28,
   "outputs": [],
   "source": [
    "test_feat_agg['user_id'] = user_encode.transform(test_feat_agg['user_id'])\n",
    "test_feat_agg['goods_id'] = goods_encode.transform(test_feat_agg['goods_id'])"
   ],
   "metadata": {
    "collapsed": false,
    "ExecuteTime": {
     "end_time": "2023-05-30T13:56:56.288687400Z",
     "start_time": "2023-05-30T13:56:52.347089100Z"
    }
   }
  },
  {
   "cell_type": "code",
   "execution_count": 29,
   "outputs": [],
   "source": [
    "testdataset = SelfDefinedDataset(test_feat_agg)\n",
    "test_loader = paddle.io.DataLoader(testdataset, batch_size = 128, shuffle = False)"
   ],
   "metadata": {
    "collapsed": false,
    "ExecuteTime": {
     "end_time": "2023-05-30T13:56:56.298661500Z",
     "start_time": "2023-05-30T13:56:56.279714Z"
    }
   }
  },
  {
   "cell_type": "code",
   "execution_count": 30,
   "outputs": [],
   "source": [
    "model.eval()\n",
    "\n",
    "test_pred = []\n",
    "with paddle.no_grad():\n",
    "    for i, data in enumerate(test_loader):\n",
    "        pred = model(data)\n",
    "        test_pred += list((paddle.nn.functional.sigmoid(pred) > 0.5).numpy().reshape(-1))"
   ],
   "metadata": {
    "collapsed": false,
    "ExecuteTime": {
     "end_time": "2023-05-30T13:56:58.854361700Z",
     "start_time": "2023-05-30T13:56:56.294671900Z"
    }
   }
  },
  {
   "cell_type": "code",
   "execution_count": 31,
   "outputs": [
    {
     "name": "stderr",
     "output_type": "stream",
     "text": [
      "C:\\Users\\10731\\AppData\\Local\\Temp\\ipykernel_27004\\2098467592.py:3: SettingWithCopyWarning: \n",
      "A value is trying to be set on a copy of a slice from a DataFrame.\n",
      "Try using .loc[row_indexer,col_indexer] = value instead\n",
      "\n",
      "See the caveats in the documentation: https://pandas.pydata.org/pandas-docs/stable/user_guide/indexing.html#returning-a-view-versus-a-copy\n",
      "  test_feat_agg['user_id'] = user_encode.inverse_transform(test_feat_agg['user_id'])\n",
      "C:\\Users\\10731\\AppData\\Local\\Temp\\ipykernel_27004\\2098467592.py:4: SettingWithCopyWarning: \n",
      "A value is trying to be set on a copy of a slice from a DataFrame.\n",
      "Try using .loc[row_indexer,col_indexer] = value instead\n",
      "\n",
      "See the caveats in the documentation: https://pandas.pydata.org/pandas-docs/stable/user_guide/indexing.html#returning-a-view-versus-a-copy\n",
      "  test_feat_agg['goods_id'] = goods_encode.inverse_transform(test_feat_agg['goods_id'])\n"
     ]
    }
   ],
   "source": [
    "test_feat_agg['pred'] = test_pred\n",
    "test_feat_agg = test_feat_agg[test_feat_agg['pred']]\n",
    "test_feat_agg['user_id'] = user_encode.inverse_transform(test_feat_agg['user_id'])\n",
    "test_feat_agg['goods_id'] = goods_encode.inverse_transform(test_feat_agg['goods_id'])"
   ],
   "metadata": {
    "collapsed": false,
    "ExecuteTime": {
     "end_time": "2023-05-30T13:56:58.950521300Z",
     "start_time": "2023-05-30T13:56:58.856357700Z"
    }
   }
  },
  {
   "cell_type": "code",
   "execution_count": 33,
   "outputs": [],
   "source": [
    "test_feat_agg[['user_id', 'goods_id']].to_csv('u2i.csv', index=None, header=None)"
   ],
   "metadata": {
    "collapsed": false,
    "ExecuteTime": {
     "end_time": "2023-05-30T14:02:33.499798200Z",
     "start_time": "2023-05-30T14:02:33.448933500Z"
    }
   }
  },
  {
   "cell_type": "code",
   "execution_count": 34,
   "outputs": [
    {
     "name": "stdout",
     "output_type": "stream",
     "text": [
      "列已成功添加到第一行！\n"
     ]
    }
   ],
   "source": [
    "import csv\n",
    "\n",
    "# 定义要添加的列名\n",
    "new_columns = [\"user_id\", \"goods_id\"]\n",
    "\n",
    "# 打开原始CSV文件并读取数据\n",
    "with open(\"u2i.csv\", \"r\") as file:\n",
    "    reader = csv.reader(file)\n",
    "    data = list(reader)\n",
    "\n",
    "# 在第一行插入新的列名\n",
    "data[0] = new_columns\n",
    "\n",
    "# 将更新后的数据写入新的CSV文件\n",
    "with open(\"u2i_updated.csv\", \"w\", newline=\"\") as file:\n",
    "    writer = csv.writer(file)\n",
    "    writer.writerows(data)\n",
    "\n",
    "print(\"列已成功添加到第一行！\")"
   ],
   "metadata": {
    "collapsed": false,
    "ExecuteTime": {
     "end_time": "2023-05-30T14:03:07.488720400Z",
     "start_time": "2023-05-30T14:03:07.435791600Z"
    }
   }
  },
  {
   "cell_type": "code",
   "execution_count": null,
   "outputs": [],
   "source": [],
   "metadata": {
    "collapsed": false
   }
  }
 ],
 "metadata": {
  "kernelspec": {
   "display_name": "Python 3",
   "language": "python",
   "name": "python3"
  },
  "language_info": {
   "codemirror_mode": {
    "name": "ipython",
    "version": 2
   },
   "file_extension": ".py",
   "mimetype": "text/x-python",
   "name": "python",
   "nbconvert_exporter": "python",
   "pygments_lexer": "ipython2",
   "version": "2.7.6"
  }
 },
 "nbformat": 4,
 "nbformat_minor": 0
}
